{
  "nbformat": 4,
  "nbformat_minor": 0,
  "metadata": {
    "colab": {
      "name": "UnderstandingLossFunctions.ipynb",
      "provenance": [],
      "collapsed_sections": [],
      "include_colab_link": true
    },
    "kernelspec": {
      "name": "python3",
      "display_name": "Python 3"
    },
    "accelerator": "GPU"
  },
  "cells": [
    {
      "cell_type": "markdown",
      "metadata": {
        "id": "view-in-github",
        "colab_type": "text"
      },
      "source": [
        "<a href=\"https://colab.research.google.com/github/EiffL/Tutorials/blob/master/ClusterMasses/UnderstandingLossFunctions.ipynb\" target=\"_parent\"><img src=\"https://colab.research.google.com/assets/colab-badge.svg\" alt=\"Open In Colab\"/></a>"
      ]
    },
    {
      "cell_type": "markdown",
      "metadata": {
        "id": "byr6_uC0Viyx"
      },
      "source": [
        "##### Copyright 2019-2021 Francois Lanusse.\n",
        "\n",
        "Licensed under the Apache License, Version 2.0 (the \"License\");"
      ]
    },
    {
      "cell_type": "markdown",
      "metadata": {
        "id": "Hq5qqz-kVoAq"
      },
      "source": [
        "## Understanding Regression Loss Functions And Introduction to TensorFlow Probability\n",
        "\n",
        "Author: [@EiffL](https://github.com/EiffL) (Francois Lanusse)\n",
        "\n",
        "### Overview\n",
        "\n",
        "In this short notebook, we will try to solve a simple regression problem where \n",
        "the error distribution is unknown, and in particular heteroscedastic and asymetric. This will teach us about what information is recovered by different \n",
        "usual regression loss functions like mean absolute error and mean square error losses. And finally, we will see that using [TensorFlow Probability](https://www.tensorflow.org/probability) (TFP) we can model \n",
        "a full posterior probability and extract any summary we want from it.\n",
        "\n",
        "### Learning goals\n",
        "\n",
        "In this notebook, we will learn:\n",
        "*   The probabilistic interpretation of common regression loss functions\n",
        "*   How to use TFP for modelling distributions in Keras\n",
        "*   How to build and use a Mixture Density Network\n",
        "\n"
      ]
    },
    {
      "cell_type": "code",
      "metadata": {
        "id": "M7dtJZA4VgUp",
        "colab": {
          "base_uri": "https://localhost:8080/"
        },
        "outputId": "90a7e529-86b6-4176-b2c5-f52c3d3b632f"
      },
      "source": [
        "#@title Imports { display-mode: \"form\" }\n",
        "%pylab inline\n",
        "import seaborn as sns\n",
        "import tensorflow as tf\n",
        "import tensorflow_probability as tfp\n",
        "\n",
        "#Checking for GPU access\n",
        "if tf.test.gpu_device_name() != '/device:GPU:0':\n",
        "  print('WARNING: GPU device not found.')\n",
        "else:\n",
        "  print('SUCCESS: Found GPU: {}'.format(tf.test.gpu_device_name()))"
      ],
      "execution_count": 1,
      "outputs": [
        {
          "output_type": "stream",
          "name": "stdout",
          "text": [
            "Populating the interactive namespace from numpy and matplotlib\n",
            "SUCCESS: Found GPU: /device:GPU:0\n"
          ]
        }
      ]
    },
    {
      "cell_type": "markdown",
      "metadata": {
        "id": "BawVZXB_kO5a"
      },
      "source": [
        "If the GPU fails to load, activate the GPU hardware acceleration in `Runtime > Change Runtime Type`"
      ]
    },
    {
      "cell_type": "markdown",
      "metadata": {
        "id": "RlfcYKnZWjEQ"
      },
      "source": [
        "## Generating some data\n",
        "\n",
        "We begin by generating some data sampled from a distribution $p(y | x)$ constructed from a log normal distribution with \n",
        "\n",
        "log normal distribution with position and sigma "
      ]
    },
    {
      "cell_type": "code",
      "metadata": {
        "id": "aHaUm5B2Wf1q"
      },
      "source": [
        "from scipy.stats import lognorm\n",
        "\n",
        "x = linspace(0.1,1.5)\n",
        "def model(x):\n",
        "  return lognorm.rvs(s=x, loc=2*x)"
      ],
      "execution_count": 2,
      "outputs": []
    },
    {
      "cell_type": "code",
      "metadata": {
        "id": "0-A6JXfDWsI_",
        "colab": {
          "base_uri": "https://localhost:8080/",
          "height": 283
        },
        "outputId": "68255e16-bafc-41f0-ac06-9a388829ae46"
      },
      "source": [
        "scatter(x, model(x))\n",
        "xlabel('x')\n",
        "ylabel('y')\n",
        "ylim(0,12);"
      ],
      "execution_count": 3,
      "outputs": [
        {
          "output_type": "display_data",
          "data": {
            "image/png": "[encoded data removed]",
            "text/plain": [
              "<Figure size 432x288 with 1 Axes>"
            ]
          },
          "metadata": {
            "needs_background": "light"
          }
        }
      ]
    },
    {
      "cell_type": "markdown",
      "metadata": {
        "id": "lhcAQvnZltt9"
      },
      "source": [
        "The task will be:\n",
        "```\n",
        "Given this data, solve a regression problem and estimate y given x.\n",
        "```\n",
        "As we will see in this notebook, this is not well defined at all ;-) There is no\n",
        "single answer, the problem is degenerate, for a given $x$ there is actually a full distribution of possible $y$. What is regression in this context, do we mean the mean, the mode, or the median of $p(y | x)$, and if so, how do we estimate them?"
      ]
    },
    {
      "cell_type": "code",
      "metadata": {
        "id": "_rEmK2VtW1QJ",
        "colab": {
          "base_uri": "https://localhost:8080/",
          "height": 301
        },
        "outputId": "cdcec17a-8c4b-4a85-f7b9-a4fe71d0c90d"
      },
      "source": [
        "scatter(x, model(x))\n",
        "plot(x, lognorm.mean(x, loc=2*x), label='p(y|x) mean')\n",
        "plot(x, lognorm.median(x, loc=2*x), label='p(y|x) median')\n",
        "plot(x, exp(- x**2) + 2*x, label='p(y|x) mode')\n",
        "ylim(0,12)\n",
        "legend()\n",
        "xlabel('x')\n",
        "ylabel('y')"
      ],
      "execution_count": 4,
      "outputs": [
        {
          "output_type": "execute_result",
          "data": {
            "text/plain": [
              "Text(0, 0.5, 'y')"
            ]
          },
          "metadata": {},
          "execution_count": 4
        },
        {
          "output_type": "display_data",
          "data": {
            "image/png": "[encoded data removed]",
            "text/plain": [
              "<Figure size 432x288 with 1 Axes>"
            ]
          },
          "metadata": {
            "needs_background": "light"
          }
        }
      ]
    },
    {
      "cell_type": "code",
      "metadata": {
        "id": "VAl1PcTcmu2Y"
      },
      "source": [
        "# Building training and testing sets \n",
        "x_train = np.random.uniform(0.1,1.5,100*1000).reshape(1000,100)\n",
        "y_train = model(x_train)\n",
        "\n",
        "x_test = np.random.uniform(0.1,1.5,100*1000).reshape(1000,100)\n",
        "y_test = model(x_test)"
      ],
      "execution_count": 5,
      "outputs": []
    },
    {
      "cell_type": "markdown",
      "metadata": {
        "id": "sP24f8MLnOKc"
      },
      "source": [
        "## Exercise 1: Regression with l1 and l2 losses\n",
        "\n",
        "In this first exercise, let's attempt a standard regression. We begin with the \n",
        "usual mean squared error, a.k.a. l2 loss $\\mathcal{L} = \\parallel y - f_\\varphi(x) \\parallel_2^2$.\n",
        "Here is a simple Keras model using an l2 loss for the regressoin:\n"
      ]
    },
    {
      "cell_type": "code",
      "metadata": {
        "id": "kdfz2oXYagHJ",
        "colab": {
          "base_uri": "https://localhost:8080/"
        },
        "outputId": "4800862d-c11e-4552-85d8-20ebe52268be"
      },
      "source": [
        "import tensorflow.keras as keras\n",
        "\n",
        "learning_rate=1e-3\n",
        "decay=1e-6\n",
        "\n",
        "l2_model = keras.Sequential([\n",
        "    keras.layers.Dense(units=128, activation='relu', input_shape=(1,)),\n",
        "    keras.layers.Dense(units=128, activation='tanh'),\n",
        "    keras.layers.Dense(units=1)\n",
        "])\n",
        "\n",
        "opt = keras.optimizers.Adam(lr=learning_rate, decay=decay)\n",
        "\n",
        "l2_model.compile(loss='mean_squared_error', optimizer=opt)"
      ],
      "execution_count": 6,
      "outputs": [
        {
          "output_type": "stream",
          "name": "stderr",
          "text": [
            "/usr/local/lib/python3.7/dist-packages/keras/optimizer_v2/adam.py:105: UserWarning: The `lr` argument is deprecated, use `learning_rate` instead.\n",
            "  super(Adam, self).__init__(name, **kwargs)\n"
          ]
        }
      ]
    },
    {
      "cell_type": "code",
      "metadata": {
        "id": "qyu_RPrioZny",
        "colab": {
          "base_uri": "https://localhost:8080/"
        },
        "outputId": "c4c4c0a2-b3e3-4ec3-9a32-f612b14cd03c"
      },
      "source": [
        "# Train the model\n",
        "l2_model.fit(x_train.flatten(), y_train.flatten(), batch_size=256, epochs=20)"
      ],
      "execution_count": 7,
      "outputs": [
        {
          "output_type": "stream",
          "name": "stdout",
          "text": [
            "Epoch 1/20\n",
            "391/391 [==============================] - 3s 2ms/step - loss: 8.2013\n",
            "Epoch 2/20\n",
            "391/391 [==============================] - 1s 2ms/step - loss: 7.8892\n",
            "Epoch 3/20\n",
            "391/391 [==============================] - 1s 2ms/step - loss: 7.8730\n",
            "Epoch 4/20\n",
            "391/391 [==============================] - 1s 2ms/step - loss: 7.8666\n",
            "Epoch 5/20\n",
            "391/391 [==============================] - 1s 2ms/step - loss: 7.8585\n",
            "Epoch 6/20\n",
            "391/391 [==============================] - 1s 2ms/step - loss: 7.8612\n",
            "Epoch 7/20\n",
            "391/391 [==============================] - 1s 2ms/step - loss: 7.8621\n",
            "Epoch 8/20\n",
            "391/391 [==============================] - 1s 2ms/step - loss: 7.8669\n",
            "Epoch 9/20\n",
            "391/391 [==============================] - 1s 2ms/step - loss: 7.8626\n",
            "Epoch 10/20\n",
            "391/391 [==============================] - 1s 2ms/step - loss: 7.8565\n",
            "Epoch 11/20\n",
            "391/391 [==============================] - 1s 2ms/step - loss: 7.8566\n",
            "Epoch 12/20\n",
            "391/391 [==============================] - 1s 2ms/step - loss: 7.8549\n",
            "Epoch 13/20\n",
            "391/391 [==============================] - 1s 2ms/step - loss: 7.8619\n",
            "Epoch 14/20\n",
            "391/391 [==============================] - 1s 2ms/step - loss: 7.8634\n",
            "Epoch 15/20\n",
            "391/391 [==============================] - 1s 2ms/step - loss: 7.8602\n",
            "Epoch 16/20\n",
            "391/391 [==============================] - 1s 2ms/step - loss: 7.8579\n",
            "Epoch 17/20\n",
            "391/391 [==============================] - 1s 2ms/step - loss: 7.8623\n",
            "Epoch 18/20\n",
            "391/391 [==============================] - 1s 2ms/step - loss: 7.8581\n",
            "Epoch 19/20\n",
            "391/391 [==============================] - 1s 2ms/step - loss: 7.8501\n",
            "Epoch 20/20\n",
            "391/391 [==============================] - 1s 2ms/step - loss: 7.8590\n"
          ]
        },
        {
          "output_type": "execute_result",
          "data": {
            "text/plain": [
              "<keras.callbacks.History at 0x7fb3f1b085d0>"
            ]
          },
          "metadata": {},
          "execution_count": 7
        }
      ]
    },
    {
      "cell_type": "code",
      "metadata": {
        "id": "I4JpVgcMapTS"
      },
      "source": [
        "# Evaluate the regression model on the testing set\n",
        "preds = l2_model.predict(x_test.flatten())\n",
        "preds = preds.reshape(y_test.shape)"
      ],
      "execution_count": 8,
      "outputs": []
    },
    {
      "cell_type": "code",
      "metadata": {
        "id": "O-khUAlla9bf",
        "colab": {
          "base_uri": "https://localhost:8080/",
          "height": 301
        },
        "outputId": "1b4e548a-3479-46af-8bdc-739afb0e4910"
      },
      "source": [
        "scatter(x_test[0], preds[0])\n",
        "scatter(x_test[0], y_test[0])\n",
        "xlabel('x')\n",
        "ylabel('y')\n",
        "xlim(0.1,1.5)\n",
        "ylim(0,12)\n",
        "plot(x, lognorm.mean(x, loc=2*x), label='p(y|x) mean')\n",
        "plot(x, lognorm.median(x, loc=2*x), label='p(y|x) median')\n",
        "plot(x, exp(- x**2) + 2*x, label='p(y|x) mode')\n",
        "legend()"
      ],
      "execution_count": 9,
      "outputs": [
        {
          "output_type": "execute_result",
          "data": {
            "text/plain": [
              "<matplotlib.legend.Legend at 0x7fb386694c10>"
            ]
          },
          "metadata": {},
          "execution_count": 9
        },
        {
          "output_type": "display_data",
          "data": {
            "image/png": "[encoded data removed]",
            "text/plain": [
              "<Figure size 432x288 with 1 Axes>"
            ]
          },
          "metadata": {
            "needs_background": "light"
          }
        }
      ]
    },
    {
      "cell_type": "markdown",
      "metadata": {
        "id": "z_npA-iuqdhH"
      },
      "source": [
        "Interesting! Turns out that the mean squared error actually leads to estimating  the mean of the distribution $p(y | x)$. As we see here, the mean is not always a great summary of the distribution, it is heavily influenced by the tails of the distribution and can become very different from the mode.\n",
        "\n",
        "**Homework**: Show analytically that MSE regression correponds to estimating the posterior mean."
      ]
    },
    {
      "cell_type": "markdown",
      "metadata": {
        "id": "6vI9iG-OrfXW"
      },
      "source": [
        "Now, let's do the same thing but with the mean absolute error, a.k.a. l1 loss $\\mathcal{L} = |y - f(x)|$."
      ]
    },
    {
      "cell_type": "code",
      "metadata": {
        "id": "xJ_45xLxa_W0",
        "colab": {
          "base_uri": "https://localhost:8080/"
        },
        "outputId": "5704d331-3378-4add-dd37-ba53c2426062"
      },
      "source": [
        "import tensorflow.keras as keras\n",
        "\n",
        "learning_rate=1e-3\n",
        "decay=1e-6\n",
        "\n",
        "l1_model = keras.Sequential([\n",
        "    keras.layers.Dense(units=128, activation='relu', input_shape=(1,)),\n",
        "    keras.layers.Dense(units=128, activation='tanh'),\n",
        "    keras.layers.Dense(units=1)\n",
        "])\n",
        "\n",
        "opt = keras.optimizers.Adam(lr=learning_rate, decay=decay)\n",
        "\n",
        "l1_model.compile(loss='mean_absolute_error', optimizer=opt)"
      ],
      "execution_count": 10,
      "outputs": [
        {
          "output_type": "stream",
          "name": "stderr",
          "text": [
            "/usr/local/lib/python3.7/dist-packages/keras/optimizer_v2/adam.py:105: UserWarning: The `lr` argument is deprecated, use `learning_rate` instead.\n",
            "  super(Adam, self).__init__(name, **kwargs)\n"
          ]
        }
      ]
    },
    {
      "cell_type": "code",
      "metadata": {
        "id": "SDXSo5cibRG5",
        "colab": {
          "base_uri": "https://localhost:8080/"
        },
        "outputId": "8eb655cc-273e-400e-ea32-b0d6b2078b99"
      },
      "source": [
        "l1_model.fit(x_train.flatten(), y_train.flatten(), batch_size=256, epochs=20)"
      ],
      "execution_count": 11,
      "outputs": [
        {
          "output_type": "stream",
          "name": "stdout",
          "text": [
            "Epoch 1/20\n",
            "391/391 [==============================] - 1s 2ms/step - loss: 1.0321\n",
            "Epoch 2/20\n",
            "391/391 [==============================] - 1s 2ms/step - loss: 0.9728\n",
            "Epoch 3/20\n",
            "391/391 [==============================] - 1s 2ms/step - loss: 0.9720\n",
            "Epoch 4/20\n",
            "391/391 [==============================] - 1s 2ms/step - loss: 0.9720\n",
            "Epoch 5/20\n",
            "391/391 [==============================] - 1s 2ms/step - loss: 0.9730\n",
            "Epoch 6/20\n",
            "391/391 [==============================] - 1s 2ms/step - loss: 0.9724\n",
            "Epoch 7/20\n",
            "391/391 [==============================] - 1s 2ms/step - loss: 0.9723\n",
            "Epoch 8/20\n",
            "391/391 [==============================] - 1s 2ms/step - loss: 0.9722\n",
            "Epoch 9/20\n",
            "391/391 [==============================] - 1s 2ms/step - loss: 0.9722\n",
            "Epoch 10/20\n",
            "391/391 [==============================] - 1s 2ms/step - loss: 0.9723\n",
            "Epoch 11/20\n",
            "391/391 [==============================] - 1s 2ms/step - loss: 0.9718\n",
            "Epoch 12/20\n",
            "391/391 [==============================] - 1s 2ms/step - loss: 0.9727\n",
            "Epoch 13/20\n",
            "391/391 [==============================] - 1s 2ms/step - loss: 0.9719\n",
            "Epoch 14/20\n",
            "391/391 [==============================] - 1s 2ms/step - loss: 0.9722\n",
            "Epoch 15/20\n",
            "391/391 [==============================] - 1s 2ms/step - loss: 0.9725\n",
            "Epoch 16/20\n",
            "391/391 [==============================] - 1s 2ms/step - loss: 0.9722\n",
            "Epoch 17/20\n",
            "391/391 [==============================] - 1s 2ms/step - loss: 0.9723\n",
            "Epoch 18/20\n",
            "391/391 [==============================] - 1s 2ms/step - loss: 0.9721\n",
            "Epoch 19/20\n",
            "391/391 [==============================] - 1s 2ms/step - loss: 0.9718\n",
            "Epoch 20/20\n",
            "391/391 [==============================] - 1s 2ms/step - loss: 0.9717\n"
          ]
        },
        {
          "output_type": "execute_result",
          "data": {
            "text/plain": [
              "<keras.callbacks.History at 0x7fb3864a4a10>"
            ]
          },
          "metadata": {},
          "execution_count": 11
        }
      ]
    },
    {
      "cell_type": "code",
      "metadata": {
        "id": "JmX-95-ksNmm"
      },
      "source": [
        "# Evaluate the regression model on the testing set\n",
        "preds = l1_model.predict(x_test.flatten())\n",
        "preds = preds.reshape(y_test.shape)"
      ],
      "execution_count": 12,
      "outputs": []
    },
    {
      "cell_type": "code",
      "metadata": {
        "id": "nfuZ6zDLsZqv",
        "colab": {
          "base_uri": "https://localhost:8080/",
          "height": 301
        },
        "outputId": "c0f990b1-f3f8-4a8c-8949-2b8ab17cdf30"
      },
      "source": [
        "scatter(x_test[0], preds[0])\n",
        "scatter(x_test[0], y_test[0])\n",
        "xlabel('x')\n",
        "ylabel('y')\n",
        "xlim(0.1,1.5)\n",
        "ylim(0,12)\n",
        "plot(x, lognorm.mean(x, loc=2*x), label='p(y|x) mean')\n",
        "plot(x, lognorm.median(x, loc=2*x), label='p(y|x) median')\n",
        "plot(x, exp(- x**2) + 2*x, label='p(y|x) mode')\n",
        "legend()"
      ],
      "execution_count": 13,
      "outputs": [
        {
          "output_type": "execute_result",
          "data": {
            "text/plain": [
              "<matplotlib.legend.Legend at 0x7fb386331e90>"
            ]
          },
          "metadata": {},
          "execution_count": 13
        },
        {
          "output_type": "display_data",
          "data": {
            "image/png": "[encoded data removed]",
            "text/plain": [
              "<Figure size 432x288 with 1 Axes>"
            ]
          },
          "metadata": {
            "needs_background": "light"
          }
        }
      ]
    },
    {
      "cell_type": "markdown",
      "metadata": {
        "id": "vUc4eAJJspfr"
      },
      "source": [
        "Bang on on the median! So the lesson here is that minimizing the mean absolute error leads to estimating the median of the distribution $p(y | x)$. This can be more robust than l2 regression, the median is more robust to outliers and ends up being much closer to the mode of the distribution.\n",
        "\n",
        "\n",
        "**Homework**: Show analytically that MAE regression correponds to estimating the posterior median."
      ]
    },
    {
      "cell_type": "markdown",
      "metadata": {
        "id": "tVRr3De4sh5i"
      },
      "source": [
        "## Exercise 2: Switch to Probabilistic Modelling\n",
        "\n",
        "What we have seen in the previous exercise is that different choices of regression loss functions lead to different point estimate summaries of a full distribution $p(y|x)$. But in a complex case like this one, the mode of the distribution is different from both mean and median, so how to get to it?\n",
        "\n",
        "Also, we are starting to see that summaries do not give a full picture of the problem. Let's try to actually learn the full posterior with TensorFlow Probability.\n",
        "\n",
        "The  first thing we need is a parametric model for the distribution $q_{\\varphi}(y|x)$ that the model will be predicting. A simple approach to build a flexible\n",
        "distribution is to use a Gaussian Mixture Density. With TensorFlow Probability this is easily done by adding a `tfp.layers.MixtureNormal` as the last layer of the model. Check out the documentation here: https://www.tensorflow.org/probability/api_docs/python/tfp/layers/MixtureNormal\n"
      ]
    },
    {
      "cell_type": "code",
      "metadata": {
        "id": "Kd14A5m4bu5f"
      },
      "source": [
        "import tensorflow.keras as keras\n",
        "import tensorflow_probability as tfp\n",
        "\n",
        "learning_rate=1e-3\n",
        "decay=1e-6\n",
        "\n",
        "# Number of components in the Gaussian Mixture\n",
        "num_components = 16\n",
        "# Shape of the distribution\n",
        "event_shape = [1]\n",
        "# Utility function to compute how many parameters this distribution requires\n",
        "params_size = tfp.layers.MixtureNormal.params_size(num_components, event_shape)\n",
        "\n",
        "gmm_model = keras.Sequential([\n",
        "    keras.layers.Dense(units=128, activation='relu', input_shape=(1,)),\n",
        "    keras.layers.Dense(units=128, activation='tanh'),\n",
        "    keras.layers.Dense(params_size),\n",
        "    tfp.layers.MixtureNormal(num_components, event_shape)\n",
        "])"
      ],
      "execution_count": 14,
      "outputs": []
    },
    {
      "cell_type": "markdown",
      "metadata": {
        "id": "Qr1exFC_wQp_"
      },
      "source": [
        "An important thing to note is that now the model doesn't just return a number, it returns a full distribution object:"
      ]
    },
    {
      "cell_type": "code",
      "metadata": {
        "id": "OK3IfW_hwKgo",
        "colab": {
          "base_uri": "https://localhost:8080/"
        },
        "outputId": "e08af67f-8f70-480d-deb3-be1398446059"
      },
      "source": [
        "# We reshape x to match the event size of 1\n",
        "gmm_model(x_test.reshape((-1,1)))"
      ],
      "execution_count": 15,
      "outputs": [
        {
          "output_type": "execute_result",
          "data": {
            "text/plain": [
              "<tfp.distributions._TensorCoercible 'tensor_coercible' batch_shape=[100000] event_shape=[1] dtype=float32>"
            ]
          },
          "metadata": {},
          "execution_count": 15
        }
      ]
    },
    {
      "cell_type": "markdown",
      "metadata": {
        "id": "p9V48Vd4w2iZ"
      },
      "source": [
        "This distribution object can be used to sample from the model, or evaluate the log probability of the model.\n",
        "\n",
        "Now that we have a model, let's train it. For that we need to define the loss function for Keras, which will be based on the negative log likelihood:"
      ]
    },
    {
      "cell_type": "code",
      "metadata": {
        "id": "TqhdosHswK-u",
        "colab": {
          "base_uri": "https://localhost:8080/"
        },
        "outputId": "dda93a0f-6f1d-44d5-f022-ca1ab8ab2532"
      },
      "source": [
        "# Note that Keras will call this loss function with two arguments, the data\n",
        "# point y, and the distribution q(y | x) predicted as the output of the model\n",
        "negloglik = lambda y, q: -q.log_prob(y)\n",
        "\n",
        "opt = keras.optimizers.Adam(lr=learning_rate, decay=decay)\n",
        "\n",
        "gmm_model.compile(loss=negloglik, optimizer=opt)"
      ],
      "execution_count": 16,
      "outputs": [
        {
          "output_type": "stream",
          "name": "stderr",
          "text": [
            "/usr/local/lib/python3.7/dist-packages/keras/optimizer_v2/adam.py:105: UserWarning: The `lr` argument is deprecated, use `learning_rate` instead.\n",
            "  super(Adam, self).__init__(name, **kwargs)\n"
          ]
        }
      ]
    },
    {
      "cell_type": "code",
      "metadata": {
        "id": "HWcH74G4cLaX",
        "colab": {
          "base_uri": "https://localhost:8080/"
        },
        "outputId": "b73369c4-007a-46d5-8836-9b13d4881575"
      },
      "source": [
        "gmm_model.fit(x_train.reshape((-1,1)), y_train.reshape((-1,1)), batch_size=256, epochs=20)"
      ],
      "execution_count": 17,
      "outputs": [
        {
          "output_type": "stream",
          "name": "stdout",
          "text": [
            "Epoch 1/20\n",
            "391/391 [==============================] - 2s 3ms/step - loss: 1.9159\n",
            "Epoch 2/20\n",
            "391/391 [==============================] - 1s 3ms/step - loss: 1.1437\n",
            "Epoch 3/20\n",
            "391/391 [==============================] - 1s 3ms/step - loss: 1.0847\n",
            "Epoch 4/20\n",
            "391/391 [==============================] - 1s 3ms/step - loss: 1.0657\n",
            "Epoch 5/20\n",
            "391/391 [==============================] - 1s 3ms/step - loss: 1.0562\n",
            "Epoch 6/20\n",
            "391/391 [==============================] - 1s 3ms/step - loss: 1.0515\n",
            "Epoch 7/20\n",
            "391/391 [==============================] - 1s 3ms/step - loss: 1.0504\n",
            "Epoch 8/20\n",
            "391/391 [==============================] - 1s 3ms/step - loss: 1.0498\n",
            "Epoch 9/20\n",
            "391/391 [==============================] - 1s 3ms/step - loss: 1.0473\n",
            "Epoch 10/20\n",
            "391/391 [==============================] - 1s 3ms/step - loss: 1.0475\n",
            "Epoch 11/20\n",
            "391/391 [==============================] - 1s 3ms/step - loss: 1.0450\n",
            "Epoch 12/20\n",
            "391/391 [==============================] - 1s 3ms/step - loss: 1.0437\n",
            "Epoch 13/20\n",
            "391/391 [==============================] - 1s 3ms/step - loss: 1.0417\n",
            "Epoch 14/20\n",
            "391/391 [==============================] - 1s 3ms/step - loss: 1.0440\n",
            "Epoch 15/20\n",
            "391/391 [==============================] - 1s 3ms/step - loss: 1.0424\n",
            "Epoch 16/20\n",
            "391/391 [==============================] - 1s 3ms/step - loss: 1.0409\n",
            "Epoch 17/20\n",
            "391/391 [==============================] - 1s 3ms/step - loss: 1.0418\n",
            "Epoch 18/20\n",
            "391/391 [==============================] - 1s 3ms/step - loss: 1.0441\n",
            "Epoch 19/20\n",
            "391/391 [==============================] - 1s 3ms/step - loss: 1.0403\n",
            "Epoch 20/20\n",
            "391/391 [==============================] - 1s 3ms/step - loss: 1.0411\n"
          ]
        },
        {
          "output_type": "execute_result",
          "data": {
            "text/plain": [
              "<keras.callbacks.History at 0x7fb38609c890>"
            ]
          },
          "metadata": {},
          "execution_count": 17
        }
      ]
    },
    {
      "cell_type": "code",
      "metadata": {
        "id": "MxkOuIjMcL1r",
        "colab": {
          "base_uri": "https://localhost:8080/",
          "height": 286
        },
        "outputId": "76863832-4168-4f64-d831-19cdf45ba936"
      },
      "source": [
        "# Find the mode by sampling the pdf\n",
        "x_smpl = linspace(0.5,5,50)\n",
        "\n",
        "# We evaluate the log probability of the model at different points, to sample the pdf of\n",
        "# each example\n",
        "preds = np.stack([gmm_model(x_test.reshape((-1,1))).log_prob(x).numpy() for x in x_smpl])\n",
        "mode = x_smpl[preds.argmax(axis=0)]\n",
        "mode = mode.reshape(y_test.shape)\n",
        "\n",
        "scatter(x_test[1], mode[1])\n",
        "scatter(x_test[1], y_test[1])\n",
        "\n",
        "xlim(0.1,1.5)\n",
        "ylim(0,12)\n",
        "\n",
        "plot(x, lognorm.mean(x, loc=2*x), label='mean')\n",
        "plot(x, lognorm.median(x, loc=2*x), label='median')\n",
        "plot(x, exp(- x**2) + 2*x, label='mode')\n",
        "legend()"
      ],
      "execution_count": 18,
      "outputs": [
        {
          "output_type": "execute_result",
          "data": {
            "text/plain": [
              "<matplotlib.legend.Legend at 0x7fb36e5a3ed0>"
            ]
          },
          "metadata": {},
          "execution_count": 18
        },
        {
          "output_type": "display_data",
          "data": {
            "image/png": "[encoded data removed]",
            "text/plain": [
              "<Figure size 432x288 with 1 Axes>"
            ]
          },
          "metadata": {
            "needs_background": "light"
          }
        }
      ]
    },
    {
      "cell_type": "code",
      "metadata": {
        "id": "h2YdW_2SnD1i",
        "colab": {
          "base_uri": "https://localhost:8080/",
          "height": 283
        },
        "outputId": "75f5c6a6-90a6-4e1c-89cd-fc36bf523a06"
      },
      "source": [
        "# We can also have a look at individual example pdfs\n",
        "plot(x_smpl, exp(preds[:,0]))\n",
        "plot(x_smpl, lognorm.pdf(x_smpl, s=x_test.flatten()[0], loc=2*x_test.flatten()[0]))"
      ],
      "execution_count": 20,
      "outputs": [
        {
          "output_type": "execute_result",
          "data": {
            "text/plain": [
              "[<matplotlib.lines.Line2D at 0x7fb36e4b3710>]"
            ]
          },
          "metadata": {},
          "execution_count": 20
        },
        {
          "output_type": "display_data",
          "data": {
            "image/png": "[encoded data removed]",
            "text/plain": [
              "<Figure size 432x288 with 1 Axes>"
            ]
          },
          "metadata": {
            "needs_background": "light"
          }
        }
      ]
    },
    {
      "cell_type": "markdown",
      "metadata": {
        "id": "59tAkR28zGCa"
      },
      "source": [
        "## Conclusion\n",
        "\n",
        "As soon as the data contains uncertainties, the solution to a regression problem is not something well defined. As we have seen, classical loss functions\n",
        "allow us to estimate summaries of the full problem posterior, but this has its limits when that posterior is not trivial.\n",
        "\n",
        "Using a distribution as the output of the model allows us model the full problem posterior, which can then be manipulated to locate the mode, or derive confidence intervals! And all we did was to add one TFP layer to the model!"
      ]
    }
  ]
}