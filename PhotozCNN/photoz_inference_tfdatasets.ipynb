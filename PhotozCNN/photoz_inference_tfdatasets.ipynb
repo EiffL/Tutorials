{
  "nbformat": 4,
  "nbformat_minor": 0,
  "metadata": {
    "colab": {
      "name": "photoz_inference_partII.ipynb",
      "provenance": [],
      "collapsed_sections": [],
      "include_colab_link": true
    },
    "kernelspec": {
      "name": "python3",
      "display_name": "Python 3"
    },
    "widgets": {
      "application/vnd.jupyter.widget-state+json": {
        "5b0cb36233b44c148ff56e5dc35bb81e": {
          "model_module": "@jupyter-widgets/controls",
          "model_name": "HBoxModel",
          "model_module_version": "1.5.0",
          "state": {
            "_view_name": "HBoxView",
            "_dom_classes": [],
            "_model_name": "HBoxModel",
            "_view_module": "@jupyter-widgets/controls",
            "_model_module_version": "1.5.0",
            "_view_count": null,
            "_view_module_version": "1.5.0",
            "box_style": "",
            "layout": "IPY_MODEL_51658f57520f462abff1a0287408f253",
            "_model_module": "@jupyter-widgets/controls",
            "children": [
              "IPY_MODEL_3ec535c9508a490bb0d435b41adbdb35",
              "IPY_MODEL_47bb0787e2c849c7885f3bb589795ebd",
              "IPY_MODEL_f9da9167714d40119a8c30685fc8dcf6"
            ]
          }
        },
        "51658f57520f462abff1a0287408f253": {
          "model_module": "@jupyter-widgets/base",
          "model_name": "LayoutModel",
          "model_module_version": "1.2.0",
          "state": {
            "_view_name": "LayoutView",
            "grid_template_rows": null,
            "right": null,
            "justify_content": null,
            "_view_module": "@jupyter-widgets/base",
            "overflow": null,
            "_model_module_version": "1.2.0",
            "_view_count": null,
            "flex_flow": null,
            "width": null,
            "min_width": null,
            "border": null,
            "align_items": null,
            "bottom": null,
            "_model_module": "@jupyter-widgets/base",
            "top": null,
            "grid_column": null,
            "overflow_y": null,
            "overflow_x": null,
            "grid_auto_flow": null,
            "grid_area": null,
            "grid_template_columns": null,
            "flex": null,
            "_model_name": "LayoutModel",
            "justify_items": null,
            "grid_row": null,
            "max_height": null,
            "align_content": null,
            "visibility": null,
            "align_self": null,
            "height": null,
            "min_height": null,
            "padding": null,
            "grid_auto_rows": null,
            "grid_gap": null,
            "max_width": null,
            "order": null,
            "_view_module_version": "1.2.0",
            "grid_template_areas": null,
            "object_position": null,
            "object_fit": null,
            "grid_auto_columns": null,
            "margin": null,
            "display": null,
            "left": null
          }
        },
        "3ec535c9508a490bb0d435b41adbdb35": {
          "model_module": "@jupyter-widgets/controls",
          "model_name": "HTMLModel",
          "model_module_version": "1.5.0",
          "state": {
            "_view_name": "HTMLView",
            "style": "IPY_MODEL_d74ddb63d58b43e1ab2e2f302c7a2f08",
            "_dom_classes": [],
            "description": "",
            "_model_name": "HTMLModel",
            "placeholder": "​",
            "_view_module": "@jupyter-widgets/controls",
            "_model_module_version": "1.5.0",
            "value": "Dl Completed...: ",
            "_view_count": null,
            "_view_module_version": "1.5.0",
            "description_tooltip": null,
            "_model_module": "@jupyter-widgets/controls",
            "layout": "IPY_MODEL_1e3c26cfaf1244ab93ca10aea0349ec4"
          }
        },
        "47bb0787e2c849c7885f3bb589795ebd": {
          "model_module": "@jupyter-widgets/controls",
          "model_name": "FloatProgressModel",
          "model_module_version": "1.5.0",
          "state": {
            "_view_name": "ProgressView",
            "style": "IPY_MODEL_bf8f1649670348ed84fab28eb964ea8a",
            "_dom_classes": [],
            "description": "",
            "_model_name": "FloatProgressModel",
            "bar_style": "success",
            "max": 1,
            "_view_module": "@jupyter-widgets/controls",
            "_model_module_version": "1.5.0",
            "value": 0,
            "_view_count": null,
            "_view_module_version": "1.5.0",
            "orientation": "horizontal",
            "min": 0,
            "description_tooltip": null,
            "_model_module": "@jupyter-widgets/controls",
            "layout": "IPY_MODEL_ce65522ce12548929a368bbeb0b63a61"
          }
        },
        "f9da9167714d40119a8c30685fc8dcf6": {
          "model_module": "@jupyter-widgets/controls",
          "model_name": "HTMLModel",
          "model_module_version": "1.5.0",
          "state": {
            "_view_name": "HTMLView",
            "style": "IPY_MODEL_4572a29be4d34a66bcdf539950cfbf69",
            "_dom_classes": [],
            "description": "",
            "_model_name": "HTMLModel",
            "placeholder": "​",
            "_view_module": "@jupyter-widgets/controls",
            "_model_module_version": "1.5.0",
            "value": " 0/0 [00:00&lt;?, ? url/s]",
            "_view_count": null,
            "_view_module_version": "1.5.0",
            "description_tooltip": null,
            "_model_module": "@jupyter-widgets/controls",
            "layout": "IPY_MODEL_6689e70e379d4c9fa14230bf253494f0"
          }
        },
        "d74ddb63d58b43e1ab2e2f302c7a2f08": {
          "model_module": "@jupyter-widgets/controls",
          "model_name": "DescriptionStyleModel",
          "model_module_version": "1.5.0",
          "state": {
            "_view_name": "StyleView",
            "_model_name": "DescriptionStyleModel",
            "description_width": "",
            "_view_module": "@jupyter-widgets/base",
            "_model_module_version": "1.5.0",
            "_view_count": null,
            "_view_module_version": "1.2.0",
            "_model_module": "@jupyter-widgets/controls"
          }
        },
        "1e3c26cfaf1244ab93ca10aea0349ec4": {
          "model_module": "@jupyter-widgets/base",
          "model_name": "LayoutModel",
          "model_module_version": "1.2.0",
          "state": {
            "_view_name": "LayoutView",
            "grid_template_rows": null,
            "right": null,
            "justify_content": null,
            "_view_module": "@jupyter-widgets/base",
            "overflow": null,
            "_model_module_version": "1.2.0",
            "_view_count": null,
            "flex_flow": null,
            "width": null,
            "min_width": null,
            "border": null,
            "align_items": null,
            "bottom": null,
            "_model_module": "@jupyter-widgets/base",
            "top": null,
            "grid_column": null,
            "overflow_y": null,
            "overflow_x": null,
            "grid_auto_flow": null,
            "grid_area": null,
            "grid_template_columns": null,
            "flex": null,
            "_model_name": "LayoutModel",
            "justify_items": null,
            "grid_row": null,
            "max_height": null,
            "align_content": null,
            "visibility": null,
            "align_self": null,
            "height": null,
            "min_height": null,
            "padding": null,
            "grid_auto_rows": null,
            "grid_gap": null,
            "max_width": null,
            "order": null,
            "_view_module_version": "1.2.0",
            "grid_template_areas": null,
            "object_position": null,
            "object_fit": null,
            "grid_auto_columns": null,
            "margin": null,
            "display": null,
            "left": null
          }
        },
        "bf8f1649670348ed84fab28eb964ea8a": {
          "model_module": "@jupyter-widgets/controls",
          "model_name": "ProgressStyleModel",
          "model_module_version": "1.5.0",
          "state": {
            "_view_name": "StyleView",
            "_model_name": "ProgressStyleModel",
            "description_width": "",
            "_view_module": "@jupyter-widgets/base",
            "_model_module_version": "1.5.0",
            "_view_count": null,
            "_view_module_version": "1.2.0",
            "bar_color": null,
            "_model_module": "@jupyter-widgets/controls"
          }
        },
        "ce65522ce12548929a368bbeb0b63a61": {
          "model_module": "@jupyter-widgets/base",
          "model_name": "LayoutModel",
          "model_module_version": "1.2.0",
          "state": {
            "_view_name": "LayoutView",
            "grid_template_rows": null,
            "right": null,
            "justify_content": null,
            "_view_module": "@jupyter-widgets/base",
            "overflow": null,
            "_model_module_version": "1.2.0",
            "_view_count": null,
            "flex_flow": null,
            "width": "20px",
            "min_width": null,
            "border": null,
            "align_items": null,
            "bottom": null,
            "_model_module": "@jupyter-widgets/base",
            "top": null,
            "grid_column": null,
            "overflow_y": null,
            "overflow_x": null,
            "grid_auto_flow": null,
            "grid_area": null,
            "grid_template_columns": null,
            "flex": null,
            "_model_name": "LayoutModel",
            "justify_items": null,
            "grid_row": null,
            "max_height": null,
            "align_content": null,
            "visibility": null,
            "align_self": null,
            "height": null,
            "min_height": null,
            "padding": null,
            "grid_auto_rows": null,
            "grid_gap": null,
            "max_width": null,
            "order": null,
            "_view_module_version": "1.2.0",
            "grid_template_areas": null,
            "object_position": null,
            "object_fit": null,
            "grid_auto_columns": null,
            "margin": null,
            "display": null,
            "left": null
          }
        },
        "4572a29be4d34a66bcdf539950cfbf69": {
          "model_module": "@jupyter-widgets/controls",
          "model_name": "DescriptionStyleModel",
          "model_module_version": "1.5.0",
          "state": {
            "_view_name": "StyleView",
            "_model_name": "DescriptionStyleModel",
            "description_width": "",
            "_view_module": "@jupyter-widgets/base",
            "_model_module_version": "1.5.0",
            "_view_count": null,
            "_view_module_version": "1.2.0",
            "_model_module": "@jupyter-widgets/controls"
          }
        },
        "6689e70e379d4c9fa14230bf253494f0": {
          "model_module": "@jupyter-widgets/base",
          "model_name": "LayoutModel",
          "model_module_version": "1.2.0",
          "state": {
            "_view_name": "LayoutView",
            "grid_template_rows": null,
            "right": null,
            "justify_content": null,
            "_view_module": "@jupyter-widgets/base",
            "overflow": null,
            "_model_module_version": "1.2.0",
            "_view_count": null,
            "flex_flow": null,
            "width": null,
            "min_width": null,
            "border": null,
            "align_items": null,
            "bottom": null,
            "_model_module": "@jupyter-widgets/base",
            "top": null,
            "grid_column": null,
            "overflow_y": null,
            "overflow_x": null,
            "grid_auto_flow": null,
            "grid_area": null,
            "grid_template_columns": null,
            "flex": null,
            "_model_name": "LayoutModel",
            "justify_items": null,
            "grid_row": null,
            "max_height": null,
            "align_content": null,
            "visibility": null,
            "align_self": null,
            "height": null,
            "min_height": null,
            "padding": null,
            "grid_auto_rows": null,
            "grid_gap": null,
            "max_width": null,
            "order": null,
            "_view_module_version": "1.2.0",
            "grid_template_areas": null,
            "object_position": null,
            "object_fit": null,
            "grid_auto_columns": null,
            "margin": null,
            "display": null,
            "left": null
          }
        },
        "e26369500fe647cf97ba695faba6e5fc": {
          "model_module": "@jupyter-widgets/controls",
          "model_name": "HBoxModel",
          "model_module_version": "1.5.0",
          "state": {
            "_view_name": "HBoxView",
            "_dom_classes": [],
            "_model_name": "HBoxModel",
            "_view_module": "@jupyter-widgets/controls",
            "_model_module_version": "1.5.0",
            "_view_count": null,
            "_view_module_version": "1.5.0",
            "box_style": "",
            "layout": "IPY_MODEL_660709e81ff646a990e6938a2f71dc9b",
            "_model_module": "@jupyter-widgets/controls",
            "children": [
              "IPY_MODEL_9b53c17bbd864572a412d9f34f17574d",
              "IPY_MODEL_879af5b4343e41b6a1e649d20d2e20ef",
              "IPY_MODEL_ffb571e9eb564554b4df173c02f11acb"
            ]
          }
        },
        "660709e81ff646a990e6938a2f71dc9b": {
          "model_module": "@jupyter-widgets/base",
          "model_name": "LayoutModel",
          "model_module_version": "1.2.0",
          "state": {
            "_view_name": "LayoutView",
            "grid_template_rows": null,
            "right": null,
            "justify_content": null,
            "_view_module": "@jupyter-widgets/base",
            "overflow": null,
            "_model_module_version": "1.2.0",
            "_view_count": null,
            "flex_flow": null,
            "width": null,
            "min_width": null,
            "border": null,
            "align_items": null,
            "bottom": null,
            "_model_module": "@jupyter-widgets/base",
            "top": null,
            "grid_column": null,
            "overflow_y": null,
            "overflow_x": null,
            "grid_auto_flow": null,
            "grid_area": null,
            "grid_template_columns": null,
            "flex": null,
            "_model_name": "LayoutModel",
            "justify_items": null,
            "grid_row": null,
            "max_height": null,
            "align_content": null,
            "visibility": null,
            "align_self": null,
            "height": null,
            "min_height": null,
            "padding": null,
            "grid_auto_rows": null,
            "grid_gap": null,
            "max_width": null,
            "order": null,
            "_view_module_version": "1.2.0",
            "grid_template_areas": null,
            "object_position": null,
            "object_fit": null,
            "grid_auto_columns": null,
            "margin": null,
            "display": null,
            "left": null
          }
        },
        "9b53c17bbd864572a412d9f34f17574d": {
          "model_module": "@jupyter-widgets/controls",
          "model_name": "HTMLModel",
          "model_module_version": "1.5.0",
          "state": {
            "_view_name": "HTMLView",
            "style": "IPY_MODEL_faf83059bcfb4c6b86fd8457a88f3561",
            "_dom_classes": [],
            "description": "",
            "_model_name": "HTMLModel",
            "placeholder": "​",
            "_view_module": "@jupyter-widgets/controls",
            "_model_module_version": "1.5.0",
            "value": "Dl Size...: ",
            "_view_count": null,
            "_view_module_version": "1.5.0",
            "description_tooltip": null,
            "_model_module": "@jupyter-widgets/controls",
            "layout": "IPY_MODEL_fd39118092bc4007ad81fd4147119bb6"
          }
        },
        "879af5b4343e41b6a1e649d20d2e20ef": {
          "model_module": "@jupyter-widgets/controls",
          "model_name": "FloatProgressModel",
          "model_module_version": "1.5.0",
          "state": {
            "_view_name": "ProgressView",
            "style": "IPY_MODEL_13adef28a6b642559cf26ad9e2b04fdc",
            "_dom_classes": [],
            "description": "",
            "_model_name": "FloatProgressModel",
            "bar_style": "success",
            "max": 1,
            "_view_module": "@jupyter-widgets/controls",
            "_model_module_version": "1.5.0",
            "value": 0,
            "_view_count": null,
            "_view_module_version": "1.5.0",
            "orientation": "horizontal",
            "min": 0,
            "description_tooltip": null,
            "_model_module": "@jupyter-widgets/controls",
            "layout": "IPY_MODEL_65f2d82d89944db7abe8021985a600a5"
          }
        },
        "ffb571e9eb564554b4df173c02f11acb": {
          "model_module": "@jupyter-widgets/controls",
          "model_name": "HTMLModel",
          "model_module_version": "1.5.0",
          "state": {
            "_view_name": "HTMLView",
            "style": "IPY_MODEL_f31f04fc8659457598438417882b5bf0",
            "_dom_classes": [],
            "description": "",
            "_model_name": "HTMLModel",
            "placeholder": "​",
            "_view_module": "@jupyter-widgets/controls",
            "_model_module_version": "1.5.0",
            "value": " 0/0 [00:00&lt;?, ? MiB/s]",
            "_view_count": null,
            "_view_module_version": "1.5.0",
            "description_tooltip": null,
            "_model_module": "@jupyter-widgets/controls",
            "layout": "IPY_MODEL_81c4166694084143a7a1d2eacca25a3f"
          }
        },
        "faf83059bcfb4c6b86fd8457a88f3561": {
          "model_module": "@jupyter-widgets/controls",
          "model_name": "DescriptionStyleModel",
          "model_module_version": "1.5.0",
          "state": {
            "_view_name": "StyleView",
            "_model_name": "DescriptionStyleModel",
            "description_width": "",
            "_view_module": "@jupyter-widgets/base",
            "_model_module_version": "1.5.0",
            "_view_count": null,
            "_view_module_version": "1.2.0",
            "_model_module": "@jupyter-widgets/controls"
          }
        },
        "fd39118092bc4007ad81fd4147119bb6": {
          "model_module": "@jupyter-widgets/base",
          "model_name": "LayoutModel",
          "model_module_version": "1.2.0",
          "state": {
            "_view_name": "LayoutView",
            "grid_template_rows": null,
            "right": null,
            "justify_content": null,
            "_view_module": "@jupyter-widgets/base",
            "overflow": null,
            "_model_module_version": "1.2.0",
            "_view_count": null,
            "flex_flow": null,
            "width": null,
            "min_width": null,
            "border": null,
            "align_items": null,
            "bottom": null,
            "_model_module": "@jupyter-widgets/base",
            "top": null,
            "grid_column": null,
            "overflow_y": null,
            "overflow_x": null,
            "grid_auto_flow": null,
            "grid_area": null,
            "grid_template_columns": null,
            "flex": null,
            "_model_name": "LayoutModel",
            "justify_items": null,
            "grid_row": null,
            "max_height": null,
            "align_content": null,
            "visibility": null,
            "align_self": null,
            "height": null,
            "min_height": null,
            "padding": null,
            "grid_auto_rows": null,
            "grid_gap": null,
            "max_width": null,
            "order": null,
            "_view_module_version": "1.2.0",
            "grid_template_areas": null,
            "object_position": null,
            "object_fit": null,
            "grid_auto_columns": null,
            "margin": null,
            "display": null,
            "left": null
          }
        },
        "13adef28a6b642559cf26ad9e2b04fdc": {
          "model_module": "@jupyter-widgets/controls",
          "model_name": "ProgressStyleModel",
          "model_module_version": "1.5.0",
          "state": {
            "_view_name": "StyleView",
            "_model_name": "ProgressStyleModel",
            "description_width": "",
            "_view_module": "@jupyter-widgets/base",
            "_model_module_version": "1.5.0",
            "_view_count": null,
            "_view_module_version": "1.2.0",
            "bar_color": null,
            "_model_module": "@jupyter-widgets/controls"
          }
        },
        "65f2d82d89944db7abe8021985a600a5": {
          "model_module": "@jupyter-widgets/base",
          "model_name": "LayoutModel",
          "model_module_version": "1.2.0",
          "state": {
            "_view_name": "LayoutView",
            "grid_template_rows": null,
            "right": null,
            "justify_content": null,
            "_view_module": "@jupyter-widgets/base",
            "overflow": null,
            "_model_module_version": "1.2.0",
            "_view_count": null,
            "flex_flow": null,
            "width": "20px",
            "min_width": null,
            "border": null,
            "align_items": null,
            "bottom": null,
            "_model_module": "@jupyter-widgets/base",
            "top": null,
            "grid_column": null,
            "overflow_y": null,
            "overflow_x": null,
            "grid_auto_flow": null,
            "grid_area": null,
            "grid_template_columns": null,
            "flex": null,
            "_model_name": "LayoutModel",
            "justify_items": null,
            "grid_row": null,
            "max_height": null,
            "align_content": null,
            "visibility": null,
            "align_self": null,
            "height": null,
            "min_height": null,
            "padding": null,
            "grid_auto_rows": null,
            "grid_gap": null,
            "max_width": null,
            "order": null,
            "_view_module_version": "1.2.0",
            "grid_template_areas": null,
            "object_position": null,
            "object_fit": null,
            "grid_auto_columns": null,
            "margin": null,
            "display": null,
            "left": null
          }
        },
        "f31f04fc8659457598438417882b5bf0": {
          "model_module": "@jupyter-widgets/controls",
          "model_name": "DescriptionStyleModel",
          "model_module_version": "1.5.0",
          "state": {
            "_view_name": "StyleView",
            "_model_name": "DescriptionStyleModel",
            "description_width": "",
            "_view_module": "@jupyter-widgets/base",
            "_model_module_version": "1.5.0",
            "_view_count": null,
            "_view_module_version": "1.2.0",
            "_model_module": "@jupyter-widgets/controls"
          }
        },
        "81c4166694084143a7a1d2eacca25a3f": {
          "model_module": "@jupyter-widgets/base",
          "model_name": "LayoutModel",
          "model_module_version": "1.2.0",
          "state": {
            "_view_name": "LayoutView",
            "grid_template_rows": null,
            "right": null,
            "justify_content": null,
            "_view_module": "@jupyter-widgets/base",
            "overflow": null,
            "_model_module_version": "1.2.0",
            "_view_count": null,
            "flex_flow": null,
            "width": null,
            "min_width": null,
            "border": null,
            "align_items": null,
            "bottom": null,
            "_model_module": "@jupyter-widgets/base",
            "top": null,
            "grid_column": null,
            "overflow_y": null,
            "overflow_x": null,
            "grid_auto_flow": null,
            "grid_area": null,
            "grid_template_columns": null,
            "flex": null,
            "_model_name": "LayoutModel",
            "justify_items": null,
            "grid_row": null,
            "max_height": null,
            "align_content": null,
            "visibility": null,
            "align_self": null,
            "height": null,
            "min_height": null,
            "padding": null,
            "grid_auto_rows": null,
            "grid_gap": null,
            "max_width": null,
            "order": null,
            "_view_module_version": "1.2.0",
            "grid_template_areas": null,
            "object_position": null,
            "object_fit": null,
            "grid_auto_columns": null,
            "margin": null,
            "display": null,
            "left": null
          }
        },
        "ad382f98e3d5401ca77f8e8b99306c7d": {
          "model_module": "@jupyter-widgets/controls",
          "model_name": "HBoxModel",
          "model_module_version": "1.5.0",
          "state": {
            "_view_name": "HBoxView",
            "_dom_classes": [],
            "_model_name": "HBoxModel",
            "_view_module": "@jupyter-widgets/controls",
            "_model_module_version": "1.5.0",
            "_view_count": null,
            "_view_module_version": "1.5.0",
            "box_style": "",
            "layout": "IPY_MODEL_38c96b0c33b24f3196e3ed5999a0e3b6",
            "_model_module": "@jupyter-widgets/controls",
            "children": [
              "IPY_MODEL_74b35ba8c9d84cfba269b7f5add2bed4",
              "IPY_MODEL_a5f419b88ef04ecbb0fd7321ce0cb0ad",
              "IPY_MODEL_a0887191ac794416b23696fd31cf7d1d"
            ]
          }
        },
        "38c96b0c33b24f3196e3ed5999a0e3b6": {
          "model_module": "@jupyter-widgets/base",
          "model_name": "LayoutModel",
          "model_module_version": "1.2.0",
          "state": {
            "_view_name": "LayoutView",
            "grid_template_rows": null,
            "right": null,
            "justify_content": null,
            "_view_module": "@jupyter-widgets/base",
            "overflow": null,
            "_model_module_version": "1.2.0",
            "_view_count": null,
            "flex_flow": null,
            "width": null,
            "min_width": null,
            "border": null,
            "align_items": null,
            "bottom": null,
            "_model_module": "@jupyter-widgets/base",
            "top": null,
            "grid_column": null,
            "overflow_y": null,
            "overflow_x": null,
            "grid_auto_flow": null,
            "grid_area": null,
            "grid_template_columns": null,
            "flex": null,
            "_model_name": "LayoutModel",
            "justify_items": null,
            "grid_row": null,
            "max_height": null,
            "align_content": null,
            "visibility": null,
            "align_self": null,
            "height": null,
            "min_height": null,
            "padding": null,
            "grid_auto_rows": null,
            "grid_gap": null,
            "max_width": null,
            "order": null,
            "_view_module_version": "1.2.0",
            "grid_template_areas": null,
            "object_position": null,
            "object_fit": null,
            "grid_auto_columns": null,
            "margin": null,
            "display": null,
            "left": null
          }
        },
        "74b35ba8c9d84cfba269b7f5add2bed4": {
          "model_module": "@jupyter-widgets/controls",
          "model_name": "HTMLModel",
          "model_module_version": "1.5.0",
          "state": {
            "_view_name": "HTMLView",
            "style": "IPY_MODEL_290a8d23c952444383b0470e3cd7f06e",
            "_dom_classes": [],
            "description": "",
            "_model_name": "HTMLModel",
            "placeholder": "​",
            "_view_module": "@jupyter-widgets/controls",
            "_model_module_version": "1.5.0",
            "value": "Dl Completed...: ",
            "_view_count": null,
            "_view_module_version": "1.5.0",
            "description_tooltip": null,
            "_model_module": "@jupyter-widgets/controls",
            "layout": "IPY_MODEL_99a691e5de2a4ab599e948db19730cfd"
          }
        },
        "a5f419b88ef04ecbb0fd7321ce0cb0ad": {
          "model_module": "@jupyter-widgets/controls",
          "model_name": "FloatProgressModel",
          "model_module_version": "1.5.0",
          "state": {
            "_view_name": "ProgressView",
            "style": "IPY_MODEL_041afdd6521745c4913ac44e74cdbf08",
            "_dom_classes": [],
            "description": "",
            "_model_name": "FloatProgressModel",
            "bar_style": "success",
            "max": 1,
            "_view_module": "@jupyter-widgets/controls",
            "_model_module_version": "1.5.0",
            "value": 0,
            "_view_count": null,
            "_view_module_version": "1.5.0",
            "orientation": "horizontal",
            "min": 0,
            "description_tooltip": null,
            "_model_module": "@jupyter-widgets/controls",
            "layout": "IPY_MODEL_ce7c8f84193249c48ce165a4b9270771"
          }
        },
        "a0887191ac794416b23696fd31cf7d1d": {
          "model_module": "@jupyter-widgets/controls",
          "model_name": "HTMLModel",
          "model_module_version": "1.5.0",
          "state": {
            "_view_name": "HTMLView",
            "style": "IPY_MODEL_d9c6ee8eff1b48de8cc9520dbcaf5f67",
            "_dom_classes": [],
            "description": "",
            "_model_name": "HTMLModel",
            "placeholder": "​",
            "_view_module": "@jupyter-widgets/controls",
            "_model_module_version": "1.5.0",
            "value": " 0/0 [00:00&lt;?, ? url/s]",
            "_view_count": null,
            "_view_module_version": "1.5.0",
            "description_tooltip": null,
            "_model_module": "@jupyter-widgets/controls",
            "layout": "IPY_MODEL_f5336060353e4c109f2d4ca5f5523157"
          }
        },
        "290a8d23c952444383b0470e3cd7f06e": {
          "model_module": "@jupyter-widgets/controls",
          "model_name": "DescriptionStyleModel",
          "model_module_version": "1.5.0",
          "state": {
            "_view_name": "StyleView",
            "_model_name": "DescriptionStyleModel",
            "description_width": "",
            "_view_module": "@jupyter-widgets/base",
            "_model_module_version": "1.5.0",
            "_view_count": null,
            "_view_module_version": "1.2.0",
            "_model_module": "@jupyter-widgets/controls"
          }
        },
        "99a691e5de2a4ab599e948db19730cfd": {
          "model_module": "@jupyter-widgets/base",
          "model_name": "LayoutModel",
          "model_module_version": "1.2.0",
          "state": {
            "_view_name": "LayoutView",
            "grid_template_rows": null,
            "right": null,
            "justify_content": null,
            "_view_module": "@jupyter-widgets/base",
            "overflow": null,
            "_model_module_version": "1.2.0",
            "_view_count": null,
            "flex_flow": null,
            "width": null,
            "min_width": null,
            "border": null,
            "align_items": null,
            "bottom": null,
            "_model_module": "@jupyter-widgets/base",
            "top": null,
            "grid_column": null,
            "overflow_y": null,
            "overflow_x": null,
            "grid_auto_flow": null,
            "grid_area": null,
            "grid_template_columns": null,
            "flex": null,
            "_model_name": "LayoutModel",
            "justify_items": null,
            "grid_row": null,
            "max_height": null,
            "align_content": null,
            "visibility": null,
            "align_self": null,
            "height": null,
            "min_height": null,
            "padding": null,
            "grid_auto_rows": null,
            "grid_gap": null,
            "max_width": null,
            "order": null,
            "_view_module_version": "1.2.0",
            "grid_template_areas": null,
            "object_position": null,
            "object_fit": null,
            "grid_auto_columns": null,
            "margin": null,
            "display": null,
            "left": null
          }
        },
        "041afdd6521745c4913ac44e74cdbf08": {
          "model_module": "@jupyter-widgets/controls",
          "model_name": "ProgressStyleModel",
          "model_module_version": "1.5.0",
          "state": {
            "_view_name": "StyleView",
            "_model_name": "ProgressStyleModel",
            "description_width": "",
            "_view_module": "@jupyter-widgets/base",
            "_model_module_version": "1.5.0",
            "_view_count": null,
            "_view_module_version": "1.2.0",
            "bar_color": null,
            "_model_module": "@jupyter-widgets/controls"
          }
        },
        "ce7c8f84193249c48ce165a4b9270771": {
          "model_module": "@jupyter-widgets/base",
          "model_name": "LayoutModel",
          "model_module_version": "1.2.0",
          "state": {
            "_view_name": "LayoutView",
            "grid_template_rows": null,
            "right": null,
            "justify_content": null,
            "_view_module": "@jupyter-widgets/base",
            "overflow": null,
            "_model_module_version": "1.2.0",
            "_view_count": null,
            "flex_flow": null,
            "width": "20px",
            "min_width": null,
            "border": null,
            "align_items": null,
            "bottom": null,
            "_model_module": "@jupyter-widgets/base",
            "top": null,
            "grid_column": null,
            "overflow_y": null,
            "overflow_x": null,
            "grid_auto_flow": null,
            "grid_area": null,
            "grid_template_columns": null,
            "flex": null,
            "_model_name": "LayoutModel",
            "justify_items": null,
            "grid_row": null,
            "max_height": null,
            "align_content": null,
            "visibility": null,
            "align_self": null,
            "height": null,
            "min_height": null,
            "padding": null,
            "grid_auto_rows": null,
            "grid_gap": null,
            "max_width": null,
            "order": null,
            "_view_module_version": "1.2.0",
            "grid_template_areas": null,
            "object_position": null,
            "object_fit": null,
            "grid_auto_columns": null,
            "margin": null,
            "display": null,
            "left": null
          }
        },
        "d9c6ee8eff1b48de8cc9520dbcaf5f67": {
          "model_module": "@jupyter-widgets/controls",
          "model_name": "DescriptionStyleModel",
          "model_module_version": "1.5.0",
          "state": {
            "_view_name": "StyleView",
            "_model_name": "DescriptionStyleModel",
            "description_width": "",
            "_view_module": "@jupyter-widgets/base",
            "_model_module_version": "1.5.0",
            "_view_count": null,
            "_view_module_version": "1.2.0",
            "_model_module": "@jupyter-widgets/controls"
          }
        },
        "f5336060353e4c109f2d4ca5f5523157": {
          "model_module": "@jupyter-widgets/base",
          "model_name": "LayoutModel",
          "model_module_version": "1.2.0",
          "state": {
            "_view_name": "LayoutView",
            "grid_template_rows": null,
            "right": null,
            "justify_content": null,
            "_view_module": "@jupyter-widgets/base",
            "overflow": null,
            "_model_module_version": "1.2.0",
            "_view_count": null,
            "flex_flow": null,
            "width": null,
            "min_width": null,
            "border": null,
            "align_items": null,
            "bottom": null,
            "_model_module": "@jupyter-widgets/base",
            "top": null,
            "grid_column": null,
            "overflow_y": null,
            "overflow_x": null,
            "grid_auto_flow": null,
            "grid_area": null,
            "grid_template_columns": null,
            "flex": null,
            "_model_name": "LayoutModel",
            "justify_items": null,
            "grid_row": null,
            "max_height": null,
            "align_content": null,
            "visibility": null,
            "align_self": null,
            "height": null,
            "min_height": null,
            "padding": null,
            "grid_auto_rows": null,
            "grid_gap": null,
            "max_width": null,
            "order": null,
            "_view_module_version": "1.2.0",
            "grid_template_areas": null,
            "object_position": null,
            "object_fit": null,
            "grid_auto_columns": null,
            "margin": null,
            "display": null,
            "left": null
          }
        },
        "c7348ebb69094501a4a188dda8c755fd": {
          "model_module": "@jupyter-widgets/controls",
          "model_name": "HBoxModel",
          "model_module_version": "1.5.0",
          "state": {
            "_view_name": "HBoxView",
            "_dom_classes": [],
            "_model_name": "HBoxModel",
            "_view_module": "@jupyter-widgets/controls",
            "_model_module_version": "1.5.0",
            "_view_count": null,
            "_view_module_version": "1.5.0",
            "box_style": "",
            "layout": "IPY_MODEL_9453391a11064bdb959c98adc2b8a9b0",
            "_model_module": "@jupyter-widgets/controls",
            "children": [
              "IPY_MODEL_1717e409b93b4379b67e8d81196f3cb6",
              "IPY_MODEL_9bbeac2746fb4e98909ce3861535fbf2",
              "IPY_MODEL_9d2bb64ef13b42dd8fad59780687c422"
            ]
          }
        },
        "9453391a11064bdb959c98adc2b8a9b0": {
          "model_module": "@jupyter-widgets/base",
          "model_name": "LayoutModel",
          "model_module_version": "1.2.0",
          "state": {
            "_view_name": "LayoutView",
            "grid_template_rows": null,
            "right": null,
            "justify_content": null,
            "_view_module": "@jupyter-widgets/base",
            "overflow": null,
            "_model_module_version": "1.2.0",
            "_view_count": null,
            "flex_flow": null,
            "width": null,
            "min_width": null,
            "border": null,
            "align_items": null,
            "bottom": null,
            "_model_module": "@jupyter-widgets/base",
            "top": null,
            "grid_column": null,
            "overflow_y": null,
            "overflow_x": null,
            "grid_auto_flow": null,
            "grid_area": null,
            "grid_template_columns": null,
            "flex": null,
            "_model_name": "LayoutModel",
            "justify_items": null,
            "grid_row": null,
            "max_height": null,
            "align_content": null,
            "visibility": null,
            "align_self": null,
            "height": null,
            "min_height": null,
            "padding": null,
            "grid_auto_rows": null,
            "grid_gap": null,
            "max_width": null,
            "order": null,
            "_view_module_version": "1.2.0",
            "grid_template_areas": null,
            "object_position": null,
            "object_fit": null,
            "grid_auto_columns": null,
            "margin": null,
            "display": null,
            "left": null
          }
        },
        "1717e409b93b4379b67e8d81196f3cb6": {
          "model_module": "@jupyter-widgets/controls",
          "model_name": "HTMLModel",
          "model_module_version": "1.5.0",
          "state": {
            "_view_name": "HTMLView",
            "style": "IPY_MODEL_ef2bae9d79484252b9600b43765f4a75",
            "_dom_classes": [],
            "description": "",
            "_model_name": "HTMLModel",
            "placeholder": "​",
            "_view_module": "@jupyter-widgets/controls",
            "_model_module_version": "1.5.0",
            "value": "Dl Size...: ",
            "_view_count": null,
            "_view_module_version": "1.5.0",
            "description_tooltip": null,
            "_model_module": "@jupyter-widgets/controls",
            "layout": "IPY_MODEL_dc84a336350e40ddb7caea7915bbc6b7"
          }
        },
        "9bbeac2746fb4e98909ce3861535fbf2": {
          "model_module": "@jupyter-widgets/controls",
          "model_name": "FloatProgressModel",
          "model_module_version": "1.5.0",
          "state": {
            "_view_name": "ProgressView",
            "style": "IPY_MODEL_01c3496323804f9aa35c527235bba20d",
            "_dom_classes": [],
            "description": "",
            "_model_name": "FloatProgressModel",
            "bar_style": "success",
            "max": 1,
            "_view_module": "@jupyter-widgets/controls",
            "_model_module_version": "1.5.0",
            "value": 0,
            "_view_count": null,
            "_view_module_version": "1.5.0",
            "orientation": "horizontal",
            "min": 0,
            "description_tooltip": null,
            "_model_module": "@jupyter-widgets/controls",
            "layout": "IPY_MODEL_82e59244a4414bb8893d88a314ca58b3"
          }
        },
        "9d2bb64ef13b42dd8fad59780687c422": {
          "model_module": "@jupyter-widgets/controls",
          "model_name": "HTMLModel",
          "model_module_version": "1.5.0",
          "state": {
            "_view_name": "HTMLView",
            "style": "IPY_MODEL_cef4c6e186a3412a8fa32d9dae9f3bf2",
            "_dom_classes": [],
            "description": "",
            "_model_name": "HTMLModel",
            "placeholder": "​",
            "_view_module": "@jupyter-widgets/controls",
            "_model_module_version": "1.5.0",
            "value": " 0/0 [00:00&lt;?, ? MiB/s]",
            "_view_count": null,
            "_view_module_version": "1.5.0",
            "description_tooltip": null,
            "_model_module": "@jupyter-widgets/controls",
            "layout": "IPY_MODEL_948ac4f97d7e4a89baec2b108ab856f7"
          }
        },
        "ef2bae9d79484252b9600b43765f4a75": {
          "model_module": "@jupyter-widgets/controls",
          "model_name": "DescriptionStyleModel",
          "model_module_version": "1.5.0",
          "state": {
            "_view_name": "StyleView",
            "_model_name": "DescriptionStyleModel",
            "description_width": "",
            "_view_module": "@jupyter-widgets/base",
            "_model_module_version": "1.5.0",
            "_view_count": null,
            "_view_module_version": "1.2.0",
            "_model_module": "@jupyter-widgets/controls"
          }
        },
        "dc84a336350e40ddb7caea7915bbc6b7": {
          "model_module": "@jupyter-widgets/base",
          "model_name": "LayoutModel",
          "model_module_version": "1.2.0",
          "state": {
            "_view_name": "LayoutView",
            "grid_template_rows": null,
            "right": null,
            "justify_content": null,
            "_view_module": "@jupyter-widgets/base",
            "overflow": null,
            "_model_module_version": "1.2.0",
            "_view_count": null,
            "flex_flow": null,
            "width": null,
            "min_width": null,
            "border": null,
            "align_items": null,
            "bottom": null,
            "_model_module": "@jupyter-widgets/base",
            "top": null,
            "grid_column": null,
            "overflow_y": null,
            "overflow_x": null,
            "grid_auto_flow": null,
            "grid_area": null,
            "grid_template_columns": null,
            "flex": null,
            "_model_name": "LayoutModel",
            "justify_items": null,
            "grid_row": null,
            "max_height": null,
            "align_content": null,
            "visibility": null,
            "align_self": null,
            "height": null,
            "min_height": null,
            "padding": null,
            "grid_auto_rows": null,
            "grid_gap": null,
            "max_width": null,
            "order": null,
            "_view_module_version": "1.2.0",
            "grid_template_areas": null,
            "object_position": null,
            "object_fit": null,
            "grid_auto_columns": null,
            "margin": null,
            "display": null,
            "left": null
          }
        },
        "01c3496323804f9aa35c527235bba20d": {
          "model_module": "@jupyter-widgets/controls",
          "model_name": "ProgressStyleModel",
          "model_module_version": "1.5.0",
          "state": {
            "_view_name": "StyleView",
            "_model_name": "ProgressStyleModel",
            "description_width": "",
            "_view_module": "@jupyter-widgets/base",
            "_model_module_version": "1.5.0",
            "_view_count": null,
            "_view_module_version": "1.2.0",
            "bar_color": null,
            "_model_module": "@jupyter-widgets/controls"
          }
        },
        "82e59244a4414bb8893d88a314ca58b3": {
          "model_module": "@jupyter-widgets/base",
          "model_name": "LayoutModel",
          "model_module_version": "1.2.0",
          "state": {
            "_view_name": "LayoutView",
            "grid_template_rows": null,
            "right": null,
            "justify_content": null,
            "_view_module": "@jupyter-widgets/base",
            "overflow": null,
            "_model_module_version": "1.2.0",
            "_view_count": null,
            "flex_flow": null,
            "width": "20px",
            "min_width": null,
            "border": null,
            "align_items": null,
            "bottom": null,
            "_model_module": "@jupyter-widgets/base",
            "top": null,
            "grid_column": null,
            "overflow_y": null,
            "overflow_x": null,
            "grid_auto_flow": null,
            "grid_area": null,
            "grid_template_columns": null,
            "flex": null,
            "_model_name": "LayoutModel",
            "justify_items": null,
            "grid_row": null,
            "max_height": null,
            "align_content": null,
            "visibility": null,
            "align_self": null,
            "height": null,
            "min_height": null,
            "padding": null,
            "grid_auto_rows": null,
            "grid_gap": null,
            "max_width": null,
            "order": null,
            "_view_module_version": "1.2.0",
            "grid_template_areas": null,
            "object_position": null,
            "object_fit": null,
            "grid_auto_columns": null,
            "margin": null,
            "display": null,
            "left": null
          }
        },
        "cef4c6e186a3412a8fa32d9dae9f3bf2": {
          "model_module": "@jupyter-widgets/controls",
          "model_name": "DescriptionStyleModel",
          "model_module_version": "1.5.0",
          "state": {
            "_view_name": "StyleView",
            "_model_name": "DescriptionStyleModel",
            "description_width": "",
            "_view_module": "@jupyter-widgets/base",
            "_model_module_version": "1.5.0",
            "_view_count": null,
            "_view_module_version": "1.2.0",
            "_model_module": "@jupyter-widgets/controls"
          }
        },
        "948ac4f97d7e4a89baec2b108ab856f7": {
          "model_module": "@jupyter-widgets/base",
          "model_name": "LayoutModel",
          "model_module_version": "1.2.0",
          "state": {
            "_view_name": "LayoutView",
            "grid_template_rows": null,
            "right": null,
            "justify_content": null,
            "_view_module": "@jupyter-widgets/base",
            "overflow": null,
            "_model_module_version": "1.2.0",
            "_view_count": null,
            "flex_flow": null,
            "width": null,
            "min_width": null,
            "border": null,
            "align_items": null,
            "bottom": null,
            "_model_module": "@jupyter-widgets/base",
            "top": null,
            "grid_column": null,
            "overflow_y": null,
            "overflow_x": null,
            "grid_auto_flow": null,
            "grid_area": null,
            "grid_template_columns": null,
            "flex": null,
            "_model_name": "LayoutModel",
            "justify_items": null,
            "grid_row": null,
            "max_height": null,
            "align_content": null,
            "visibility": null,
            "align_self": null,
            "height": null,
            "min_height": null,
            "padding": null,
            "grid_auto_rows": null,
            "grid_gap": null,
            "max_width": null,
            "order": null,
            "_view_module_version": "1.2.0",
            "grid_template_areas": null,
            "object_position": null,
            "object_fit": null,
            "grid_auto_columns": null,
            "margin": null,
            "display": null,
            "left": null
          }
        },
        "edfefd681a524b5a9018bf4cd752185d": {
          "model_module": "@jupyter-widgets/controls",
          "model_name": "HBoxModel",
          "model_module_version": "1.5.0",
          "state": {
            "_view_name": "HBoxView",
            "_dom_classes": [],
            "_model_name": "HBoxModel",
            "_view_module": "@jupyter-widgets/controls",
            "_model_module_version": "1.5.0",
            "_view_count": null,
            "_view_module_version": "1.5.0",
            "box_style": "",
            "layout": "IPY_MODEL_3be63ae0796640b7976f8c7c179b10b5",
            "_model_module": "@jupyter-widgets/controls",
            "children": [
              "IPY_MODEL_8f8e75310b8a44be996386fac70c1a93",
              "IPY_MODEL_46ba6a877c534fc0921739a75f5e1fe0",
              "IPY_MODEL_27841427ed3a494f93f9797b04ebf3a6"
            ]
          }
        },
        "3be63ae0796640b7976f8c7c179b10b5": {
          "model_module": "@jupyter-widgets/base",
          "model_name": "LayoutModel",
          "model_module_version": "1.2.0",
          "state": {
            "_view_name": "LayoutView",
            "grid_template_rows": null,
            "right": null,
            "justify_content": null,
            "_view_module": "@jupyter-widgets/base",
            "overflow": null,
            "_model_module_version": "1.2.0",
            "_view_count": null,
            "flex_flow": null,
            "width": null,
            "min_width": null,
            "border": null,
            "align_items": null,
            "bottom": null,
            "_model_module": "@jupyter-widgets/base",
            "top": null,
            "grid_column": null,
            "overflow_y": null,
            "overflow_x": null,
            "grid_auto_flow": null,
            "grid_area": null,
            "grid_template_columns": null,
            "flex": null,
            "_model_name": "LayoutModel",
            "justify_items": null,
            "grid_row": null,
            "max_height": null,
            "align_content": null,
            "visibility": null,
            "align_self": null,
            "height": null,
            "min_height": null,
            "padding": null,
            "grid_auto_rows": null,
            "grid_gap": null,
            "max_width": null,
            "order": null,
            "_view_module_version": "1.2.0",
            "grid_template_areas": null,
            "object_position": null,
            "object_fit": null,
            "grid_auto_columns": null,
            "margin": null,
            "display": null,
            "left": null
          }
        },
        "8f8e75310b8a44be996386fac70c1a93": {
          "model_module": "@jupyter-widgets/controls",
          "model_name": "HTMLModel",
          "model_module_version": "1.5.0",
          "state": {
            "_view_name": "HTMLView",
            "style": "IPY_MODEL_c70e2cefad8e4176bd6754801c247b3f",
            "_dom_classes": [],
            "description": "",
            "_model_name": "HTMLModel",
            "placeholder": "​",
            "_view_module": "@jupyter-widgets/controls",
            "_model_module_version": "1.5.0",
            "value": "",
            "_view_count": null,
            "_view_module_version": "1.5.0",
            "description_tooltip": null,
            "_model_module": "@jupyter-widgets/controls",
            "layout": "IPY_MODEL_32664413b8a64f68867f6886f251e067"
          }
        },
        "46ba6a877c534fc0921739a75f5e1fe0": {
          "model_module": "@jupyter-widgets/controls",
          "model_name": "FloatProgressModel",
          "model_module_version": "1.5.0",
          "state": {
            "_view_name": "ProgressView",
            "style": "IPY_MODEL_ab84caa13f1b495b8ea48340c67b1360",
            "_dom_classes": [],
            "description": "",
            "_model_name": "FloatProgressModel",
            "bar_style": "info",
            "max": 1,
            "_view_module": "@jupyter-widgets/controls",
            "_model_module_version": "1.5.0",
            "value": 1,
            "_view_count": null,
            "_view_module_version": "1.5.0",
            "orientation": "horizontal",
            "min": 0,
            "description_tooltip": null,
            "_model_module": "@jupyter-widgets/controls",
            "layout": "IPY_MODEL_618d4c99152b4cd3ac3b3b63a4bcfced"
          }
        },
        "27841427ed3a494f93f9797b04ebf3a6": {
          "model_module": "@jupyter-widgets/controls",
          "model_name": "HTMLModel",
          "model_module_version": "1.5.0",
          "state": {
            "_view_name": "HTMLView",
            "style": "IPY_MODEL_a6d869c6f64246bfa0c0e66de0215048",
            "_dom_classes": [],
            "description": "",
            "_model_name": "HTMLModel",
            "placeholder": "​",
            "_view_module": "@jupyter-widgets/controls",
            "_model_module_version": "1.5.0",
            "value": " 995/0 [00:12&lt;00:00, 82.95 examples/s]",
            "_view_count": null,
            "_view_module_version": "1.5.0",
            "description_tooltip": null,
            "_model_module": "@jupyter-widgets/controls",
            "layout": "IPY_MODEL_396099c15bb242ffaa1bbefd00349d51"
          }
        },
        "c70e2cefad8e4176bd6754801c247b3f": {
          "model_module": "@jupyter-widgets/controls",
          "model_name": "DescriptionStyleModel",
          "model_module_version": "1.5.0",
          "state": {
            "_view_name": "StyleView",
            "_model_name": "DescriptionStyleModel",
            "description_width": "",
            "_view_module": "@jupyter-widgets/base",
            "_model_module_version": "1.5.0",
            "_view_count": null,
            "_view_module_version": "1.2.0",
            "_model_module": "@jupyter-widgets/controls"
          }
        },
        "32664413b8a64f68867f6886f251e067": {
          "model_module": "@jupyter-widgets/base",
          "model_name": "LayoutModel",
          "model_module_version": "1.2.0",
          "state": {
            "_view_name": "LayoutView",
            "grid_template_rows": null,
            "right": null,
            "justify_content": null,
            "_view_module": "@jupyter-widgets/base",
            "overflow": null,
            "_model_module_version": "1.2.0",
            "_view_count": null,
            "flex_flow": null,
            "width": null,
            "min_width": null,
            "border": null,
            "align_items": null,
            "bottom": null,
            "_model_module": "@jupyter-widgets/base",
            "top": null,
            "grid_column": null,
            "overflow_y": null,
            "overflow_x": null,
            "grid_auto_flow": null,
            "grid_area": null,
            "grid_template_columns": null,
            "flex": null,
            "_model_name": "LayoutModel",
            "justify_items": null,
            "grid_row": null,
            "max_height": null,
            "align_content": null,
            "visibility": null,
            "align_self": null,
            "height": null,
            "min_height": null,
            "padding": null,
            "grid_auto_rows": null,
            "grid_gap": null,
            "max_width": null,
            "order": null,
            "_view_module_version": "1.2.0",
            "grid_template_areas": null,
            "object_position": null,
            "object_fit": null,
            "grid_auto_columns": null,
            "margin": null,
            "display": null,
            "left": null
          }
        },
        "ab84caa13f1b495b8ea48340c67b1360": {
          "model_module": "@jupyter-widgets/controls",
          "model_name": "ProgressStyleModel",
          "model_module_version": "1.5.0",
          "state": {
            "_view_name": "StyleView",
            "_model_name": "ProgressStyleModel",
            "description_width": "",
            "_view_module": "@jupyter-widgets/base",
            "_model_module_version": "1.5.0",
            "_view_count": null,
            "_view_module_version": "1.2.0",
            "bar_color": null,
            "_model_module": "@jupyter-widgets/controls"
          }
        },
        "618d4c99152b4cd3ac3b3b63a4bcfced": {
          "model_module": "@jupyter-widgets/base",
          "model_name": "LayoutModel",
          "model_module_version": "1.2.0",
          "state": {
            "_view_name": "LayoutView",
            "grid_template_rows": null,
            "right": null,
            "justify_content": null,
            "_view_module": "@jupyter-widgets/base",
            "overflow": null,
            "_model_module_version": "1.2.0",
            "_view_count": null,
            "flex_flow": null,
            "width": "20px",
            "min_width": null,
            "border": null,
            "align_items": null,
            "bottom": null,
            "_model_module": "@jupyter-widgets/base",
            "top": null,
            "grid_column": null,
            "overflow_y": null,
            "overflow_x": null,
            "grid_auto_flow": null,
            "grid_area": null,
            "grid_template_columns": null,
            "flex": null,
            "_model_name": "LayoutModel",
            "justify_items": null,
            "grid_row": null,
            "max_height": null,
            "align_content": null,
            "visibility": null,
            "align_self": null,
            "height": null,
            "min_height": null,
            "padding": null,
            "grid_auto_rows": null,
            "grid_gap": null,
            "max_width": null,
            "order": null,
            "_view_module_version": "1.2.0",
            "grid_template_areas": null,
            "object_position": null,
            "object_fit": null,
            "grid_auto_columns": null,
            "margin": null,
            "display": null,
            "left": null
          }
        },
        "a6d869c6f64246bfa0c0e66de0215048": {
          "model_module": "@jupyter-widgets/controls",
          "model_name": "DescriptionStyleModel",
          "model_module_version": "1.5.0",
          "state": {
            "_view_name": "StyleView",
            "_model_name": "DescriptionStyleModel",
            "description_width": "",
            "_view_module": "@jupyter-widgets/base",
            "_model_module_version": "1.5.0",
            "_view_count": null,
            "_view_module_version": "1.2.0",
            "_model_module": "@jupyter-widgets/controls"
          }
        },
        "396099c15bb242ffaa1bbefd00349d51": {
          "model_module": "@jupyter-widgets/base",
          "model_name": "LayoutModel",
          "model_module_version": "1.2.0",
          "state": {
            "_view_name": "LayoutView",
            "grid_template_rows": null,
            "right": null,
            "justify_content": null,
            "_view_module": "@jupyter-widgets/base",
            "overflow": null,
            "_model_module_version": "1.2.0",
            "_view_count": null,
            "flex_flow": null,
            "width": null,
            "min_width": null,
            "border": null,
            "align_items": null,
            "bottom": null,
            "_model_module": "@jupyter-widgets/base",
            "top": null,
            "grid_column": null,
            "overflow_y": null,
            "overflow_x": null,
            "grid_auto_flow": null,
            "grid_area": null,
            "grid_template_columns": null,
            "flex": null,
            "_model_name": "LayoutModel",
            "justify_items": null,
            "grid_row": null,
            "max_height": null,
            "align_content": null,
            "visibility": null,
            "align_self": null,
            "height": null,
            "min_height": null,
            "padding": null,
            "grid_auto_rows": null,
            "grid_gap": null,
            "max_width": null,
            "order": null,
            "_view_module_version": "1.2.0",
            "grid_template_areas": null,
            "object_position": null,
            "object_fit": null,
            "grid_auto_columns": null,
            "margin": null,
            "display": null,
            "left": null
          }
        },
        "5637f42e93e142899361710777c683af": {
          "model_module": "@jupyter-widgets/controls",
          "model_name": "HBoxModel",
          "model_module_version": "1.5.0",
          "state": {
            "_view_name": "HBoxView",
            "_dom_classes": [],
            "_model_name": "HBoxModel",
            "_view_module": "@jupyter-widgets/controls",
            "_model_module_version": "1.5.0",
            "_view_count": null,
            "_view_module_version": "1.5.0",
            "box_style": "",
            "layout": "IPY_MODEL_1ac61bda43e7400ea1d77afe5c93cef6",
            "_model_module": "@jupyter-widgets/controls",
            "children": [
              "IPY_MODEL_478cb37854fb44caaf8f12950f58b3ef",
              "IPY_MODEL_cd2b99369b464e43881e8fdba16316ea",
              "IPY_MODEL_ad98148fae0b4d4cbb901b7663b8c155"
            ]
          }
        },
        "1ac61bda43e7400ea1d77afe5c93cef6": {
          "model_module": "@jupyter-widgets/base",
          "model_name": "LayoutModel",
          "model_module_version": "1.2.0",
          "state": {
            "_view_name": "LayoutView",
            "grid_template_rows": null,
            "right": null,
            "justify_content": null,
            "_view_module": "@jupyter-widgets/base",
            "overflow": null,
            "_model_module_version": "1.2.0",
            "_view_count": null,
            "flex_flow": null,
            "width": null,
            "min_width": null,
            "border": null,
            "align_items": null,
            "bottom": null,
            "_model_module": "@jupyter-widgets/base",
            "top": null,
            "grid_column": null,
            "overflow_y": null,
            "overflow_x": null,
            "grid_auto_flow": null,
            "grid_area": null,
            "grid_template_columns": null,
            "flex": null,
            "_model_name": "LayoutModel",
            "justify_items": null,
            "grid_row": null,
            "max_height": null,
            "align_content": null,
            "visibility": null,
            "align_self": null,
            "height": null,
            "min_height": null,
            "padding": null,
            "grid_auto_rows": null,
            "grid_gap": null,
            "max_width": null,
            "order": null,
            "_view_module_version": "1.2.0",
            "grid_template_areas": null,
            "object_position": null,
            "object_fit": null,
            "grid_auto_columns": null,
            "margin": null,
            "display": null,
            "left": null
          }
        },
        "478cb37854fb44caaf8f12950f58b3ef": {
          "model_module": "@jupyter-widgets/controls",
          "model_name": "HTMLModel",
          "model_module_version": "1.5.0",
          "state": {
            "_view_name": "HTMLView",
            "style": "IPY_MODEL_e23e7260d6ba4713acc65a86e34d662a",
            "_dom_classes": [],
            "description": "",
            "_model_name": "HTMLModel",
            "placeholder": "​",
            "_view_module": "@jupyter-widgets/controls",
            "_model_module_version": "1.5.0",
            "value": "100%",
            "_view_count": null,
            "_view_module_version": "1.5.0",
            "description_tooltip": null,
            "_model_module": "@jupyter-widgets/controls",
            "layout": "IPY_MODEL_3f41f8d6d2dc4a48b090e168ef716f5e"
          }
        },
        "cd2b99369b464e43881e8fdba16316ea": {
          "model_module": "@jupyter-widgets/controls",
          "model_name": "FloatProgressModel",
          "model_module_version": "1.5.0",
          "state": {
            "_view_name": "ProgressView",
            "style": "IPY_MODEL_5634e2cd3e68440a90d8dfc73e17d1c2",
            "_dom_classes": [],
            "description": "",
            "_model_name": "FloatProgressModel",
            "bar_style": "danger",
            "max": 1000,
            "_view_module": "@jupyter-widgets/controls",
            "_model_module_version": "1.5.0",
            "value": 999,
            "_view_count": null,
            "_view_module_version": "1.5.0",
            "orientation": "horizontal",
            "min": 0,
            "description_tooltip": null,
            "_model_module": "@jupyter-widgets/controls",
            "layout": "IPY_MODEL_a40ddf3cd9de45a780b054df38ed4e15"
          }
        },
        "ad98148fae0b4d4cbb901b7663b8c155": {
          "model_module": "@jupyter-widgets/controls",
          "model_name": "HTMLModel",
          "model_module_version": "1.5.0",
          "state": {
            "_view_name": "HTMLView",
            "style": "IPY_MODEL_e7efbcd20bcf484d84bffc5a4e062f0e",
            "_dom_classes": [],
            "description": "",
            "_model_name": "HTMLModel",
            "placeholder": "​",
            "_view_module": "@jupyter-widgets/controls",
            "_model_module_version": "1.5.0",
            "value": " 999/1000 [00:00&lt;00:00, 4507.38 examples/s]",
            "_view_count": null,
            "_view_module_version": "1.5.0",
            "description_tooltip": null,
            "_model_module": "@jupyter-widgets/controls",
            "layout": "IPY_MODEL_aa91c5c7046a407c85fa1a8d3633dead"
          }
        },
        "e23e7260d6ba4713acc65a86e34d662a": {
          "model_module": "@jupyter-widgets/controls",
          "model_name": "DescriptionStyleModel",
          "model_module_version": "1.5.0",
          "state": {
            "_view_name": "StyleView",
            "_model_name": "DescriptionStyleModel",
            "description_width": "",
            "_view_module": "@jupyter-widgets/base",
            "_model_module_version": "1.5.0",
            "_view_count": null,
            "_view_module_version": "1.2.0",
            "_model_module": "@jupyter-widgets/controls"
          }
        },
        "3f41f8d6d2dc4a48b090e168ef716f5e": {
          "model_module": "@jupyter-widgets/base",
          "model_name": "LayoutModel",
          "model_module_version": "1.2.0",
          "state": {
            "_view_name": "LayoutView",
            "grid_template_rows": null,
            "right": null,
            "justify_content": null,
            "_view_module": "@jupyter-widgets/base",
            "overflow": null,
            "_model_module_version": "1.2.0",
            "_view_count": null,
            "flex_flow": null,
            "width": null,
            "min_width": null,
            "border": null,
            "align_items": null,
            "bottom": null,
            "_model_module": "@jupyter-widgets/base",
            "top": null,
            "grid_column": null,
            "overflow_y": null,
            "overflow_x": null,
            "grid_auto_flow": null,
            "grid_area": null,
            "grid_template_columns": null,
            "flex": null,
            "_model_name": "LayoutModel",
            "justify_items": null,
            "grid_row": null,
            "max_height": null,
            "align_content": null,
            "visibility": null,
            "align_self": null,
            "height": null,
            "min_height": null,
            "padding": null,
            "grid_auto_rows": null,
            "grid_gap": null,
            "max_width": null,
            "order": null,
            "_view_module_version": "1.2.0",
            "grid_template_areas": null,
            "object_position": null,
            "object_fit": null,
            "grid_auto_columns": null,
            "margin": null,
            "display": null,
            "left": null
          }
        },
        "5634e2cd3e68440a90d8dfc73e17d1c2": {
          "model_module": "@jupyter-widgets/controls",
          "model_name": "ProgressStyleModel",
          "model_module_version": "1.5.0",
          "state": {
            "_view_name": "StyleView",
            "_model_name": "ProgressStyleModel",
            "description_width": "",
            "_view_module": "@jupyter-widgets/base",
            "_model_module_version": "1.5.0",
            "_view_count": null,
            "_view_module_version": "1.2.0",
            "bar_color": null,
            "_model_module": "@jupyter-widgets/controls"
          }
        },
        "a40ddf3cd9de45a780b054df38ed4e15": {
          "model_module": "@jupyter-widgets/base",
          "model_name": "LayoutModel",
          "model_module_version": "1.2.0",
          "state": {
            "_view_name": "LayoutView",
            "grid_template_rows": null,
            "right": null,
            "justify_content": null,
            "_view_module": "@jupyter-widgets/base",
            "overflow": null,
            "_model_module_version": "1.2.0",
            "_view_count": null,
            "flex_flow": null,
            "width": null,
            "min_width": null,
            "border": null,
            "align_items": null,
            "bottom": null,
            "_model_module": "@jupyter-widgets/base",
            "top": null,
            "grid_column": null,
            "overflow_y": null,
            "overflow_x": null,
            "grid_auto_flow": null,
            "grid_area": null,
            "grid_template_columns": null,
            "flex": null,
            "_model_name": "LayoutModel",
            "justify_items": null,
            "grid_row": null,
            "max_height": null,
            "align_content": null,
            "visibility": null,
            "align_self": null,
            "height": null,
            "min_height": null,
            "padding": null,
            "grid_auto_rows": null,
            "grid_gap": null,
            "max_width": null,
            "order": null,
            "_view_module_version": "1.2.0",
            "grid_template_areas": null,
            "object_position": null,
            "object_fit": null,
            "grid_auto_columns": null,
            "margin": null,
            "display": null,
            "left": null
          }
        },
        "e7efbcd20bcf484d84bffc5a4e062f0e": {
          "model_module": "@jupyter-widgets/controls",
          "model_name": "DescriptionStyleModel",
          "model_module_version": "1.5.0",
          "state": {
            "_view_name": "StyleView",
            "_model_name": "DescriptionStyleModel",
            "description_width": "",
            "_view_module": "@jupyter-widgets/base",
            "_model_module_version": "1.5.0",
            "_view_count": null,
            "_view_module_version": "1.2.0",
            "_model_module": "@jupyter-widgets/controls"
          }
        },
        "aa91c5c7046a407c85fa1a8d3633dead": {
          "model_module": "@jupyter-widgets/base",
          "model_name": "LayoutModel",
          "model_module_version": "1.2.0",
          "state": {
            "_view_name": "LayoutView",
            "grid_template_rows": null,
            "right": null,
            "justify_content": null,
            "_view_module": "@jupyter-widgets/base",
            "overflow": null,
            "_model_module_version": "1.2.0",
            "_view_count": null,
            "flex_flow": null,
            "width": null,
            "min_width": null,
            "border": null,
            "align_items": null,
            "bottom": null,
            "_model_module": "@jupyter-widgets/base",
            "top": null,
            "grid_column": null,
            "overflow_y": null,
            "overflow_x": null,
            "grid_auto_flow": null,
            "grid_area": null,
            "grid_template_columns": null,
            "flex": null,
            "_model_name": "LayoutModel",
            "justify_items": null,
            "grid_row": null,
            "max_height": null,
            "align_content": null,
            "visibility": null,
            "align_self": null,
            "height": null,
            "min_height": null,
            "padding": null,
            "grid_auto_rows": null,
            "grid_gap": null,
            "max_width": null,
            "order": null,
            "_view_module_version": "1.2.0",
            "grid_template_areas": null,
            "object_position": null,
            "object_fit": null,
            "grid_auto_columns": null,
            "margin": null,
            "display": null,
            "left": null
          }
        }
      }
    }
  },
  "cells": [
    {
      "cell_type": "markdown",
      "metadata": {
        "id": "view-in-github",
        "colab_type": "text"
      },
      "source": [
        "<a href=\"https://colab.research.google.com/github/EiffL/Tutorials/blob/master/PhotozCNN/photoz_inference_tfdatasets.ipynb\" target=\"_parent\"><img src=\"https://colab.research.google.com/assets/colab-badge.svg\" alt=\"Open In Colab\"/></a>"
      ]
    },
    {
      "cell_type": "markdown",
      "metadata": {
        "id": "VSFB2g954QdI"
      },
      "source": [
        "##### Copyright 2019-2021 Francois Lanusse.\n",
        "\n",
        "Licensed under the Apache License, Version 2.0 (the \"License\");"
      ]
    },
    {
      "cell_type": "markdown",
      "metadata": {
        "id": "GDnyjQvJ1E2-"
      },
      "source": [
        "# Photometric Redshift Estimation with TensorFlow - Part II: Dataset preparation with TensorFlow Datasets\n",
        "\n",
        "Author: [@EiffL](https://github.com/EiffL) (Francois Lanusse)\n",
        "\n",
        "### Overview\n",
        "\n",
        "This second notebook in the series focuses on one of the most important steps in a Deep Learning project: setting up your dataset!\n",
        "\n",
        "The most common issues that you will face in practice are the following:\n",
        "\n",
        "- Typical datasets can be several hundreds of gigabytes in size, they will not fit in the RAM of your training node. **How do I handle large datasets for training my neural network?**\n",
        "\n",
        "- To optimize the training time, you want to keep the GPU busy at all times. So, you don't want to lose anytime preprocessing data on CPU or loading from disk during training. **How do I maximize the speed at which I feed data to my GPU?**\n",
        "\n",
        "- Your work will only be reproducible if other people can easily retrieve and setup your dataset to train their own network. **How do I automatize download and preprocessing tasks for my data so that anyone can setup my dataset on their own computers in one line of code?**\n",
        "\n",
        "Thanksfully, you are not the only one to wonder about these questions, and in this tutorial we will discover how to use [TensorFlow Datasets](https://www.tensorflow.org/datasets), a library that solves all of these questions for you!\n",
        "\n",
        "\n",
        "We will use that library to create an easily sharable and reusable dataset for the HSC data retrieved in the [previous notebook](https://github.com/EiffL/Tutorials/blob/master/PhotozCNN/photoz_inference_data_preparation.ipynb) in this series.\n",
        "\n",
        "\n",
        "### Learning objectives\n",
        "\n",
        "In this notebook, we will learn how to:\n",
        "* Discover TFDS and learn some of its key utilities\n",
        "* Learn how to create a TFDS dataset for your own data\n",
        "\n"
      ]
    },
    {
      "cell_type": "markdown",
      "metadata": {
        "id": "TPKQaxoP5KiA"
      },
      "source": [
        "### Imports"
      ]
    },
    {
      "cell_type": "code",
      "metadata": {
        "id": "pg0GVUCV5JpT",
        "colab": {
          "base_uri": "https://localhost:8080/"
        },
        "outputId": "3191c412-7a12-477a-8b6a-0def2161dc62"
      },
      "source": [
        "%pylab inline\n",
        "%load_ext autoreload\n",
        "%autoreload 2"
      ],
      "execution_count": 1,
      "outputs": [
        {
          "output_type": "stream",
          "name": "stdout",
          "text": [
            "Populating the interactive namespace from numpy and matplotlib\n"
          ]
        }
      ]
    },
    {
      "cell_type": "markdown",
      "metadata": {
        "id": "hxXuGzieYZ-g"
      },
      "source": [
        "## A first look at TensorFlow Datasets\n",
        "\n",
        "Let's begin by trying out TFDS on one of the existing datasets.\n",
        "\n",
        "TFDS comes pre-packaged with a ton of datasets, for various applications, contributed by the community. You can have a look at all the existing ones [here](https://www.tensorflow.org/datasets/catalog/overview#all_datasets).\n",
        "\n",
        "We'll start by playing with the famous [MNIST dataset](https://www.tensorflow.org/datasets/catalog/mnist)."
      ]
    },
    {
      "cell_type": "code",
      "metadata": {
        "id": "SE2Z3uyJYiGi"
      },
      "source": [
        "import tensorflow as tf\n",
        "import tensorflow_datasets as tfds"
      ],
      "execution_count": 2,
      "outputs": []
    },
    {
      "cell_type": "code",
      "metadata": {
        "id": "k4i4ZoW_YiCM"
      },
      "source": [
        "# Loading the MNIST dataset\n",
        "dset = tfds.load('mnist',     # This is the name of the dataset we want to load\n",
        "                 split='train') # This defines which 'split' we want to use"
      ],
      "execution_count": 19,
      "outputs": []
    },
    {
      "cell_type": "markdown",
      "metadata": {
        "id": "EK7fnB4STmZw"
      },
      "source": [
        "And that's it! the library has automatically downloaded, prepared, and cached the MNIST data for you!\n",
        "\n",
        "\n",
        "At this point, dset is an instance of the `tf.data.Dataset` class, which is the cannonical way to handle datasets in TensorFlow. It can be manipulated in a number of ways."
      ]
    },
    {
      "cell_type": "code",
      "metadata": {
        "id": "1c1A2sufUoia",
        "outputId": "9c0ded29-f4d1-4476-d7b2-0a4c1c714e53",
        "colab": {
          "base_uri": "https://localhost:8080/"
        }
      },
      "source": [
        "dset"
      ],
      "execution_count": 4,
      "outputs": [
        {
          "output_type": "execute_result",
          "data": {
            "text/plain": [
              "<PrefetchDataset shapes: {image: (28, 28, 1), label: ()}, types: {image: tf.uint8, label: tf.int64}>"
            ]
          },
          "metadata": {},
          "execution_count": 4
        }
      ]
    },
    {
      "cell_type": "markdown",
      "metadata": {
        "id": "ehdHBHBKUql8"
      },
      "source": [
        "We see that it contains both `image` and associated `label`."
      ]
    },
    {
      "cell_type": "markdown",
      "metadata": {
        "id": "ekmL6WsvUVuF"
      },
      "source": [
        "#### **Extracting a few example from the dataset**\n",
        "\n",
        "This is typically done inside a for loop in the following way:"
      ]
    },
    {
      "cell_type": "code",
      "metadata": {
        "id": "Gj97QbbQUkCw",
        "outputId": "9091667a-b23d-4578-d14e-f199414c913f",
        "colab": {
          "base_uri": "https://localhost:8080/"
        }
      },
      "source": [
        "for example in dset.take(1):\n",
        "  print('This is a ', example['label'].numpy())"
      ],
      "execution_count": 7,
      "outputs": [
        {
          "output_type": "stream",
          "name": "stdout",
          "text": [
            "This is a  4\n"
          ]
        }
      ]
    },
    {
      "cell_type": "markdown",
      "metadata": {
        "id": "gMvWSWuaU84M"
      },
      "source": [
        "Here, `.take(1)` restricts the dataset to just one example. The for loop iterates through these examples.\n",
        "\n",
        "This example should also contain an image:"
      ]
    },
    {
      "cell_type": "code",
      "metadata": {
        "id": "-oO4Ft6cVQHp",
        "outputId": "ebdf6ec4-9312-46ad-9a42-1fcbcaebf4a1",
        "colab": {
          "base_uri": "https://localhost:8080/"
        }
      },
      "source": [
        "example['image'].shape"
      ],
      "execution_count": 10,
      "outputs": [
        {
          "output_type": "execute_result",
          "data": {
            "text/plain": [
              "TensorShape([28, 28, 1])"
            ]
          },
          "metadata": {},
          "execution_count": 10
        }
      ]
    },
    {
      "cell_type": "code",
      "metadata": {
        "id": "jQV-_6BXU8lE",
        "outputId": "8b4b6a1e-263e-4d55-c281-67ed8fe31e3b",
        "colab": {
          "base_uri": "https://localhost:8080/",
          "height": 281
        }
      },
      "source": [
        "imshow(example['image'][:,:,0])\n",
        "title('This is a %d'%example['label'].numpy());"
      ],
      "execution_count": 12,
      "outputs": [
        {
          "output_type": "display_data",
          "data": {
            "image/png": "[encoded data removed]",
            "text/plain": [
              "<Figure size 432x288 with 1 Axes>"
            ]
          },
          "metadata": {
            "needs_background": "light"
          }
        }
      ]
    },
    {
      "cell_type": "markdown",
      "metadata": {
        "id": "NZeu0CR2VfwK"
      },
      "source": [
        "#### **Creating an input pipeline for shuffling and batching**\n",
        "\n",
        "This API allows you to apply transformations to your dataset, for typical operations like batching or shuffling.\n",
        "\n",
        "Here is how a typical input pipeline for training a neural network would look like:"
      ]
    },
    {
      "cell_type": "code",
      "metadata": {
        "id": "grI09s0EYh9x"
      },
      "source": [
        "dset = dset.repeat()         # Repeat the dataset for ever\n",
        "dset = dset.shuffle(1024)    # Apply shuffling with a buffer of size 1024 \n",
        "dset = dset.batch(64)        # Batch the examples\n",
        "dset = dset.prefetch(tf.data.AUTOTUNE)  # Prefecth examples for fast access"
      ],
      "execution_count": 20,
      "outputs": []
    },
    {
      "cell_type": "markdown",
      "metadata": {
        "id": "t3y7yASwWT1a"
      },
      "source": [
        "If I know take an example from dset:"
      ]
    },
    {
      "cell_type": "code",
      "metadata": {
        "id": "kf0-mAjzZs3I"
      },
      "source": [
        "for example in dset.take(1):\n",
        "  image, label = example[\"image\"], example[\"label\"]"
      ],
      "execution_count": 21,
      "outputs": []
    },
    {
      "cell_type": "code",
      "metadata": {
        "colab": {
          "base_uri": "https://localhost:8080/"
        },
        "id": "ltSftATGYh5u",
        "outputId": "a0a2b59d-6f0f-454e-96f5-64afe12e71f6"
      },
      "source": [
        "image.shape"
      ],
      "execution_count": 22,
      "outputs": [
        {
          "output_type": "execute_result",
          "data": {
            "text/plain": [
              "TensorShape([64, 28, 28, 1])"
            ]
          },
          "metadata": {},
          "execution_count": 22
        }
      ]
    },
    {
      "cell_type": "markdown",
      "metadata": {
        "id": "8BMoJYaJWbIB"
      },
      "source": [
        "I see that I indeed have a batch of images of size 64."
      ]
    },
    {
      "cell_type": "code",
      "metadata": {
        "colab": {
          "base_uri": "https://localhost:8080/",
          "height": 269
        },
        "id": "bh0FobqpZw8D",
        "outputId": "b8976f72-7023-4646-a8a7-20e5e0ff0e0f"
      },
      "source": [
        "imshow(image.numpy().reshape([8,8,28,28]).transpose([0,2,1,3]).reshape([8*28,8*28]));"
      ],
      "execution_count": 26,
      "outputs": [
        {
          "output_type": "display_data",
          "data": {
            "image/png": "[encoded data removed]",
            "text/plain": [
              "<Figure size 432x288 with 1 Axes>"
            ]
          },
          "metadata": {
            "needs_background": "light"
          }
        }
      ]
    },
    {
      "cell_type": "markdown",
      "metadata": {
        "id": "HZNecouQaHqJ"
      },
      "source": [
        "#### **Apply preprocessing functions**\n",
        "\n",
        "In many circumstances, you want to apply some operations on the fly to your data during training. For instance to perform data augmentation. This is very easily done in the following way:"
      ]
    },
    {
      "cell_type": "code",
      "metadata": {
        "id": "llFy0pKNXjyO"
      },
      "source": [
        "def my_mapping_fn(example):\n",
        "  \"\"\"Simple function doing augmentation by random flips\"\"\"\n",
        "  im = example['image']\n",
        "  im = tf.image.random_flip_up_down(im)\n",
        "  im = tf.image.random_flip_left_right(im)\n",
        "  return {'image': im, 'label': example['label']}"
      ],
      "execution_count": 27,
      "outputs": []
    },
    {
      "cell_type": "code",
      "metadata": {
        "id": "AltQBvmkYK4R"
      },
      "source": [
        "dset = dset.map(my_mapping_fn)"
      ],
      "execution_count": 28,
      "outputs": []
    },
    {
      "cell_type": "markdown",
      "metadata": {
        "id": "fYFli6PnYTOa"
      },
      "source": [
        "And that's it, my dataset is now transformed. Let's draw a bunch of examples:"
      ]
    },
    {
      "cell_type": "code",
      "metadata": {
        "id": "-wIO_nyKYK0m"
      },
      "source": [
        "for example in dset.take(1):\n",
        "  image, label = example[\"image\"], example[\"label\"]"
      ],
      "execution_count": 29,
      "outputs": []
    },
    {
      "cell_type": "code",
      "metadata": {
        "id": "zYtUzTr-YKxL",
        "outputId": "ffb332ad-1ff8-4f0c-e4c0-28a8d0fd4f6e",
        "colab": {
          "base_uri": "https://localhost:8080/",
          "height": 269
        }
      },
      "source": [
        "imshow(image.numpy().reshape([8,8,28,28]).transpose([0,2,1,3]).reshape([8*28,8*28]));"
      ],
      "execution_count": 30,
      "outputs": [
        {
          "output_type": "display_data",
          "data": {
            "image/png": "[encoded data removed]",
            "text/plain": [
              "<Figure size 432x288 with 1 Axes>"
            ]
          },
          "metadata": {
            "needs_background": "light"
          }
        }
      ]
    },
    {
      "cell_type": "markdown",
      "metadata": {
        "id": "fY6erWToYkFk"
      },
      "source": [
        "Coooool 🙃"
      ]
    },
    {
      "cell_type": "markdown",
      "metadata": {
        "id": "CgScLXdDYx9g"
      },
      "source": [
        "Anyways, these few examples illustrate how easy it is to download some data, and prepare it for your neural network when you use TFDS.\n",
        "\n",
        "Checkout the [documentation](https://www.tensorflow.org/datasets/overview) for more details and examples.\n"
      ]
    },
    {
      "cell_type": "markdown",
      "metadata": {
        "id": "rHXDvI31AA95"
      },
      "source": [
        "## Let's retrieve our HSC data\n",
        "\n",
        "Now that we have seen how cool TFDS is, let's see if we can build our dataset to package our HSC data!\n",
        "\n",
        "As in any problem, our first step is to do some quick inspection of the data.\n"
      ]
    },
    {
      "cell_type": "code",
      "metadata": {
        "id": "Djr-saaxAfg_",
        "colab": {
          "base_uri": "https://localhost:8080/"
        },
        "outputId": "fc1df6b3-be13-46e5-81bc-9b33f74d4e15"
      },
      "source": [
        "# Download the dataset from Google cloud\n",
        "!gsutil cp gs://ahw2019/hsc_photoz/data/catalog_small.fits catalog_small.fits\n",
        "print('Catalog download complete')\n",
        "!gsutil cp gs://ahw2019/hsc_photoz/data/cutouts_small.hdf cutouts_small.hdf\n",
        "print('Cutouts download complete')"
      ],
      "execution_count": 31,
      "outputs": [
        {
          "output_type": "stream",
          "name": "stdout",
          "text": [
            "Copying gs://ahw2019/hsc_photoz/data/catalog_small.fits...\n",
            "/ [1 files][500.6 KiB/500.6 KiB]                                                \n",
            "Operation completed over 1 objects/500.6 KiB.                                    \n",
            "Catalog download complete\n",
            "Copying gs://ahw2019/hsc_photoz/data/cutouts_small.hdf...\n",
            "/ [1 files][147.9 MiB/147.9 MiB]                                                \n",
            "Operation completed over 1 objects/147.9 MiB.                                    \n",
            "Cutouts download complete\n"
          ]
        }
      ]
    },
    {
      "cell_type": "markdown",
      "metadata": {
        "id": "VmXZcuumZ2VG"
      },
      "source": [
        "This has downloaded a small subset of the raw HSC data we have extracted previously. \n",
        "\n",
        "Let's have a look at it:"
      ]
    },
    {
      "cell_type": "code",
      "metadata": {
        "id": "SY4UcwVgX0i3"
      },
      "source": [
        "import h5py\n",
        "from astropy.table import Table\n",
        "\n",
        "# Loading the data\n",
        "catalog = Table.read('catalog_small.fits')       # This is an astropy table\n",
        "cutouts = h5py.File('cutouts_small.hdf', 'r')    # This is a set of images"
      ],
      "execution_count": 32,
      "outputs": []
    },
    {
      "cell_type": "code",
      "metadata": {
        "colab": {
          "base_uri": "https://localhost:8080/",
          "height": 547
        },
        "id": "7xu2aqS2asAU",
        "outputId": "dce0f93e-128e-4e07-cce9-ef8c7bf8cbf0"
      },
      "source": [
        "# Let's have a look at the catalog\n",
        "catalog"
      ],
      "execution_count": 33,
      "outputs": [
        {
          "output_type": "execute_result",
          "data": {
            "text/html": [
              "<div><i>Table length=1000</i>\n",
              "<table id=\"table140029760738192\" class=\"table-striped table-bordered table-condensed\">\n",
              "<thead><tr><th>object_id</th><th>ra</th><th>dec</th><th>tract</th><th>patch</th><th>a_g</th><th>a_r</th><th>a_i</th><th>a_z</th><th>a_y</th><th>g_extendedness_value</th><th>r_extendedness_value</th><th>i_extendedness_value</th><th>z_extendedness_value</th><th>y_extendedness_value</th><th>g_localbackground_flux</th><th>r_localbackground_flux</th><th>i_localbackground_flux</th><th>z_localbackground_flux</th><th>y_localbackground_flux</th><th>g_cmodel_flux</th><th>g_cmodel_fluxsigma</th><th>g_cmodel_exp_flux</th><th>g_cmodel_exp_fluxsigma</th><th>g_cmodel_dev_flux</th><th>g_cmodel_dev_fluxsigma</th><th>r_cmodel_flux</th><th>r_cmodel_fluxsigma</th><th>r_cmodel_exp_flux</th><th>r_cmodel_exp_fluxsigma</th><th>r_cmodel_dev_flux</th><th>r_cmodel_dev_fluxsigma</th><th>i_cmodel_flux</th><th>i_cmodel_fluxsigma</th><th>i_cmodel_exp_flux</th><th>i_cmodel_exp_fluxsigma</th><th>i_cmodel_dev_flux</th><th>i_cmodel_dev_fluxsigma</th><th>z_cmodel_flux</th><th>z_cmodel_fluxsigma</th><th>z_cmodel_exp_flux</th><th>z_cmodel_exp_fluxsigma</th><th>z_cmodel_dev_flux</th><th>z_cmodel_dev_fluxsigma</th><th>y_cmodel_flux</th><th>y_cmodel_fluxsigma</th><th>y_cmodel_exp_flux</th><th>y_cmodel_exp_fluxsigma</th><th>y_cmodel_dev_flux</th><th>y_cmodel_dev_fluxsigma</th><th>g_cmodel_mag</th><th>g_cmodel_magsigma</th><th>g_cmodel_exp_mag</th><th>g_cmodel_exp_magsigma</th><th>g_cmodel_dev_mag</th><th>g_cmodel_dev_magsigma</th><th>r_cmodel_mag</th><th>r_cmodel_magsigma</th><th>r_cmodel_exp_mag</th><th>r_cmodel_exp_magsigma</th><th>r_cmodel_dev_mag</th><th>r_cmodel_dev_magsigma</th><th>i_cmodel_mag</th><th>i_cmodel_magsigma</th><th>i_cmodel_exp_mag</th><th>i_cmodel_exp_magsigma</th><th>i_cmodel_dev_mag</th><th>i_cmodel_dev_magsigma</th><th>z_cmodel_mag</th><th>z_cmodel_magsigma</th><th>z_cmodel_exp_mag</th><th>z_cmodel_exp_magsigma</th><th>z_cmodel_dev_mag</th><th>z_cmodel_dev_magsigma</th><th>y_cmodel_mag</th><th>y_cmodel_magsigma</th><th>y_cmodel_exp_mag</th><th>y_cmodel_exp_magsigma</th><th>y_cmodel_dev_mag</th><th>y_cmodel_dev_magsigma</th><th>g_sdssshape_shape11</th><th>g_sdssshape_shape12</th><th>g_sdssshape_shape22</th><th>g_sdssshape_psf_shape11</th><th>g_sdssshape_psf_shape12</th><th>g_sdssshape_psf_shape22</th><th>r_sdssshape_shape11</th><th>r_sdssshape_shape12</th><th>r_sdssshape_shape22</th><th>r_sdssshape_psf_shape11</th><th>r_sdssshape_psf_shape12</th><th>r_sdssshape_psf_shape22</th><th>i_sdssshape_shape11</th><th>i_sdssshape_shape12</th><th>i_sdssshape_shape22</th><th>i_sdssshape_psf_shape11</th><th>i_sdssshape_psf_shape12</th><th>i_sdssshape_psf_shape22</th><th>z_sdssshape_shape11</th><th>z_sdssshape_shape12</th><th>z_sdssshape_shape22</th><th>z_sdssshape_psf_shape11</th><th>z_sdssshape_psf_shape12</th><th>z_sdssshape_psf_shape22</th><th>y_sdssshape_shape11</th><th>y_sdssshape_shape12</th><th>y_sdssshape_shape22</th><th>y_sdssshape_psf_shape11</th><th>y_sdssshape_psf_shape12</th><th>y_sdssshape_psf_shape22</th><th>d_pos</th><th>d_mag</th><th>specz_ra</th><th>specz_dec</th><th>specz_redshift</th><th>specz_redshift_err</th><th>specz_mag_i</th></tr></thead>\n",
              "<thead><tr><th>int64</th><th>float64</th><th>float64</th><th>int32</th><th>int32</th><th>float32</th><th>float32</th><th>float32</th><th>float32</th><th>float32</th><th>float32</th><th>float32</th><th>float32</th><th>float32</th><th>float32</th><th>float32</th><th>float32</th><th>float32</th><th>float32</th><th>float32</th><th>float32</th><th>float32</th><th>float32</th><th>float32</th><th>float32</th><th>float32</th><th>float32</th><th>float32</th><th>float32</th><th>float32</th><th>float32</th><th>float32</th><th>float32</th><th>float32</th><th>float32</th><th>float32</th><th>float32</th><th>float32</th><th>float32</th><th>float32</th><th>float32</th><th>float32</th><th>float32</th><th>float32</th><th>float32</th><th>float32</th><th>float32</th><th>float32</th><th>float32</th><th>float32</th><th>float32</th><th>float32</th><th>float32</th><th>float32</th><th>float32</th><th>float32</th><th>float32</th><th>float32</th><th>float32</th><th>float32</th><th>float32</th><th>float32</th><th>float32</th><th>float32</th><th>float32</th><th>float32</th><th>float32</th><th>float32</th><th>float32</th><th>float32</th><th>float32</th><th>float32</th><th>float32</th><th>float32</th><th>float32</th><th>float32</th><th>float32</th><th>float32</th><th>float32</th><th>float32</th><th>float32</th><th>float32</th><th>float32</th><th>float32</th><th>float32</th><th>float32</th><th>float32</th><th>float32</th><th>float32</th><th>float32</th><th>float32</th><th>float32</th><th>float32</th><th>float32</th><th>float32</th><th>float32</th><th>float32</th><th>float32</th><th>float32</th><th>float32</th><th>float32</th><th>float32</th><th>float32</th><th>float32</th><th>float32</th><th>float32</th><th>float32</th><th>float32</th><th>float32</th><th>float32</th><th>float32</th><th>float32</th><th>float64</th><th>float64</th><th>float32</th><th>float32</th><th>float32</th></tr></thead>\n",
              "<tr><td>36411448540287158</td><td>30.562276872708594</td><td>-6.5731357255499</td><td>8279</td><td>5</td><td>0.08952414</td><td>0.06288795</td><td>0.045121275</td><td>0.034897838</td><td>0.029703228</td><td>1.0</td><td>1.0</td><td>1.0</td><td>1.0</td><td>1.0</td><td>1.0529741</td><td>3.6013403</td><td>6.4329</td><td>10.226084</td><td>8.08365</td><td>8260.022</td><td>49.13008</td><td>6022.789</td><td>35.85489</td><td>8492.892</td><td>50.51518</td><td>28894.781</td><td>83.49296</td><td>22014.06</td><td>63.56267</td><td>30210.605</td><td>87.36212</td><td>57798.676</td><td>92.01629</td><td>43836.74</td><td>69.697845</td><td>60111.51</td><td>95.77002</td><td>78503.34</td><td>187.22095</td><td>60088.613</td><td>143.3556</td><td>82336.15</td><td>196.48686</td><td>99908.89</td><td>388.1478</td><td>74742.33</td><td>290.95856</td><td>102255.445</td><td>397.29822</td><td>21.607548</td><td>0.0064578885</td><td>21.950506</td><td>0.0064636082</td><td>21.57736</td><td>0.0064578895</td><td>20.247952</td><td>0.0031372905</td><td>20.54325</td><td>0.0031349189</td><td>20.1996</td><td>0.003139699</td><td>19.495205</td><td>0.0017285069</td><td>19.795404</td><td>0.0017262569</td><td>19.452606</td><td>0.0017298013</td><td>19.16278</td><td>0.002589349</td><td>19.453018</td><td>0.0025902805</td><td>19.111023</td><td>0.0025909992</td><td>18.90099</td><td>0.004218104</td><td>19.216084</td><td>0.0042265775</td><td>18.875784</td><td>0.004218465</td><td>0.3077157</td><td>-0.021981485</td><td>0.22944404</td><td>0.09824987</td><td>-0.0036499354</td><td>0.09146403</td><td>0.31925806</td><td>-0.015762126</td><td>0.26133165</td><td>0.085869916</td><td>-0.00062206085</td><td>0.10081115</td><td>0.30167925</td><td>-0.0063204886</td><td>0.23890024</td><td>0.09074112</td><td>0.00864903</td><td>0.100251235</td><td>0.3062969</td><td>-0.016059553</td><td>0.23458216</td><td>0.09265127</td><td>-0.0011799624</td><td>0.091195606</td><td>0.36362976</td><td>-0.009683371</td><td>0.3035964</td><td>0.12051621</td><td>0.0003920253</td><td>0.123298965</td><td>0.04802698</td><td>0.019794464</td><td>30.562266</td><td>-6.573143</td><td>0.46069</td><td>5e-05</td><td>19.515</td></tr>\n",
              "<tr><td>36411448540288304</td><td>30.57566834388161</td><td>-6.537403525351341</td><td>8279</td><td>5</td><td>0.08732592</td><td>0.061343767</td><td>0.044013344</td><td>0.03404094</td><td>0.02897388</td><td>1.0</td><td>1.0</td><td>1.0</td><td>1.0</td><td>1.0</td><td>8.514095</td><td>24.486967</td><td>38.356087</td><td>53.1479</td><td>46.699886</td><td>36321.31</td><td>91.886894</td><td>20858.592</td><td>53.36095</td><td>36515.293</td><td>92.37764</td><td>139700.3</td><td>163.37712</td><td>80337.54</td><td>94.28633</td><td>139589.95</td><td>163.2481</td><td>243581.77</td><td>239.82611</td><td>140330.95</td><td>138.93205</td><td>243787.08</td><td>240.02821</td><td>322355.53</td><td>413.9714</td><td>185973.11</td><td>242.58257</td><td>322172.53</td><td>413.73642</td><td>381664.78</td><td>809.6219</td><td>219287.97</td><td>474.5255</td><td>381470.9</td><td>809.2107</td><td>19.999596</td><td>0.0027467327</td><td>20.601788</td><td>0.0027775562</td><td>19.993813</td><td>0.0027467324</td><td>18.537006</td><td>0.00126975</td><td>19.137703</td><td>0.0012742496</td><td>18.537865</td><td>0.0012697501</td><td>17.933388</td><td>0.0010689958</td><td>18.532116</td><td>0.0010749128</td><td>17.932472</td><td>0.0010689957</td><td>17.629162</td><td>0.0013943106</td><td>18.226374</td><td>0.0014162299</td><td>17.629778</td><td>0.0013943106</td><td>17.445793</td><td>0.0023031617</td><td>18.047462</td><td>0.0023494654</td><td>17.446346</td><td>0.002303162</td><td>2.3582275</td><td>-0.532063</td><td>1.1748618</td><td>0.10584949</td><td>0.0022044652</td><td>0.09572679</td><td>0.7406807</td><td>-0.13122416</td><td>0.5122776</td><td>0.086967796</td><td>0.00057927525</td><td>0.096911244</td><td>0.62553775</td><td>-0.09903758</td><td>0.46123257</td><td>0.101703644</td><td>0.005054514</td><td>0.11041096</td><td>0.47682178</td><td>-0.087198906</td><td>0.35516375</td><td>0.07607674</td><td>-0.0009763131</td><td>0.08708745</td><td>0.6925324</td><td>-0.12183344</td><td>0.4906841</td><td>0.11151526</td><td>0.0014249029</td><td>0.11310722</td><td>0.062274765</td><td>-0.03138733</td><td>30.575676</td><td>-6.537419</td><td>0.30997</td><td>6e-05</td><td>17.902</td></tr>\n",
              "<tr><td>36411448540291562</td><td>30.549421220144136</td><td>-6.4624556086130145</td><td>8279</td><td>5</td><td>0.08478269</td><td>0.059557226</td><td>0.042731524</td><td>0.03304955</td><td>0.02813006</td><td>1.0</td><td>1.0</td><td>1.0</td><td>1.0</td><td>1.0</td><td>2.2070599</td><td>6.8124595</td><td>11.470386</td><td>19.008991</td><td>28.258575</td><td>12412.266</td><td>86.57321</td><td>7116.437</td><td>50.140312</td><td>12409.748</td><td>86.55564</td><td>54462.57</td><td>146.41312</td><td>31430.225</td><td>84.66295</td><td>54412.36</td><td>146.27812</td><td>100332.23</td><td>141.82542</td><td>63258.836</td><td>88.9867</td><td>108912.39</td><td>154.41974</td><td>148284.05</td><td>300.03452</td><td>92435.875</td><td>187.43434</td><td>158745.17</td><td>321.66583</td><td>183962.14</td><td>615.2433</td><td>112224.9</td><td>377.2152</td><td>193885.36</td><td>648.6834</td><td>21.16537</td><td>0.0075728046</td><td>21.769344</td><td>0.007649776</td><td>21.165592</td><td>0.007572804</td><td>19.559753</td><td>0.0029188122</td><td>20.156631</td><td>0.002924625</td><td>19.560755</td><td>0.002918812</td><td>18.896399</td><td>0.001534751</td><td>19.397198</td><td>0.0015273136</td><td>18.807306</td><td>0.0015393941</td><td>18.472263</td><td>0.0021968535</td><td>18.9854</td><td>0.0022015723</td><td>18.398247</td><td>0.0022000307</td><td>18.238178</td><td>0.0036311378</td><td>18.774776</td><td>0.0036494236</td><td>18.181137</td><td>0.003632554</td><td>1.2480034</td><td>-0.02839997</td><td>0.45760953</td><td>0.098516606</td><td>-0.0047517032</td><td>0.09568097</td><td>0.9796141</td><td>-0.021662785</td><td>0.42855677</td><td>0.08964669</td><td>-0.0012039274</td><td>0.10315097</td><td>1.0188422</td><td>-0.016388766</td><td>0.358476</td><td>0.0919362</td><td>0.008655736</td><td>0.09977108</td><td>1.041478</td><td>-0.047172744</td><td>0.3106837</td><td>0.081895106</td><td>-0.0037952946</td><td>0.07645044</td><td>1.3922195</td><td>-0.041403517</td><td>0.4842796</td><td>0.1081265</td><td>-0.00026323687</td><td>0.108910725</td><td>0.0968008</td><td>-0.44939804</td><td>30.549427</td><td>-6.462482</td><td>0.43114</td><td>0.00011</td><td>18.447</td></tr>\n",
              "<tr><td>36411452835255019</td><td>30.547026411690943</td><td>-6.348966565304708</td><td>8279</td><td>6</td><td>0.08676626</td><td>0.06095062</td><td>0.043731265</td><td>0.033822775</td><td>0.028788188</td><td>1.0</td><td>1.0</td><td>1.0</td><td>1.0</td><td>1.0</td><td>1.4093444</td><td>6.2465854</td><td>12.398548</td><td>25.676558</td><td>19.821217</td><td>7464.0796</td><td>42.78173</td><td>5165.8286</td><td>29.757978</td><td>7462.1543</td><td>42.770695</td><td>36183.39</td><td>80.16678</td><td>25048.281</td><td>55.580013</td><td>36169.875</td><td>80.13683</td><td>83475.61</td><td>86.483444</td><td>57865.62</td><td>59.986805</td><td>83428.85</td><td>86.435</td><td>123994.01</td><td>185.16388</td><td>86041.87</td><td>128.67714</td><td>123923.0</td><td>185.05786</td><td>146001.64</td><td>333.5358</td><td>101364.49</td><td>232.62941</td><td>145957.27</td><td>333.4345</td><td>21.71756</td><td>0.006223094</td><td>22.11715</td><td>0.00625443</td><td>21.717838</td><td>0.006223094</td><td>20.003727</td><td>0.0024055229</td><td>20.403055</td><td>0.0024091564</td><td>20.004131</td><td>0.0024055229</td><td>19.0961</td><td>0.0011248579</td><td>19.493948</td><td>0.001125536</td><td>19.09671</td><td>0.0011248579</td><td>18.666498</td><td>0.0016213616</td><td>19.063225</td><td>0.0016237377</td><td>18.66712</td><td>0.0016213617</td><td>18.489105</td><td>0.0024803274</td><td>18.885284</td><td>0.002491742</td><td>18.489435</td><td>0.002480328</td><td>0.3679501</td><td>0.012571205</td><td>0.3907874</td><td>0.102801286</td><td>0.0016189571</td><td>0.09138428</td><td>0.29651216</td><td>-0.0014420793</td><td>0.334267</td><td>0.08696972</td><td>-0.0009572935</td><td>0.096492276</td><td>0.27760282</td><td>0.010430966</td><td>0.3184495</td><td>0.092939064</td><td>0.007417601</td><td>0.100635946</td><td>0.24278706</td><td>-0.008435879</td><td>0.2705335</td><td>0.07838803</td><td>-0.006211769</td><td>0.07533972</td><td>0.3453665</td><td>0.0040056</td><td>0.38404065</td><td>0.110440366</td><td>-0.00035288223</td><td>0.11088229</td><td>0.078707434</td><td>-0.4321003</td><td>30.547013</td><td>-6.348984</td><td>0.48198</td><td>0.00012</td><td>18.664</td></tr>\n",
              "<tr><td>36411452835257744</td><td>30.54910651440308</td><td>-6.294044949542694</td><td>8279</td><td>6</td><td>0.09099381</td><td>0.06392034</td><td>0.045862004</td><td>0.035470735</td><td>0.030190848</td><td>1.0</td><td>1.0</td><td>1.0</td><td>1.0</td><td>1.0</td><td>1.9691514</td><td>9.047566</td><td>14.33928</td><td>30.922049</td><td>21.917511</td><td>23005.455</td><td>49.283657</td><td>16361.22</td><td>35.04674</td><td>23001.098</td><td>49.274326</td><td>94446.86</td><td>87.06873</td><td>67497.33</td><td>62.05821</td><td>94388.76</td><td>87.01517</td><td>165633.77</td><td>95.80806</td><td>118385.305</td><td>68.2462</td><td>165528.62</td><td>95.74723</td><td>219634.78</td><td>196.26031</td><td>156882.12</td><td>139.73557</td><td>219567.4</td><td>196.20009</td><td>262041.67</td><td>361.88232</td><td>187609.27</td><td>259.98853</td><td>261903.38</td><td>361.69138</td><td>20.495422</td><td>0.0023259288</td><td>20.86546</td><td>0.0023257139</td><td>20.495628</td><td>0.002325929</td><td>18.962032</td><td>0.0010009191</td><td>19.326782</td><td>0.0009982445</td><td>18.9627</td><td>0.0010009191</td><td>18.352127</td><td>0.0006280258</td><td>18.716755</td><td>0.00062590005</td><td>18.352818</td><td>0.0006280257</td><td>18.045746</td><td>0.00097018754</td><td>18.411066</td><td>0.0009670697</td><td>18.04608</td><td>0.0009701874</td><td>17.854074</td><td>0.0014994132</td><td>18.216864</td><td>0.0015046109</td><td>17.854649</td><td>0.0014994133</td><td>0.40150806</td><td>-0.06951657</td><td>0.32608202</td><td>0.11229592</td><td>0.0018804279</td><td>0.10305642</td><td>0.3345085</td><td>-0.06011648</td><td>0.2876096</td><td>0.089496486</td><td>0.00017350537</td><td>0.097704805</td><td>0.30642024</td><td>-0.044212624</td><td>0.26579192</td><td>0.09344763</td><td>0.0074843215</td><td>0.098447695</td><td>0.27783126</td><td>-0.04886039</td><td>0.2362085</td><td>0.0795122</td><td>-0.0018727912</td><td>0.0841788</td><td>0.40123433</td><td>-0.07070753</td><td>0.34003288</td><td>0.12051326</td><td>-0.0011497188</td><td>0.11841888</td><td>0.123171896</td><td>0.030872345</td><td>30.549083</td><td>-6.29407</td><td>0.33333</td><td>6e-05</td><td>18.383</td></tr>\n",
              "<tr><td>36411452835259516</td><td>30.613773931711872</td><td>-6.251748523679239</td><td>8279</td><td>6</td><td>0.09336402</td><td>0.065585345</td><td>0.04705662</td><td>0.036394678</td><td>0.03097726</td><td>1.0</td><td>1.0</td><td>1.0</td><td>1.0</td><td>1.0</td><td>5.3033133</td><td>20.13258</td><td>27.74347</td><td>57.801907</td><td>42.195595</td><td>49714.83</td><td>72.16855</td><td>32966.418</td><td>47.84506</td><td>49700.613</td><td>72.1479</td><td>171259.38</td><td>109.163765</td><td>113741.63</td><td>72.19787</td><td>171067.5</td><td>109.04149</td><td>272788.56</td><td>115.49201</td><td>181413.5</td><td>76.38814</td><td>272232.7</td><td>115.25666</td><td>364462.94</td><td>208.1785</td><td>242424.8</td><td>137.98509</td><td>363846.0</td><td>207.8261</td><td>450504.22</td><td>416.79276</td><td>299853.34</td><td>279.02155</td><td>450063.3</td><td>416.38483</td><td>19.658785</td><td>0.0015761093</td><td>20.10482</td><td>0.0015757584</td><td>19.659096</td><td>0.0015761091</td><td>18.315865</td><td>0.00069206755</td><td>18.7602</td><td>0.0006891745</td><td>18.317081</td><td>0.00069206767</td><td>17.810434</td><td>0.00045967416</td><td>18.253325</td><td>0.00045717304</td><td>17.812649</td><td>0.00045967413</td><td>17.495867</td><td>0.0006201643</td><td>17.938557</td><td>0.0006179871</td><td>17.497705</td><td>0.0006201643</td><td>17.265753</td><td>0.00100449</td><td>17.707727</td><td>0.0010103065</td><td>17.266815</td><td>0.00100449</td><td>0.5568177</td><td>0.08128475</td><td>0.34791952</td><td>0.11575906</td><td>-0.0026655258</td><td>0.11420793</td><td>0.4621303</td><td>0.07264128</td><td>0.29687262</td><td>0.08902609</td><td>-0.00010234616</td><td>0.095123395</td><td>0.417555</td><td>0.07458047</td><td>0.27228302</td><td>0.09006846</td><td>0.007652214</td><td>0.09381842</td><td>0.3557141</td><td>0.050331634</td><td>0.22243047</td><td>0.07359612</td><td>-0.002549605</td><td>0.07158891</td><td>0.54626054</td><td>0.080663495</td><td>0.34500876</td><td>0.113991484</td><td>-0.00016675984</td><td>0.11318713</td><td>0.04172349</td><td>-0.08843422</td><td>30.613769</td><td>-6.251759</td><td>0.24553</td><td>4e-05</td><td>17.722</td></tr>\n",
              "<tr><td>36411457130207348</td><td>30.577532296525625</td><td>-6.073606902674183</td><td>8279</td><td>7</td><td>0.09508207</td><td>0.06679222</td><td>0.047922537</td><td>0.0370644</td><td>0.031547293</td><td>1.0</td><td>1.0</td><td>1.0</td><td>1.0</td><td>1.0</td><td>-0.21478936</td><td>-0.037566517</td><td>0.25079644</td><td>0.32477605</td><td>-0.35610664</td><td>18516.592</td><td>30.757809</td><td>18523.38</td><td>30.769085</td><td>18643.55</td><td>30.921965</td><td>24141.527</td><td>40.640106</td><td>24154.627</td><td>40.66215</td><td>24295.496</td><td>40.858177</td><td>21353.65</td><td>40.73803</td><td>21220.238</td><td>40.510864</td><td>21356.969</td><td>40.742085</td><td>21512.838</td><td>64.06041</td><td>21320.68</td><td>63.532024</td><td>21483.88</td><td>63.97418</td><td>26656.115</td><td>163.2683</td><td>26499.152</td><td>162.37476</td><td>26637.963</td><td>163.1571</td><td>20.731098</td><td>0.0018035104</td><td>20.7307</td><td>0.0018035104</td><td>20.723679</td><td>0.0018007887</td><td>20.443089</td><td>0.0018277399</td><td>20.4425</td><td>0.0018277396</td><td>20.436186</td><td>0.0018259023</td><td>20.57632</td><td>0.0020713438</td><td>20.583124</td><td>0.0020727434</td><td>20.576149</td><td>0.002071228</td><td>20.568254</td><td>0.0032330789</td><td>20.577997</td><td>0.0032353103</td><td>20.569717</td><td>0.0032330786</td><td>20.335506</td><td>0.006650117</td><td>20.341919</td><td>0.006652897</td><td>20.336246</td><td>0.006650117</td><td>0.10156713</td><td>-0.004326379</td><td>0.105355464</td><td>0.09938845</td><td>-0.0052792244</td><td>0.10428927</td><td>0.09671776</td><td>-0.0027046758</td><td>0.10484869</td><td>0.0975329</td><td>-0.0031036441</td><td>0.102803014</td><td>0.100920185</td><td>0.006024233</td><td>0.10243004</td><td>0.09245531</td><td>0.0046045315</td><td>0.09570622</td><td>0.07550337</td><td>-0.0003603792</td><td>0.074663</td><td>0.06672559</td><td>-0.0028228292</td><td>0.0652906</td><td>0.13865438</td><td>0.0056546526</td><td>0.1450542</td><td>0.11487335</td><td>-8.942191e-05</td><td>0.1184758</td><td>0.14675726</td><td>-0.28132057</td><td>30.577547</td><td>-6.073645</td><td>1.10618</td><td>0.00083</td><td>20.295</td></tr>\n",
              "<tr><td>36411457130221504</td><td>30.608273624326912</td><td>-6.198991670525249</td><td>8279</td><td>7</td><td>0.09473632</td><td>0.066549346</td><td>0.04774828</td><td>0.036929622</td><td>0.031432576</td><td>1.0</td><td>1.0</td><td>1.0</td><td>1.0</td><td>1.0</td><td>0.34062982</td><td>0.562956</td><td>1.0644155</td><td>1.6518239</td><td>1.7545176</td><td>18684.408</td><td>33.82436</td><td>18698.729</td><td>33.85029</td><td>19067.191</td><td>34.478954</td><td>17586.797</td><td>34.705414</td><td>17323.88</td><td>34.201675</td><td>17688.098</td><td>34.9005</td><td>25734.877</td><td>40.842396</td><td>25156.873</td><td>39.9563</td><td>25724.398</td><td>40.825768</td><td>26840.83</td><td>84.88491</td><td>26205.047</td><td>82.920555</td><td>26831.834</td><td>84.85646</td><td>41461.02</td><td>232.7157</td><td>40787.51</td><td>229.02707</td><td>41397.49</td><td>232.35912</td><td>20.721302</td><td>0.0019655067</td><td>20.72047</td><td>0.001965507</td><td>20.699284</td><td>0.0019633225</td><td>20.787033</td><td>0.0021425688</td><td>20.803387</td><td>0.0021435148</td><td>20.780796</td><td>0.0021422731</td><td>20.373695</td><td>0.0017231116</td><td>20.398357</td><td>0.001724459</td><td>20.374138</td><td>0.0017231116</td><td>20.32801</td><td>0.0034336725</td><td>20.354038</td><td>0.003435592</td><td>20.328373</td><td>0.0034336725</td><td>19.8559</td><td>0.006094106</td><td>19.873682</td><td>0.0060965465</td><td>19.857565</td><td>0.006094106</td><td>0.12392359</td><td>-0.0043910006</td><td>0.12541617</td><td>0.12325364</td><td>-0.002455178</td><td>0.12199674</td><td>0.102229826</td><td>-0.002119746</td><td>0.11358369</td><td>0.09067397</td><td>0.00048224864</td><td>0.09565765</td><td>0.103914306</td><td>0.0033585257</td><td>0.11782756</td><td>0.0876449</td><td>0.0059753372</td><td>0.0892601</td><td>0.09547428</td><td>-0.0069468385</td><td>0.1059119</td><td>0.074362926</td><td>-0.00077952276</td><td>0.0733411</td><td>0.15170819</td><td>-0.013372635</td><td>0.15129541</td><td>0.12104235</td><td>-0.0016971247</td><td>0.116797</td><td>0.05668464</td><td>-0.70669556</td><td>30.60828</td><td>-6.199006</td><td>0.56081</td><td>9e-05</td><td>19.667</td></tr>\n",
              "<tr><td>36411457130224053</td><td>30.609273127461343</td><td>-6.142582470917563</td><td>8279</td><td>7</td><td>0.09434543</td><td>0.066274755</td><td>0.04755126</td><td>0.036777247</td><td>0.03130288</td><td>1.0</td><td>1.0</td><td>1.0</td><td>1.0</td><td>1.0</td><td>1.9288884</td><td>6.2351174</td><td>8.800276</td><td>16.273508</td><td>11.657068</td><td>16877.406</td><td>47.67463</td><td>12878.733</td><td>36.405407</td><td>19801.695</td><td>56.0405</td><td>55509.59</td><td>80.18906</td><td>39979.38</td><td>57.724163</td><td>61424.7</td><td>88.9138</td><td>112129.8</td><td>100.28193</td><td>74547.26</td><td>66.57447</td><td>114965.375</td><td>102.88117</td><td>159923.56</td><td>213.42754</td><td>103835.19</td><td>138.5004</td><td>159753.55</td><td>213.20064</td><td>190771.56</td><td>425.00793</td><td>123386.4</td><td>276.67447</td><td>190628.23</td><td>424.68857</td><td>20.831734</td><td>0.0030669447</td><td>21.125317</td><td>0.0030691423</td><td>20.658243</td><td>0.0030727268</td><td>19.53908</td><td>0.0015684525</td><td>19.895409</td><td>0.0015676384</td><td>19.429142</td><td>0.0015716305</td><td>18.775696</td><td>0.00097101496</td><td>19.21892</td><td>0.0009696173</td><td>18.748583</td><td>0.0009716126</td><td>18.390219</td><td>0.0014489796</td><td>18.859138</td><td>0.0014482074</td><td>18.391373</td><td>0.0014489796</td><td>18.198715</td><td>0.002418843</td><td>18.671833</td><td>0.0024345913</td><td>18.199532</td><td>0.0024188429</td><td>1.0717093</td><td>-0.4530285</td><td>0.5553323</td><td>0.11387478</td><td>-0.004197591</td><td>0.11128323</td><td>0.90580964</td><td>-0.37682173</td><td>0.48193547</td><td>0.09159644</td><td>-0.00048661462</td><td>0.096725576</td><td>0.65877247</td><td>-0.24767919</td><td>0.3572412</td><td>0.09003594</td><td>0.0045927996</td><td>0.09083764</td><td>0.49811456</td><td>-0.18864551</td><td>0.26228413</td><td>0.07086582</td><td>-0.0027318741</td><td>0.06812561</td><td>0.66910887</td><td>-0.23730887</td><td>0.39974964</td><td>0.11314938</td><td>-0.0005455485</td><td>0.11509628</td><td>0.07314687</td><td>0.09330177</td><td>30.609286</td><td>-6.142598</td><td>0.24658</td><td>4e-05</td><td>18.869</td></tr>\n",
              "<tr><td>36411581684277685</td><td>30.485452948954237</td><td>-6.610974868101204</td><td>8279</td><td>104</td><td>0.09157199</td><td>0.064326495</td><td>0.04615341</td><td>0.035696115</td><td>0.030382682</td><td>1.0</td><td>1.0</td><td>1.0</td><td>1.0</td><td>1.0</td><td>0.7052571</td><td>2.3961945</td><td>3.057805</td><td>5.605041</td><td>4.683339</td><td>6849.415</td><td>50.63152</td><td>4422.356</td><td>32.837814</td><td>6962.2354</td><td>51.467834</td><td>26842.924</td><td>90.456055</td><td>18161.86</td><td>61.274754</td><td>28493.766</td><td>96.08812</td><td>58702.41</td><td>119.08863</td><td>41398.85</td><td>84.04124</td><td>64945.418</td><td>131.9016</td><td>85087.43</td><td>238.72108</td><td>58795.492</td><td>165.05345</td><td>92121.8</td><td>258.80832</td><td>104473.25</td><td>606.22797</td><td>70212.8</td><td>410.0058</td><td>110143.984</td><td>638.98126</td><td>21.810865</td><td>0.008025864</td><td>22.285866</td><td>0.008062039</td><td>21.793129</td><td>0.008026228</td><td>20.327927</td><td>0.0036587447</td><td>20.752098</td><td>0.0036630728</td><td>20.263124</td><td>0.0036613743</td><td>19.47836</td><td>0.0022026154</td><td>19.857529</td><td>0.0022040855</td><td>19.368628</td><td>0.0022050876</td><td>19.075336</td><td>0.0030461387</td><td>19.476639</td><td>0.0030479294</td><td>18.989094</td><td>0.003050283</td><td>18.852486</td><td>0.0063002123</td><td>19.283958</td><td>0.006340128</td><td>18.795097</td><td>0.0062987106</td><td>0.45524836</td><td>-0.09120454</td><td>0.583564</td><td>0.10049152</td><td>0.0027885742</td><td>0.09149708</td><td>0.3490719</td><td>-0.049499266</td><td>0.48154902</td><td>0.088833965</td><td>0.00035753995</td><td>0.09449429</td><td>0.34859815</td><td>-0.03448405</td><td>0.4619169</td><td>0.1054387</td><td>0.0060207173</td><td>0.10979008</td><td>0.26364142</td><td>-0.029998621</td><td>0.36453366</td><td>0.075188</td><td>-0.00027723965</td><td>0.081513524</td><td>0.3120532</td><td>-0.051087618</td><td>0.4157325</td><td>0.09736081</td><td>-0.0011820829</td><td>0.09864599</td><td>0.11022611</td><td>0.045640945</td><td>30.485437</td><td>-6.611001</td><td>0.62911</td><td>0.00018</td><td>19.524</td></tr>\n",
              "<tr><td>...</td><td>...</td><td>...</td><td>...</td><td>...</td><td>...</td><td>...</td><td>...</td><td>...</td><td>...</td><td>...</td><td>...</td><td>...</td><td>...</td><td>...</td><td>...</td><td>...</td><td>...</td><td>...</td><td>...</td><td>...</td><td>...</td><td>...</td><td>...</td><td>...</td><td>...</td><td>...</td><td>...</td><td>...</td><td>...</td><td>...</td><td>...</td><td>...</td><td>...</td><td>...</td><td>...</td><td>...</td><td>...</td><td>...</td><td>...</td><td>...</td><td>...</td><td>...</td><td>...</td><td>...</td><td>...</td><td>...</td><td>...</td><td>...</td><td>...</td><td>...</td><td>...</td><td>...</td><td>...</td><td>...</td><td>...</td><td>...</td><td>...</td><td>...</td><td>...</td><td>...</td><td>...</td><td>...</td><td>...</td><td>...</td><td>...</td><td>...</td><td>...</td><td>...</td><td>...</td><td>...</td><td>...</td><td>...</td><td>...</td><td>...</td><td>...</td><td>...</td><td>...</td><td>...</td><td>...</td><td>...</td><td>...</td><td>...</td><td>...</td><td>...</td><td>...</td><td>...</td><td>...</td><td>...</td><td>...</td><td>...</td><td>...</td><td>...</td><td>...</td><td>...</td><td>...</td><td>...</td><td>...</td><td>...</td><td>...</td><td>...</td><td>...</td><td>...</td><td>...</td><td>...</td><td>...</td><td>...</td><td>...</td><td>...</td><td>...</td><td>...</td><td>...</td><td>...</td><td>...</td><td>...</td><td>...</td><td>...</td></tr>\n",
              "<tr><td>37471506598490799</td><td>30.279544787544737</td><td>-5.334343595214319</td><td>8520</td><td>103</td><td>0.09548544</td><td>0.06707558</td><td>0.048125844</td><td>0.03722164</td><td>0.031681128</td><td>1.0</td><td>1.0</td><td>1.0</td><td>1.0</td><td>1.0</td><td>42.41755</td><td>113.54245</td><td>139.88184</td><td>269.53775</td><td>216.09477</td><td>183877.48</td><td>122.16917</td><td>97748.99</td><td>64.444954</td><td>183778.78</td><td>122.103615</td><td>546799.5</td><td>213.43063</td><td>292423.6</td><td>112.66289</td><td>546458.6</td><td>213.29762</td><td>877673.5</td><td>205.74286</td><td>469565.72</td><td>110.01227</td><td>877103.7</td><td>205.60928</td><td>1198541.4</td><td>376.824</td><td>644892.6</td><td>202.58907</td><td>1198049.9</td><td>376.66943</td><td>1376956.1</td><td>652.8443</td><td>736692.2</td><td>355.29846</td><td>1382954.9</td><td>655.68854</td><td>18.238678</td><td>0.00072136876</td><td>18.924719</td><td>0.00071581523</td><td>18.239262</td><td>0.000721369</td><td>17.05543</td><td>0.00042379217</td><td>17.734968</td><td>0.00041830473</td><td>17.056107</td><td>0.00042379228</td><td>16.541668</td><td>0.00025451658</td><td>17.22076</td><td>0.00025437184</td><td>16.542374</td><td>0.00025451658</td><td>16.203367</td><td>0.00034135778</td><td>16.876282</td><td>0.00034107736</td><td>16.203812</td><td>0.00034135775</td><td>16.0527</td><td>0.0005147707</td><td>16.731785</td><td>0.0005236385</td><td>16.04798</td><td>0.00051477074</td><td>0.47611946</td><td>0.01821907</td><td>0.4921511</td><td>0.08213308</td><td>0.0032136266</td><td>0.08426102</td><td>0.45268384</td><td>0.017001968</td><td>0.48118612</td><td>0.0720597</td><td>0.001595855</td><td>0.08276566</td><td>0.56769586</td><td>0.01938966</td><td>0.58878285</td><td>0.101452194</td><td>0.00047505685</td><td>0.10342175</td><td>0.38833186</td><td>0.0054441052</td><td>0.389593</td><td>0.06541026</td><td>-0.0032891347</td><td>0.06151327</td><td>0.6005201</td><td>0.02721788</td><td>0.63406575</td><td>0.0982477</td><td>0.0040565366</td><td>0.10288038</td><td>0.08238286</td><td>-0.004667282</td><td>30.279541</td><td>-5.334366</td><td>0.18865</td><td>3e-05</td><td>16.537</td></tr>\n",
              "<tr><td>37471506598490802</td><td>30.282677304722867</td><td>-5.33579192671216</td><td>8520</td><td>103</td><td>0.09554174</td><td>0.06711512</td><td>0.048154216</td><td>0.037243586</td><td>0.031699806</td><td>1.0</td><td>1.0</td><td>1.0</td><td>1.0</td><td>1.0</td><td>0.3635937</td><td>0.9686977</td><td>1.169897</td><td>3.0173445</td><td>3.2673488</td><td>1306.9646</td><td>28.641544</td><td>1307.3672</td><td>28.65037</td><td>2185.096</td><td>49.243706</td><td>3463.883</td><td>47.82868</td><td>3469.344</td><td>47.904083</td><td>5872.9517</td><td>82.20152</td><td>9814.373</td><td>59.9367</td><td>9825.612</td><td>60.005337</td><td>16700.963</td><td>103.38612</td><td>15667.001</td><td>112.8221</td><td>15681.746</td><td>112.92827</td><td>26595.432</td><td>193.78479</td><td>20946.531</td><td>272.85965</td><td>20342.73</td><td>264.9932</td><td>34964.01</td><td>458.70572</td><td>23.60934</td><td>0.023793422</td><td>23.609005</td><td>0.023793424</td><td>23.051323</td><td>0.02446834</td><td>22.551092</td><td>0.01499165</td><td>22.549381</td><td>0.014991651</td><td>21.97786</td><td>0.015196646</td><td>21.420343</td><td>0.0066306265</td><td>21.419102</td><td>0.0066306265</td><td>20.843145</td><td>0.0067211725</td><td>20.912535</td><td>0.007818664</td><td>20.911514</td><td>0.007818664</td><td>20.337982</td><td>0.007911101</td><td>20.59722</td><td>0.0141433235</td><td>20.628977</td><td>0.014143269</td><td>20.040947</td><td>0.014244172</td><td>0.24213552</td><td>-0.08605611</td><td>0.24794482</td><td>0.08214677</td><td>0.0032193556</td><td>0.08428041</td><td>0.23369151</td><td>-0.06300609</td><td>0.2201822</td><td>0.07208452</td><td>0.0016329254</td><td>0.08286546</td><td>0.23509805</td><td>-0.057705194</td><td>0.20620048</td><td>0.10384022</td><td>0.000989416</td><td>0.10612222</td><td>0.5434532</td><td>-0.21550632</td><td>0.3397994</td><td>0.071879506</td><td>-0.0041615814</td><td>0.06591158</td><td>0.5587712</td><td>-0.18183623</td><td>0.3714254</td><td>0.10132375</td><td>0.00414952</td><td>0.10680472</td><td>0.06078758</td><td>-0.011343002</td><td>30.2826607</td><td>-5.335789</td><td>0.7746</td><td>0.00089</td><td>21.409</td></tr>\n",
              "<tr><td>37471506598491243</td><td>30.319605976865482</td><td>-5.322888928230588</td><td>8520</td><td>103</td><td>0.09365556</td><td>0.06579014</td><td>0.047203556</td><td>0.036508325</td><td>0.03107399</td><td>1.0</td><td>1.0</td><td>1.0</td><td>1.0</td><td>1.0</td><td>-0.1357757</td><td>0.10039644</td><td>0.041976474</td><td>0.18644166</td><td>-1.3546075</td><td>2200.8022</td><td>15.95029</td><td>2141.5566</td><td>15.508762</td><td>2199.8923</td><td>15.943696</td><td>3045.3467</td><td>27.157768</td><td>2966.88</td><td>26.458258</td><td>3043.3352</td><td>27.139832</td><td>4515.8843</td><td>30.894438</td><td>4496.292</td><td>30.759502</td><td>4614.8984</td><td>31.583378</td><td>6066.117</td><td>48.01421</td><td>5981.2983</td><td>47.343475</td><td>6122.6333</td><td>48.48058</td><td>5345.196</td><td>122.972176</td><td>5216.8975</td><td>120.036095</td><td>5392.0166</td><td>124.051476</td><td>23.043547</td><td>0.007868861</td><td>23.073175</td><td>0.007862703</td><td>23.043995</td><td>0.007868861</td><td>22.690907</td><td>0.0096823685</td><td>22.71925</td><td>0.009682457</td><td>22.691626</td><td>0.00968237</td><td>22.263142</td><td>0.007427827</td><td>22.267864</td><td>0.00742761</td><td>22.239594</td><td>0.007430546</td><td>21.942722</td><td>0.00859376</td><td>21.958012</td><td>0.008593874</td><td>21.932655</td><td>0.008597137</td><td>22.08009</td><td>0.024978569</td><td>22.106468</td><td>0.024981806</td><td>22.070621</td><td>0.024978997</td><td>0.108508155</td><td>0.0029034964</td><td>0.099036336</td><td>0.08274409</td><td>0.0033043167</td><td>0.08406635</td><td>0.11781568</td><td>0.0035115916</td><td>0.09846749</td><td>0.07255215</td><td>0.0017660622</td><td>0.082331605</td><td>0.15607153</td><td>0.0056922706</td><td>0.12559712</td><td>0.102073416</td><td>0.00055147515</td><td>0.103661485</td><td>0.11282588</td><td>0.00010378002</td><td>0.077941164</td><td>0.06696301</td><td>-0.0030393025</td><td>0.06085335</td><td>0.13990483</td><td>0.007799318</td><td>0.116629556</td><td>0.099187344</td><td>0.0036990338</td><td>0.102987505</td><td>0.12430586</td><td>-0.08214378</td><td>30.3195738</td><td>-5.322876</td><td>0.8138</td><td>0.00091</td><td>22.181</td></tr>\n",
              "<tr><td>37471506598491450</td><td>30.32147037091635</td><td>-5.319469788013497</td><td>8520</td><td>103</td><td>0.093394995</td><td>0.0656071</td><td>0.04707223</td><td>0.036406755</td><td>0.030987538</td><td>1.0</td><td>1.0</td><td>1.0</td><td>1.0</td><td>1.0</td><td>0.32556602</td><td>0.6543749</td><td>0.291686</td><td>0.7668158</td><td>-0.82228255</td><td>3119.8137</td><td>28.616922</td><td>3121.9944</td><td>28.636915</td><td>5202.866</td><td>48.716393</td><td>5441.6865</td><td>49.77505</td><td>5447.4717</td><td>49.827972</td><td>9096.125</td><td>84.6672</td><td>8712.481</td><td>56.939026</td><td>8720.528</td><td>56.99162</td><td>14708.483</td><td>97.473526</td><td>8808.252</td><td>105.40883</td><td>8814.334</td><td>105.481606</td><td>14641.291</td><td>177.98584</td><td>9283.089</td><td>231.56093</td><td>9291.753</td><td>231.77707</td><td>15665.296</td><td>397.22946</td><td>22.664677</td><td>0.009959064</td><td>22.66392</td><td>0.009959062</td><td>22.109394</td><td>0.010166155</td><td>22.060665</td><td>0.009931218</td><td>22.059513</td><td>0.009931218</td><td>21.50286</td><td>0.010106088</td><td>21.549644</td><td>0.0070956545</td><td>21.548643</td><td>0.007095655</td><td>20.98108</td><td>0.007195203</td><td>21.537775</td><td>0.012993064</td><td>21.537025</td><td>0.012993063</td><td>20.986052</td><td>0.0131986765</td><td>21.480768</td><td>0.027083019</td><td>21.479755</td><td>0.02708302</td><td>20.912653</td><td>0.027531328</td><td>0.50282097</td><td>-0.005876227</td><td>0.4905409</td><td>0.08280573</td><td>0.003296245</td><td>0.08397751</td><td>0.5199077</td><td>-0.00944585</td><td>0.4904461</td><td>0.07263691</td><td>0.0017586208</td><td>0.08218601</td><td>0.51909864</td><td>-0.011246099</td><td>0.51540416</td><td>0.10198456</td><td>0.00060682994</td><td>0.103607334</td><td>0.40435445</td><td>-0.04219123</td><td>0.40073103</td><td>0.067045756</td><td>-0.0030427803</td><td>0.060785253</td><td>0.45492563</td><td>0.0036385336</td><td>0.4217153</td><td>0.09929213</td><td>0.003808573</td><td>0.10285973</td><td>0.13281876</td><td>-0.06964493</td><td>30.3214364</td><td>-5.319455</td><td>0.6785</td><td>0.00084</td><td>21.48</td></tr>\n",
              "<tr><td>37471506598491866</td><td>30.294940271866935</td><td>-5.312972656616361</td><td>8520</td><td>103</td><td>0.09432528</td><td>0.0662606</td><td>0.047541108</td><td>0.036769394</td><td>0.031296197</td><td>1.0</td><td>1.0</td><td>1.0</td><td>1.0</td><td>1.0</td><td>0.09523955</td><td>-0.13611367</td><td>-0.44613966</td><td>0.07771591</td><td>0.90626794</td><td>1432.7025</td><td>18.923702</td><td>1433.9454</td><td>18.940119</td><td>1784.4242</td><td>23.811766</td><td>2584.4734</td><td>31.746998</td><td>2588.951</td><td>31.801998</td><td>3208.6604</td><td>39.83831</td><td>3083.74</td><td>45.986786</td><td>3086.1536</td><td>46.02278</td><td>3866.4453</td><td>57.96938</td><td>3204.8865</td><td>79.58984</td><td>3208.898</td><td>79.68945</td><td>3999.1787</td><td>99.788376</td><td>3334.446</td><td>184.37628</td><td>3337.7166</td><td>184.5571</td><td>4193.4697</td><td>232.86069</td><td>23.50961</td><td>0.014340833</td><td>23.508669</td><td>0.014340833</td><td>23.271254</td><td>0.014488312</td><td>22.869068</td><td>0.013336901</td><td>22.867191</td><td>0.013336901</td><td>22.63419</td><td>0.013480359</td><td>22.677305</td><td>0.016191222</td><td>22.676456</td><td>0.016191222</td><td>22.43172</td><td>0.016278377</td><td>22.635468</td><td>0.026963068</td><td>22.63411</td><td>0.026963064</td><td>22.395073</td><td>0.027091525</td><td>22.592442</td><td>0.060035158</td><td>22.591377</td><td>0.06003515</td><td>22.343567</td><td>0.060290232</td><td>0.3105188</td><td>-0.059567295</td><td>0.2580607</td><td>0.0825677</td><td>0.0031712656</td><td>0.083851844</td><td>0.25566515</td><td>-0.06328254</td><td>0.22852337</td><td>0.07231033</td><td>0.0014598526</td><td>0.08211669</td><td>0.26932514</td><td>-0.060245026</td><td>0.2686897</td><td>0.109671384</td><td>0.0020498522</td><td>0.11373905</td><td>0.24301179</td><td>-0.043912157</td><td>0.27305055</td><td>0.074632704</td><td>-0.0032772676</td><td>0.06909625</td><td>0.27498823</td><td>-0.05203083</td><td>0.17062898</td><td>0.10452779</td><td>0.0035602888</td><td>0.11027917</td><td>0.12058543</td><td>-0.2053051</td><td>30.2949199</td><td>-5.312946</td><td>0.5264</td><td>0.00076</td><td>22.472</td></tr>\n",
              "<tr><td>37471506598491921</td><td>30.355244288894525</td><td>-5.312633744061777</td><td>8520</td><td>103</td><td>0.0912981</td><td>0.0641341</td><td>0.04601537</td><td>0.035589352</td><td>0.03029181</td><td>1.0</td><td>1.0</td><td>1.0</td><td>1.0</td><td>1.0</td><td>0.12437533</td><td>0.44575047</td><td>0.7531023</td><td>1.029134</td><td>1.8492408</td><td>396.74588</td><td>17.384604</td><td>361.34167</td><td>15.847694</td><td>411.1511</td><td>18.021717</td><td>1989.9019</td><td>30.480442</td><td>1742.8865</td><td>26.755411</td><td>1988.3895</td><td>30.45728</td><td>6547.9736</td><td>47.07016</td><td>5734.419</td><td>41.324734</td><td>6543.284</td><td>47.03645</td><td>12774.054</td><td>76.103424</td><td>11223.342</td><td>67.0449</td><td>12766.166</td><td>76.05643</td><td>14770.962</td><td>198.14893</td><td>13256.795</td><td>178.06496</td><td>15104.173</td><td>202.62091</td><td>24.903719</td><td>0.047574766</td><td>25.005203</td><td>0.047618132</td><td>24.864996</td><td>0.047590364</td><td>23.15292</td><td>0.016630828</td><td>23.296827</td><td>0.01666736</td><td>23.153746</td><td>0.01663083</td><td>21.859732</td><td>0.0078048226</td><td>22.003777</td><td>0.00782429</td><td>21.86051</td><td>0.0078048226</td><td>21.134178</td><td>0.006468443</td><td>21.274694</td><td>0.006485864</td><td>21.13485</td><td>0.0064684427</td><td>20.976479</td><td>0.014564891</td><td>21.093903</td><td>0.014583583</td><td>20.952257</td><td>0.014565038</td><td>0.15949509</td><td>-0.04631736</td><td>0.16278072</td><td>0.08265026</td><td>-0.00027891478</td><td>0.08285254</td><td>0.1617161</td><td>-0.04409955</td><td>0.17751236</td><td>0.07858379</td><td>-0.00033980267</td><td>0.08358264</td><td>0.18453419</td><td>-0.044328205</td><td>0.21941654</td><td>0.10317754</td><td>0.00037477977</td><td>0.10799747</td><td>0.13117851</td><td>-0.03777712</td><td>0.13964587</td><td>0.06761492</td><td>-0.0016701538</td><td>0.06150551</td><td>0.18283373</td><td>-0.033270404</td><td>0.21589902</td><td>0.10895013</td><td>0.004009059</td><td>0.11041211</td><td>0.14231686</td><td>0.08526611</td><td>30.3552047</td><td>-5.312631</td><td>0.9242</td><td>0.00096</td><td>21.945</td></tr>\n",
              "<tr><td>37471506598492303</td><td>30.31195379616294</td><td>-5.303334426771336</td><td>8520</td><td>103</td><td>0.09274789</td><td>0.065152526</td><td>0.04674608</td><td>0.0361545</td><td>0.030772833</td><td>1.0</td><td>1.0</td><td>1.0</td><td>1.0</td><td>1.0</td><td>0.36532104</td><td>0.62917095</td><td>0.75334835</td><td>1.8015466</td><td>1.101945</td><td>2686.3555</td><td>43.564938</td><td>1909.418</td><td>31.050814</td><td>3063.5754</td><td>49.781162</td><td>5888.224</td><td>83.83933</td><td>3639.3389</td><td>52.257</td><td>5883.917</td><td>83.77803</td><td>12976.1875</td><td>103.59291</td><td>7960.375</td><td>64.1724</td><td>12962.355</td><td>103.48248</td><td>25618.658</td><td>208.92421</td><td>15758.253</td><td>131.08324</td><td>25604.926</td><td>208.81221</td><td>34147.04</td><td>413.71735</td><td>20951.809</td><td>256.80206</td><td>34202.18</td><td>414.38544</td><td>22.827091</td><td>0.01760751</td><td>23.197746</td><td>0.01765616</td><td>22.68443</td><td>0.017642526</td><td>21.975039</td><td>0.015459227</td><td>22.497444</td><td>0.015590006</td><td>21.975834</td><td>0.015459232</td><td>21.11713</td><td>0.008667766</td><td>21.647667</td><td>0.00875264</td><td>21.11829</td><td>0.008667766</td><td>20.378609</td><td>0.00885435</td><td>20.90623</td><td>0.009031572</td><td>20.379192</td><td>0.00885435</td><td>20.066618</td><td>0.01315452</td><td>20.596947</td><td>0.013307647</td><td>20.064865</td><td>0.01315452</td><td>0.6189206</td><td>0.30443218</td><td>1.4226203</td><td>0.07939796</td><td>4.8151924e-05</td><td>0.0821652</td><td>0.49024054</td><td>0.21497934</td><td>0.9248067</td><td>0.06974998</td><td>0.00060406566</td><td>0.08128837</td><td>0.44634187</td><td>0.11473247</td><td>0.6929679</td><td>0.102787204</td><td>0.0008409727</td><td>0.10276413</td><td>0.23218843</td><td>0.07327876</td><td>0.32936984</td><td>0.067396134</td><td>-0.0022254977</td><td>0.061166935</td><td>0.3191081</td><td>0.041051738</td><td>0.39493152</td><td>0.09958255</td><td>0.004329329</td><td>0.10188419</td><td>0.12820433</td><td>0.29586792</td><td>30.3119193</td><td>-5.303325</td><td>1.0557</td><td>0.00103</td><td>21.413</td></tr>\n",
              "<tr><td>37471506598492464</td><td>30.2807076106866</td><td>-5.301442651017018</td><td>8520</td><td>103</td><td>0.09401634</td><td>0.06604358</td><td>0.047385395</td><td>0.036648963</td><td>0.031193694</td><td>1.0</td><td>1.0</td><td>1.0</td><td>1.0</td><td>1.0</td><td>0.0028945738</td><td>0.49294147</td><td>1.1368587</td><td>3.9181852</td><td>2.3688872</td><td>525.28705</td><td>20.355936</td><td>451.05167</td><td>17.502634</td><td>546.1426</td><td>21.16957</td><td>3118.4692</td><td>36.81</td><td>2576.7295</td><td>30.503508</td><td>3116.3132</td><td>36.78455</td><td>10882.008</td><td>46.139698</td><td>8957.588</td><td>38.0205</td><td>10876.551</td><td>46.11656</td><td>20672.834</td><td>92.10224</td><td>17045.37</td><td>76.17725</td><td>20662.96</td><td>92.05825</td><td>25446.91</td><td>195.80505</td><td>20960.07</td><td>161.67412</td><td>25493.209</td><td>196.16127</td><td>24.599007</td><td>0.04207447</td><td>24.764435</td><td>0.042130966</td><td>24.556734</td><td>0.04208529</td><td>22.665146</td><td>0.012815886</td><td>22.872328</td><td>0.012853022</td><td>22.665897</td><td>0.012815886</td><td>21.308228</td><td>0.00460352</td><td>21.519522</td><td>0.0046084095</td><td>21.308771</td><td>0.00460352</td><td>20.6115</td><td>0.004837205</td><td>20.820984</td><td>0.00485225</td><td>20.612019</td><td>0.0048372047</td><td>20.385912</td><td>0.008354359</td><td>20.59652</td><td>0.008374754</td><td>20.383938</td><td>0.008354357</td><td>0.18494958</td><td>-0.0024151956</td><td>0.1930259</td><td>0.079232596</td><td>-6.498422e-05</td><td>0.08183513</td><td>0.18863666</td><td>-0.011859884</td><td>0.16569217</td><td>0.0695202</td><td>0.00026760905</td><td>0.08090821</td><td>0.23102276</td><td>-0.0022572414</td><td>0.20391238</td><td>0.09907994</td><td>-0.00026375314</td><td>0.102560684</td><td>0.1679506</td><td>-0.01682007</td><td>0.14053619</td><td>0.0725549</td><td>-0.0042318236</td><td>0.0625915</td><td>0.23717615</td><td>-0.0033490811</td><td>0.21544096</td><td>0.10208212</td><td>0.0039440934</td><td>0.105338395</td><td>0.13371007</td><td>-0.017227173</td><td>30.2806816</td><td>-5.301416</td><td>0.8128</td><td>0.00091</td><td>21.291</td></tr>\n",
              "<tr><td>37471510893430322</td><td>30.30356231635228</td><td>-5.259492701539417</td><td>8520</td><td>104</td><td>0.08996813</td><td>0.06319983</td><td>0.04534505</td><td>0.03507091</td><td>0.029850539</td><td>1.0</td><td>1.0</td><td>1.0</td><td>1.0</td><td>1.0</td><td>-0.017086433</td><td>-0.019198125</td><td>0.51269245</td><td>0.44553292</td><td>0.5664746</td><td>885.8256</td><td>20.96852</td><td>886.8492</td><td>20.99275</td><td>1176.1393</td><td>28.142921</td><td>2312.0798</td><td>36.488087</td><td>2315.871</td><td>36.547916</td><td>3069.8726</td><td>48.957787</td><td>4823.5234</td><td>44.907524</td><td>4829.407</td><td>44.9623</td><td>6450.4004</td><td>60.413548</td><td>6615.438</td><td>94.77401</td><td>6612.4634</td><td>94.73139</td><td>8764.6</td><td>127.10834</td><td>8052.155</td><td>181.98286</td><td>7920.214</td><td>178.99576</td><td>10624.673</td><td>241.11958</td><td>24.03163</td><td>0.025700634</td><td>24.030376</td><td>0.025700636</td><td>23.723854</td><td>0.025979735</td><td>22.989992</td><td>0.017134545</td><td>22.988213</td><td>0.017134545</td><td>22.682198</td><td>0.017315129</td><td>22.19159</td><td>0.010108321</td><td>22.190266</td><td>0.010108321</td><td>21.876034</td><td>0.010168853</td><td>21.848602</td><td>0.01555446</td><td>21.84909</td><td>0.01555446</td><td>21.543169</td><td>0.015745856</td><td>21.63522</td><td>0.024538198</td><td>21.653156</td><td>0.02453749</td><td>21.33421</td><td>0.02464003</td><td>0.20130454</td><td>0.09247445</td><td>0.44049597</td><td>0.079716064</td><td>-8.177234e-05</td><td>0.08179729</td><td>0.1975089</td><td>0.119811594</td><td>0.41583917</td><td>0.06901583</td><td>0.0010137776</td><td>0.08068721</td><td>0.22439386</td><td>0.08144862</td><td>0.4162233</td><td>0.10154239</td><td>-0.00015576954</td><td>0.104956344</td><td>0.19163182</td><td>0.08074589</td><td>0.32776678</td><td>0.07661547</td><td>-0.0029877296</td><td>0.06637742</td><td>0.24503218</td><td>0.055256587</td><td>0.34869546</td><td>0.102906145</td><td>0.0036999742</td><td>0.10569672</td><td>0.13777846</td><td>-0.030590057</td><td>30.3035382</td><td>-5.259463</td><td>0.6519</td><td>0.00083</td><td>22.161</td></tr>\n",
              "<tr><td>37471510893432632</td><td>30.37657526141208</td><td>-5.192464944943162</td><td>8520</td><td>104</td><td>0.08822963</td><td>0.06197859</td><td>0.04446882</td><td>0.034393214</td><td>0.029273719</td><td>1.0</td><td>1.0</td><td>1.0</td><td>1.0</td><td>1.0</td><td>0.102109425</td><td>0.20394222</td><td>-0.26990953</td><td>0.027733002</td><td>0.2518117</td><td>1110.4158</td><td>17.212898</td><td>1111.676</td><td>17.232435</td><td>1202.0988</td><td>18.673328</td><td>2663.8108</td><td>25.18531</td><td>2666.7698</td><td>25.21329</td><td>2872.987</td><td>27.256866</td><td>4921.8525</td><td>34.99819</td><td>4914.3174</td><td>34.944424</td><td>5321.038</td><td>37.873444</td><td>6537.889</td><td>63.535892</td><td>6545.6694</td><td>63.61151</td><td>7045.1743</td><td>68.693214</td><td>7811.1924</td><td>139.8408</td><td>7825.754</td><td>140.10149</td><td>8459.521</td><td>151.60355</td><td>23.786285</td><td>0.016830333</td><td>23.785053</td><td>0.016830333</td><td>23.70015</td><td>0.01686576</td><td>22.836243</td><td>0.01026522</td><td>22.835035</td><td>0.010265221</td><td>22.754166</td><td>0.010300696</td><td>22.169678</td><td>0.007720427</td><td>22.17134</td><td>0.0077203857</td><td>22.085009</td><td>0.007727922</td><td>21.861404</td><td>0.010551298</td><td>21.860115</td><td>0.010551299</td><td>21.78027</td><td>0.010586353</td><td>21.668205</td><td>0.019437522</td><td>21.666183</td><td>0.01943752</td><td>21.581635</td><td>0.019457538</td><td>0.15523887</td><td>0.007748029</td><td>0.12938116</td><td>0.09022922</td><td>-0.000767096</td><td>0.085139506</td><td>0.14701681</td><td>0.004359087</td><td>0.11888145</td><td>0.0769486</td><td>6.598075e-06</td><td>0.07957838</td><td>0.17657483</td><td>0.013415245</td><td>0.1561643</td><td>0.10183516</td><td>0.0012885598</td><td>0.10547274</td><td>0.15046033</td><td>0.003071042</td><td>0.10353588</td><td>0.074485905</td><td>-0.0034392804</td><td>0.064811334</td><td>0.16095495</td><td>0.006309912</td><td>0.13312227</td><td>0.10153723</td><td>0.0027459695</td><td>0.10558707</td><td>0.13697861</td><td>-0.017677307</td><td>30.3765456</td><td>-5.192441</td><td>0.6275</td><td>0.00081</td><td>22.152</td></tr>\n",
              "</table></div>"
            ],
            "text/plain": [
              "<Table length=1000>\n",
              "    object_id             ra         ... specz_redshift_err specz_mag_i\n",
              "      int64            float64       ...      float32         float32  \n",
              "----------------- ------------------ ... ------------------ -----------\n",
              "36411448540287158 30.562276872708594 ...              5e-05      19.515\n",
              "36411448540288304  30.57566834388161 ...              6e-05      17.902\n",
              "36411448540291562 30.549421220144136 ...            0.00011      18.447\n",
              "36411452835255019 30.547026411690943 ...            0.00012      18.664\n",
              "36411452835257744  30.54910651440308 ...              6e-05      18.383\n",
              "36411452835259516 30.613773931711872 ...              4e-05      17.722\n",
              "36411457130207348 30.577532296525625 ...            0.00083      20.295\n",
              "36411457130221504 30.608273624326912 ...              9e-05      19.667\n",
              "36411457130224053 30.609273127461343 ...              4e-05      18.869\n",
              "36411581684277685 30.485452948954237 ...            0.00018      19.524\n",
              "              ...                ... ...                ...         ...\n",
              "37471506598490799 30.279544787544737 ...              3e-05      16.537\n",
              "37471506598490802 30.282677304722867 ...            0.00089      21.409\n",
              "37471506598491243 30.319605976865482 ...            0.00091      22.181\n",
              "37471506598491450  30.32147037091635 ...            0.00084       21.48\n",
              "37471506598491866 30.294940271866935 ...            0.00076      22.472\n",
              "37471506598491921 30.355244288894525 ...            0.00096      21.945\n",
              "37471506598492303  30.31195379616294 ...            0.00103      21.413\n",
              "37471506598492464   30.2807076106866 ...            0.00091      21.291\n",
              "37471510893430322  30.30356231635228 ...            0.00083      22.161\n",
              "37471510893432632  30.37657526141208 ...            0.00081      22.152"
            ]
          },
          "metadata": {},
          "execution_count": 33
        }
      ]
    },
    {
      "cell_type": "code",
      "metadata": {
        "colab": {
          "base_uri": "https://localhost:8080/"
        },
        "id": "SKTz24ZgaymG",
        "outputId": "ce7ad91a-832c-45e0-b776-a22c41a0d363"
      },
      "source": [
        "# Let's have a look at the cutouts file\n",
        "cutouts.keys() # The HDF file contains a bunch of groups with an object_id"
      ],
      "execution_count": 35,
      "outputs": [
        {
          "output_type": "execute_result",
          "data": {
            "text/plain": [
              "<KeysViewHDF5 ['36411448540287158', '36411448540288304', '36411448540291562', '36411452835255019', '36411452835257744', '36411452835259516', '36411457130207348', '36411457130221504', '36411457130224053', '36411581684277685', '36411585979238387', '36411585979238568', '36411585979239457', '36411585979242403', '36411585979245887', '36411590274207452', '36411590274212062', '36411590274213554', '36411594569174444', '36411594569174875', '36411594569177094', '36411594569177260', '36411594569180078', '36411594569180437', '36411594569181301', '36411594569181522', '36411598864144598', '36411719123228936', '36411719123232150', '36411723418198880', '36411723418199392', '36411727713160867', '36411727713162690', '36411727713163519', '36411727713164695', '36411727713164760', '36411732008130294', '36411732008131445', '36411732008131881', '36411732008132499', '36411732008134943', '36411732008135247', '36411732008137199', '36411736303097068', '36411736303099856', '36411860857155041', '36411865152121150', '36411865152122785', '36411869447083464', '36411869447089777', '36411869447090856', '36411873742050645', '36411994001135075', '36411998296104492', '36412002591072971', '36412006886036212', '36412131440088374', '36412131440088691', '36412131440089480', '36412131440090932', '36412135735037828', '36412135735056708', '36412135735056896', '36412135735058671', '36412135735059700', '36412140030022243', '36412144324991752', '36412144324997098', '36412273174011488', '36412277468974140', '36412281763948076', '36412286058910770', '36412286058911033', '36412419202899400', '36412419202900149', '36412423497861959', '36412423497864238', '36412423497865247', '36415850881768340', '36415855176731816', '36415855176735869', '36415859471700157', '36415859471700526', '36415984025747449', '36415984025748555', '36415984025752233', '36415988320719179', '36415988320720698', '36415988320722146', '36415992615668457', '36415992615668660', '36415992615684315', '36415992615684439', '36415992615685582', '36415992615685782', '36415992615687029', '36415992615689649', '36415992615689799', '36415996910648913', '36416117169740031', '36416121464704286', '36416121464706176', '36416121464706231', '36416121464706481', '36416121464708012', '36416125759678137', '36416130054640186', '36416130054642344', '36416130054642423', '36416130054646558', '36416130054647240', '36416134349604091', '36416134349606739', '36416254608690420', '36416254608692061', '36416254608695665', '36416258903643118', '36416258903659115', '36416258903659616', '36416258903659782', '36416258903660880', '36416258903664150', '36416263198625972', '36416267493590297', '36416267493592083', '36416267493593178', '36416267493593625', '36416267493594045', '36416267493595051', '36416267493599156', '36416267493600364', '36416271788557679', '36416271788561350', '36416271788562069', '36416396342617475', '36416396342618471', '36416400637579824', '36416400637583568', '36416400637584655', '36416400637585413', '36416404932547246', '36416404932550177', '36416404932551039', '36416404932552600', '36416404932552924', '36416409227515396', '36416529486600375', '36416529486600644', '36416533781565012', '36416533781567155', '36416538076530608', '36416538076531506', '36416538076532406', '36416538076532894', '36416538076539005', '36416542371499493', '36416542371499774', '36416542371503255', '36416542371503815', '36416542371507427', '36416542371508350', '36416546666466484', '36416546666466931', '36416546666467984', '36416666925552760', '36416666925552932', '36416666925555479', '36416666925556274', '36416671220520331', '36416671220524426', '36416671220525714', '36416675515486243', '36416675515487220', '36416675515487582', '36416675515488454', '36416675515488621', '36416675515489975', '36416675515490608', '36416675515491002', '36416675515493803', '36416679810452683', '36416679810454971', '36416679810456414', '36416679810457177', '36416679810458099', '36416679810460409', '36416684105418898', '36416684105418996', '36416684105419891', '36416684105420145', '36416684105422607', '36416808659471924', '36416808659474276', '36416808659477199', '36416808659477275', '36416808659480627', '36416812954437726', '36416812954438898', '36416812954438993', '36416812954442500', '36416812954442592', '36416812954442622', '36416812954442673', '36416812954442845', '36416817249405152', '36416817249408124', '36416817249408466', '36416817249408900', '36416817249413514', '36416821544373122', '36416821544373550', '36416821544375419', '36416946098426768', '36416946098426902', '36416946098426979', '36416950393392661', '36416950393395464', '36416950393396944', '36416950393398207', '36416954688360625', '36416954688367311', '36420240338339799', '36420240338340874', '36420244633308598', '36420244633309545', '36420248928277142', '36420248928281330', '36420253223246094', '36420382072259180', '36420382072260066', '36420382072260400', '36420382072261601', '36420382072261624', '36420382072263376', '36420386367231662', '36420386367232057', '36420390662194836', '36420390662197677', '36420390662198691', '36420390662200410', '36420519511213295', '36420519511216580', '36420523806182295', '36420523806184099', '36420528101149487', '36420528101150729', '36420528101151269', '36420528101151270', '36420528101151445', '36420528101151447', '36420528101156152', '36420532396117702', '36420661245137158', '36420661245138330', '36420661245139440', '36420661245143635', '36420665540102055', '36420665540102601', '36420665540103783', '36420665540103983', '36420665540104421', '36420665540105203', '36420665540105764', '36420665540109665', '36420665540110571', '36420665540110980', '36420790094153729', '36420790094154675', '36420794389120304', '36420794389121334', '36420794389123284', '36420794389123663', '36420798684088167', '36420798684088407', '36420798684090488', '36420798684092697', '36420798684093515', '36420798684095471', '36420802979054777', '36420802979054837', '36420802979055777', '36420802979056661', '36420802979057767', '36420802979059212', '36420802979064346', '36420931828074365', '36420936123043317', '36420940418008435', '36420940418008989', '36420940418009248', '36420940418010237', '36420940418011628', '36420940418012039', '36420940418015104', '36420944712975371', '36420944712975966', '36420944712977810', '36420944712979695', '36420944712980276', '36420944712980760', '36421064972064820', '36421069267026230', '36421069267028633', '36421069267028658', '36421069267028817', '36421069267030018', '36421069267030857', '36421073561994939', '36421073561999144', '36421077856961560', '36421077856963033', '36421077856964976', '36421077856965867', '36421077856966494', '36421077856967455', '36421077856968693', '36421082151929621', '36421082151931212', '36421082151931529', '36421202411015032', '36421202411015936', '36421202411016435', '36421202411020744', '36421202411021179', '36421206705980668', '36421206705981919', '36421206705983526', '36421206705985305', '36421206705985787', '36421206705987590', '36421206705987812', '36421206705987896', '36421206705988498', '36421206705989708', '36421211000948825', '36421211000950704', '36421211000952092', '36421211000952094', '36421211000956016', '36421211000956055', '36421211000956323', '36421211000957559', '36421211000958948', '36421215295916381', '36421215295916457', '36421215295917782', '36421215295917810', '36421215295918428', '36421215295919581', '36421215295920437', '36421215295921696', '36421219590884069', '36421219590885821', '36421352734868230', '36421352734869211', '36421352734874999', '36421357029836963', '36424642679819136', '36424646974796167', '36424651269760582', '36424655564720613', '36424775823809628', '36424780118771491', '36424780118778034', '36424784413739727', '36424784413743067', '36424788708705369', '36424788708707372', '36424788708709879', '36424788708711230', '36424793003670787', '36424793003672225', '36424793003674433', '36424793003674752', '36424793003675029', '36424793003675174', '36424793003675354', '36424921852677464', '36424921852692470', '36424921852692471', '36424921852692794', '36424921852692814', '36424921852693407', '36424921852693696', '36424921852696691', '36424921852698518', '36424926147660568', '36424926147660722', '36424926147662244', '36424926147662878', '36424930442626510', '36424930442628019', '36424930442628651', '36424930442629661', '36424930442630129', '36424930442630423', '36425054996678160', '36425054996679763', '36425054996680239', '36425054996680707', '36425054996681142', '36425059291628144', '36425059291645245', '36425059291645246', '36425059291648713', '36425059291651508', '36425063586613161', '36425063586617435', '36425063586617796', '36425067881579624', '36425067881581486', '36425067881582550', '36425188140652026', '36425188140668463', '36425196730599022', '36425196730604637', '36425196730604762', '36425201025573465', '36425329874594073', '36425334169555800', '36425334169556790', '36425334169558000', '36425334169558158', '36425334169558159', '36425334169559388', '36425334169560177', '36425338464522061', '36425338464523765', '36425338464524840', '36425338464527802', '36425342759486518', '36425342759487499', '36425342759487567', '36425342759488607', '36425342759488633', '36425342759488825', '36425342759489107', '36425342759489467', '36425467313538738', '36425471608507405', '36425471608508531', '36425471608513581', '36425475903476750', '36425475903480016', '36425475903481093', '36425475903481147', '36425475903481788', '36425480198440371', '36425480198442367', '36425480198442538', '36425480198442935', '36425604752490674', '36425604752491590', '36425604752492093', '36425604752496905', '36425609047460238', '36425609047462849', '36425609047463016', '36425609047464467', '36425609047466570', '36425609047466656', '36425609047466872', '36425609047467427', '36425613342427688', '36425613342429000', '36425613342430783', '36425613342432993', '36425613342433643', '36425613342435297', '36425617637393673', '36425617637394494', '36425617637395216', '36425617637395600', '36425617637395875', '36425617637396984', '36425737896478431', '36425737896479028', '36425746486410990', '36425746486411428', '36425746486415681', '36425750781383152', '36425750781386150', '36425750781387963', '36429040726327137', '36429045021298035', '36429045021298119', '36429045021300681', '36429049316269487', '36429053611233510', '36429053611234466', '36429178165281612', '36429178165288553', '36429182460252032', '36429182460256039', '36429186755216799', '36429186755218059', '36429186755223153', '36429186755223512', '36429191050182750', '36429191050184423', '36429191050184986', '36429191050185849', '36429191050186251', '36429191050187094', '36429311309271062', '36429311309271577', '36429311309272578', '36429311309273277', '36429311309273771', '36429315604238594', '36429315604240656', '36429319899206506', '36429319899206863', '36429319899207208', '36429319899208053', '36429319899209948', '36429324194171124', '36429324194174112', '36429324194175322', '36429328489135997', '36429328489137927', '36429328489138253', '36429328489138389', '36429328489139708', '36429328489139850', '36429453043189544', '36429453043191301', '36429453043192785', '36429453043194212', '36429453043195485', '36429457338156786', '36429457338159634', '36429457338161112', '36429457338163120', '36429457338165197', '36429461633129678', '36429461633131825', '36429465928076617', '36429465928093221', '36429465928093318', '36429590482144513', '36429590482145196', '36429590482147911', '36429590482149309', '36429590482149683', '36429594777109824', '36429594777110539', '36429594777113860', '36429594777114236', '36429594777114445', '36429594777115698', '36429594777117436', '36429599072083512', '36429603367030803', '36429603367045608', '36429723626132858', '36429727921102898', '36429732216066411', '36429732216068054', '36429732216068982', '36429736511034259', '36429736511036736', '36429736511038787', '36429736511040533', '36429740805998197', '36429740805998572', '36429740805998781', '36429740806001243', '36429740806001704', '36429740806002073', '36429740806002230', '36429865360051286', '36429865360054848', '36429865360056717', '36429865360056777', '36429865360058083', '36429869655017504', '36429869655018917', '36429869655022152', '36429869655024388', '36429869655024738', '36429873949986249', '36429873949988843', '36429878244955951', '36429878244956574', '36429878244958354', '36430002799003142', '36430002799004026', '36430002799006498', '36430002799008822', '36430007093974100', '36430007093978084', '36430007093980065', '36430007093981101', '36430011388938870', '36430011388944120', '36430011388945541', '36430011388947075', '36430011388947552', '36430015683904969', '36430015683905095', '36430015683907472', '36430015683908899', '36430140237958318', '36430140237961044', '36430148827899297', '36430153122858702', '36430153122860125', '36430153122862491', '36430153122862698', '36430153122863146', '36433438772844329', '36433438772849595', '36433443067812144', '36433443067816718', '36433443067816967', '36433443067818300', '36433443067818441', '36433451657748560', '36433576211798090', '36433576211798812', '36433576211799319', '36433576211802915', '36433576211803481', '36433576211803846', '36433580506763417', '36433580506768509', '36433580506770869', '36433580506771305', '36433580506771790', '36433580506772788', '36433584801712287', '36433584801733066', '36433584801736202', '36433584801740618', '36433589096698724', '36433589096699429', '36433589096700715', '36433589096701240', '36433589096702486', '36433589096702796', '36433589096703455', '36433713650747210', '36433713650749695', '36433713650749905', '36433713650750445', '36433713650753245', '36433717945716415', '36433717945717108', '36433717945718067', '36433722240685100', '36433722240686920', '36433726535635518', '36433726535655037', '36433726535655657', '36433726535656171', '36433726535656594', '36433846794739417', '36433851089703492', '36433851089704236', '36433855384668561', '36433855384668741', '36433855384670164', '36433855384670714', '36433859679641357', '36433863974605016', '36433863974606498', '36433984233691530', '36433984233694514', '36433988528655182', '36433988528656924', '36433988528658410', '36433988528659746', '36433988528663215', '36433992823621358', '36433992823624253', '36433992823629102', '36433997118594039', '36433997118594620', '36434001413556871', '36434125967613646', '36434125967617642', '36434125967617935', '36434125967618265', '36434130262577173', '36434130262582267', '36434130262584001', '36434134557543237', '36434134557548886', '36434134557549457', '36434134557550035', '36434138852513151', '36434138852513192', '36434138852513631', '36434138852513701', '36434138852513955', '36434138852514624', '36434138852514736', '36434138852515079', '36434138852515175', '36434138852515222', '36434259111597397', '36434259111598769', '36434263406560871', '36434263406568282', '36434267701530795', '36434267701533956', '36434276291463256', '36434276291466745', '36434276291466999', '36434276291467476', '36434396550547724', '36434396550553627', '36434400845500967', '36434400845514023', '36434405140482177', '36434405140483921', '36434405140487174', '36434409435448745', '36434409435448765', '36434409435451855', '36434409435454714', '36434413730401252', '36434413730401619', '36434413730421324', '36434538284467277', '36434538284468200', '36434542579440109', '36434546874410591', '36434551169369508', '36434551169371833', '36434551169372686', '36437982848248885', '36437982848249982', '36438115992234437', '36438115992240747', '36438120287199000', '36438120287202212', '36438120287202781', '36438124582167384', '36438124582168846', '36438249136217145', '36438257726152392', '36438257726152741', '36438257726153103', '36438257726153567', '36438257726154239', '36438257726154925', '36438257726156675', '36438257726157769', '36438257726158491', '36438257726159202', '36438257726160490', '36438257726160802', '36438262021118438', '36438262021119724', '36438382280203427', '36438386575170562', '36438386575176934', '36438395165105093', '36438395165107013', '36438395165107860', '36438395165113183', '36438519719157161', '36438524014123648', '36438524014123994', '36438532604059259', '36438532604059451', '36438532604066557', '36438536899026230', '36438665748045143', '36438665748048083', '36438665748048409', '36438798892031493', '36438798892032401', '36438803186996618', '36438803186997854', '36438803186999027', '36438803186999868', '36438803186999879', '36438807481964097', '36438807481965046', '36438807481965825', '36438807481966615', '36438807481967306', '36438807481969668', '36438811776930495', '36438811776930600', '36438811776931421', '36438811776932660', '36438811776932839', '36443205528480676', '36443209823445979', '37466971113015561', '37466971113019676', '37466975407988714', '37467112846939754', '37467130026811133', '37471356274631728', '37471360569594719', '37471360569598861', '37471369159529870', '37471369159532662', '37471369159532696', '37471369159532971', '37471369159533487', '37471369159533948', '37471369159533977', '37471369159534120', '37471369159534280', '37471369159534398', '37471369159534687', '37471369159535509', '37471369159535526', '37471369159535698', '37471369159535943', '37471369159536156', '37471373454476948', '37471373454478807', '37471373454480719', '37471373454493882', '37471373454493933', '37471373454494255', '37471373454494557', '37471373454494578', '37471373454494591', '37471373454494956', '37471373454495155', '37471373454496047', '37471373454496372', '37471373454498446', '37471373454498782', '37471373454498862', '37471373454498867', '37471373454498875', '37471373454499240', '37471373454499723', '37471373454500411', '37471373454500550', '37471373454500575', '37471373454501257', '37471373454501905', '37471373454502384', '37471377749445257', '37471377749446251', '37471377749447161', '37471377749447804', '37471377749449749', '37471377749463710', '37471377749463792', '37471377749463803', '37471377749463849', '37471377749464063', '37471377749464197', '37471377749464644', '37471377749465048', '37471377749465205', '37471377749465853', '37471377749466256', '37471377749466344', '37471377749466550', '37471377749466626', '37471377749466631', '37471377749466634', '37471377749466662', '37471377749466961', '37471377749467044', '37471377749467067', '37471377749467088', '37471377749467441', '37471377749467864', '37471377749467884', '37471377749467901', '37471377749467952', '37471377749468083', '37471377749468223', '37471377749468636', '37471377749468843', '37471377749468846', '37471377749469256', '37471377749469284', '37471377749469598', '37471377749469693', '37471377749469703', '37471377749470014', '37471377749470846', '37471377749470944', '37471377749471404', '37471377749471670', '37471382044411653', '37471382044411799', '37471382044411996', '37471382044412383', '37471382044413025', '37471382044413426', '37471382044413864', '37471382044414533', '37471382044417419', '37471382044432509', '37471382044432559', '37471382044432770', '37471382044433280', '37471382044433642', '37471382044433731', '37471382044433818', '37471382044433888', '37471382044434420', '37471382044434752', '37471382044434950', '37471382044434998', '37471382044435019', '37471382044435116', '37471382044435309', '37471382044435394', '37471382044436390', '37471382044436711', '37471382044437204', '37471382044437400', '37471382044437877', '37471382044438139', '37471382044438230', '37471382044438794', '37471382044439358', '37471382044439529', '37471382044439870', '37471382044440016', '37471382044440352', '37471382044440363', '37471382044440648', '37471382044440649', '37471386339380988', '37471386339383112', '37471386339398601', '37471386339398614', '37471386339398647', '37471386339399319', '37471386339400517', '37471386339400860', '37471386339400934', '37471386339401031', '37471386339401269', '37471386339401484', '37471386339401550', '37471386339402253', '37471386339402524', '37471386339402540', '37471386339402660', '37471386339405377', '37471386339406037', '37471386339406102', '37471386339406208', '37471386339406211', '37471386339406413', '37471386339406490', '37471386339406761', '37471386339406772', '37471386339406852', '37471390634344986', '37471390634365666', '37471390634366007', '37471390634366368', '37471390634366851', '37471390634367049', '37471390634367265', '37471390634367807', '37471390634368162', '37471390634368165', '37471390634368426', '37471390634368544', '37471390634368565', '37471390634368704', '37471390634368898', '37471390634369095', '37471493713585875', '37471493713585996', '37471498008549793', '37471498008551710', '37471502303517677', '37471502303519918', '37471506598465902', '37471506598467156', '37471506598467729', '37471506598484965', '37471506598489125', '37471506598489605', '37471506598489797', '37471506598489834', '37471506598489944', '37471506598490089', '37471506598490574', '37471506598490799', '37471506598490802', '37471506598491243', '37471506598491450', '37471506598491866', '37471506598491921', '37471506598492303', '37471506598492464', '37471510893430322', '37471510893432632']>"
            ]
          },
          "metadata": {},
          "execution_count": 35
        }
      ]
    },
    {
      "cell_type": "code",
      "metadata": {
        "colab": {
          "base_uri": "https://localhost:8080/"
        },
        "id": "wJtP0Urma9Pt",
        "outputId": "f6309e12-a0ed-47c9-a990-e1301e3b6182"
      },
      "source": [
        "cutouts['36411448540288304'].keys() # For each object there is data for multiple bands"
      ],
      "execution_count": null,
      "outputs": [
        {
          "output_type": "execute_result",
          "data": {
            "text/plain": [
              "<KeysViewHDF5 ['HSC-G', 'HSC-I', 'HSC-R', 'HSC-Y', 'HSC-Z']>"
            ]
          },
          "metadata": {},
          "execution_count": 69
        }
      ]
    },
    {
      "cell_type": "code",
      "metadata": {
        "colab": {
          "base_uri": "https://localhost:8080/"
        },
        "id": "pVdTu2sabB0m",
        "outputId": "db7a0958-a69a-4cbc-f26c-73afac2f7811"
      },
      "source": [
        "cutouts['36411448540288304']['HSC-I'].keys() # In each band we recognize a FITS-like structure"
      ],
      "execution_count": null,
      "outputs": [
        {
          "output_type": "execute_result",
          "data": {
            "text/plain": [
              "<KeysViewHDF5 ['HDU0', 'HDU1', 'HDU2', 'PRIMARY']>"
            ]
          },
          "metadata": {},
          "execution_count": 70
        }
      ]
    },
    {
      "cell_type": "code",
      "metadata": {
        "colab": {
          "base_uri": "https://localhost:8080/"
        },
        "id": "3HtX-JLUbGcG",
        "outputId": "fe879361-0622-4b66-e496-f4c9b1f5b837"
      },
      "source": [
        "cutouts['36411448540288304']['HSC-I']['HDU0'].keys() # Finally there is some data in the first HDU"
      ],
      "execution_count": null,
      "outputs": [
        {
          "output_type": "execute_result",
          "data": {
            "text/plain": [
              "<KeysViewHDF5 ['DATA']>"
            ]
          },
          "metadata": {},
          "execution_count": 73
        }
      ]
    },
    {
      "cell_type": "code",
      "metadata": {
        "colab": {
          "base_uri": "https://localhost:8080/"
        },
        "id": "eTsyUIVDbKj3",
        "outputId": "129a2e83-4e33-4da4-ba9c-4695b8b3058a"
      },
      "source": [
        "im = cutouts['36411448540288304']['HSC-I']['HDU0']['DATA']\n",
        "im.shape"
      ],
      "execution_count": null,
      "outputs": [
        {
          "output_type": "execute_result",
          "data": {
            "text/plain": [
              "(67, 66)"
            ]
          },
          "metadata": {},
          "execution_count": 81
        }
      ]
    },
    {
      "cell_type": "code",
      "metadata": {
        "colab": {
          "base_uri": "https://localhost:8080/",
          "height": 285
        },
        "id": "r0VxueWqbS7m",
        "outputId": "973fe697-ef5c-4b0e-9fc3-dc6c3754e795"
      },
      "source": [
        "imshow(im, cmap='gray_r')"
      ],
      "execution_count": null,
      "outputs": [
        {
          "output_type": "execute_result",
          "data": {
            "text/plain": [
              "<matplotlib.image.AxesImage at 0x7f72245f8550>"
            ]
          },
          "metadata": {},
          "execution_count": 82
        },
        {
          "output_type": "display_data",
          "data": {
            "image/png": "[encoded data removed]",
            "text/plain": [
              "<Figure size 432x288 with 1 Axes>"
            ]
          },
          "metadata": {
            "needs_background": "light"
          }
        }
      ]
    },
    {
      "cell_type": "markdown",
      "metadata": {
        "id": "yy8UCx3IadzI"
      },
      "source": [
        "So, the point here is that our data has a very specific and specialized structure. You **do not** want your friends who are going to use your dataset to have to worry about it. They don't need to know about astropy tables or HDF5 files."
      ]
    },
    {
      "cell_type": "markdown",
      "metadata": {
        "id": "e1rfuo9qa1nF"
      },
      "source": [
        "Before moving own to the next section, let's quickly build a small utility function that will automatize accessing postage stamps from the HDF file:"
      ]
    },
    {
      "cell_type": "code",
      "metadata": {
        "id": "RH31x75Tbx6p"
      },
      "source": [
        "def stack_bands(cutout, target_size=64):\n",
        "  import numpy as np\n",
        "\n",
        "  filters = ['HSC-G', 'HSC-R', 'HSC-I', 'HSC-Z', 'HSC-Y']\n",
        "\n",
        "  # Retrieve the cutouts in all the bands\n",
        "  im = [cutout[f]['HDU0']['DATA'][:] for f in filters]\n",
        "\n",
        "  # Stack all bands in one array\n",
        "  im_size = min([min(i.shape) for i in im])\n",
        "  im = np.stack([i[:im_size, :im_size] for i in im], axis=-1).astype('float32')\n",
        "\n",
        "  # Resize image to target size\n",
        "  centh = im.shape[0]/2\n",
        "  centw = im.shape[1]/2\n",
        "  lh, rh = int(centh-target_size/2), int(centh+target_size/2)\n",
        "  lw, rw = int(centw-target_size/2), int(centw+target_size/2)\n",
        "  cropped = im[lh:rh, lw:rw, :]\n",
        "  assert cropped.shape[0]==target_size and cropped.shape[1]==target_size, f\"Wrong size! Still {cropped.shape}\"\n",
        "  return cropped"
      ],
      "execution_count": 36,
      "outputs": []
    },
    {
      "cell_type": "code",
      "metadata": {
        "colab": {
          "base_uri": "https://localhost:8080/"
        },
        "id": "7SH5uCjNbnnk",
        "outputId": "94b3bd58-4e6e-4de4-d55b-66fe5ffb12b7"
      },
      "source": [
        "im = stack_bands(cutouts['36411448540288304']) # We feed it an HDF group\n",
        "im.shape # It return a cutout with all 5 bands"
      ],
      "execution_count": 38,
      "outputs": [
        {
          "output_type": "execute_result",
          "data": {
            "text/plain": [
              "(64, 64, 5)"
            ]
          },
          "metadata": {},
          "execution_count": 38
        }
      ]
    },
    {
      "cell_type": "code",
      "metadata": {
        "colab": {
          "base_uri": "https://localhost:8080/",
          "height": 285
        },
        "id": "zhwa2R58deLX",
        "outputId": "dfaa540b-b3fb-420c-fe5a-9b2f4bc4f921"
      },
      "source": [
        "imshow(im[:,:,:3]);"
      ],
      "execution_count": 39,
      "outputs": [
        {
          "output_type": "stream",
          "name": "stderr",
          "text": [
            "WARNING:matplotlib.image:Clipping input data to the valid range for imshow with RGB data ([0..1] for floats or [0..255] for integers).\n"
          ]
        },
        {
          "output_type": "display_data",
          "data": {
            "image/png": "[encoded data removed]",
            "text/plain": [
              "<Figure size 432x288 with 1 Axes>"
            ]
          },
          "metadata": {
            "needs_background": "light"
          }
        }
      ]
    },
    {
      "cell_type": "markdown",
      "metadata": {
        "id": "fphimvGXdzxv"
      },
      "source": [
        "## Let's create a new TensorFlow Dataset for our HSC data\n",
        "\n",
        "Alright, now that we know how our data is structured, let's see if we can package it as a TFDS dataset.\n",
        "\n",
        "Below we will follow just the essential steps of the procedure, but you can find more details [here](https://www.tensorflow.org/datasets/add_dataset)."
      ]
    },
    {
      "cell_type": "markdown",
      "metadata": {
        "id": "WbOSPK6PeAdL"
      },
      "source": [
        "### Step I: Create a new empty dataset file"
      ]
    },
    {
      "cell_type": "code",
      "metadata": {
        "colab": {
          "base_uri": "https://localhost:8080/"
        },
        "id": "jkQsIVDWeFuz",
        "outputId": "d3d3855b-50c7-40cf-f30e-2b3793f3e8e6"
      },
      "source": [
        "!tfds new hsc_photoz"
      ],
      "execution_count": 40,
      "outputs": [
        {
          "output_type": "stream",
          "name": "stdout",
          "text": [
            "2021-12-01 23:57:57.204424: E tensorflow/stream_executor/cuda/cuda_driver.cc:271] failed call to cuInit: CUDA_ERROR_NO_DEVICE: no CUDA-capable device is detected\n",
            "Dataset generated at /content/hsc_photoz\n",
            "You can start searching `TODO(hsc_photoz)` to complete the implementation.\n",
            "Please check https://www.tensorflow.org/datasets/add_dataset for additional details.\n"
          ]
        }
      ]
    },
    {
      "cell_type": "markdown",
      "metadata": {
        "id": "UAzClbUweekk"
      },
      "source": [
        "You can now find the empty template for defining your dataset in the `hsc_photoz` folder. **Browse the files using the bar on the left**.\n",
        "\n",
        "Open `hsc_photoz/hsc_photoz.py` and take a look!"
      ]
    },
    {
      "cell_type": "markdown",
      "metadata": {
        "id": "xsVgSidHofSJ"
      },
      "source": [
        "We will start by adding a few important imports at the top of the file:\n",
        "\n",
        "```python\n",
        "\"\"\"hsc_photoz dataset.\"\"\"\n",
        "import numpy as np\n",
        "import tensorflow as tf\n",
        "...\n",
        "```"
      ]
    },
    {
      "cell_type": "markdown",
      "metadata": {
        "id": "zofWST2mfDm2"
      },
      "source": [
        "### Step II: Define your dataset metadata\n",
        "\n",
        "In the `_info()` method, there are two important things to define:\n",
        "- The features\n",
        "- The supervised keys \n"
      ]
    },
    {
      "cell_type": "markdown",
      "metadata": {
        "id": "PhkUK8yzfrz2"
      },
      "source": [
        "#### Features\n",
        "\n",
        "In our dataset, we have a set of images of size 64x64 with 5 bands, and a bunch of associated keys.\n",
        "\n",
        "\n",
        "```python\n",
        "    ...,\n",
        "    features=tfds.features.FeaturesDict({\n",
        "    'image': tfds.features.Tensor(shape=(64, 64, 5), dtype=tf.float32),\n",
        "    'attrs': {k: tf.float32 for k in ['specz_redshift', 'a_g', 'a_r', 'a_i', 'a_z', 'a_y']}\n",
        "        }),\n",
        "    ...,\n",
        "```"
      ]
    },
    {
      "cell_type": "markdown",
      "metadata": {
        "id": "sYXkuW-AhREL"
      },
      "source": [
        "#### Supervised keys\n",
        "\n",
        "The main task we want to do with this dataset is to infer redshifts from images, so we can explicitly define the following supervised keys:\n",
        "\n",
        "```python\n",
        "    ...,\n",
        "    supervised_keys=('image', 'attrs/specz_redshift'),\n",
        "    ...,\n",
        "```\n"
      ]
    },
    {
      "cell_type": "markdown",
      "metadata": {
        "id": "LcUtZtO1iK_f"
      },
      "source": [
        "### Step III: Define how to download your data\n",
        "\n",
        "One very nice feature of TensorFlow dataset is that you tell it how to download the data from the internet, so that you can easily share the dataset with other people.\n",
        "\n",
        "This is defined inside the `_split_generators()` method.\n",
        "\n",
        "You can modify your function to the following:\n",
        "\n",
        "```python\n",
        "  def _split_generators(self, dl_manager: tfds.download.DownloadManager):\n",
        "    \"\"\"Returns SplitGenerators.\"\"\"\n",
        "    # Let TF dataset download our data and put automatically in a temporary folder\n",
        "    catalog_path = dl_manager.download('https://storage.googleapis.com/ahw2019/hsc_photoz/data/catalog_small.fits')\n",
        "    cutouts_path = dl_manager.download('https://storage.googleapis.com/ahw2019/hsc_photoz/data/cutouts_small.hdf')\n",
        "    return [\n",
        "        tfds.core.SplitGenerator(\n",
        "            name=tfds.Split.TRAIN,\n",
        "            # These kwargs will be passed to _generate_examples\n",
        "            gen_kwargs={'catalog_path': catalog_path,\n",
        "                        'cutouts_path': cutouts_path},\n",
        "        ),\n",
        "    ]\n",
        "```"
      ]
    },
    {
      "cell_type": "markdown",
      "metadata": {
        "id": "4spRhen9joFI"
      },
      "source": [
        "### Step IV: Define how to read your data from the native files\n",
        "\n",
        "And finally we define how the library should open the datafiles, and return examples one by one.\n",
        "\n",
        "This is done in the `_generate_examples()` method:\n",
        "\n",
        "```python\n",
        "  def _generate_examples(self, catalog_path, cutouts_path):\n",
        "    \"\"\"Yields examples.\"\"\"\n",
        "    from astropy.table import Table\n",
        "    import h5py\n",
        "\n",
        "    # Loading the data that was downloaded at the previous step\n",
        "    catalog = Table.read(catalog_path)\n",
        "    cutouts = h5py.File(cutouts_path, 'r')\n",
        "\n",
        "    # Go through the examples\n",
        "    for object_id in catalog['object_id']:\n",
        "      row = catalog[catalog['object_id'] == object_id]\n",
        "      cutout = cutouts[str(object_id)]\n",
        "\n",
        "      # extract image from cutouts\n",
        "      im = stack_bands(cutout)\n",
        "      \n",
        "      yield object_id, {'image': im, \n",
        "                        'attrs':{k: np.asscalar(row[k]) for k in ['specz_redshift', 'a_g', 'a_r', 'a_i', 'a_z', 'a_y']}}\n",
        "```\n",
        "\n",
        "and **don't forget to also add our `stack_bands()` function** to your file as well ;-) "
      ]
    },
    {
      "cell_type": "markdown",
      "metadata": {
        "id": "tAZhjV6GlSyC"
      },
      "source": [
        "### Step V: Profit!\n",
        "\n",
        "Make sure you have saved your edited file, and you should now be able to do the following:"
      ]
    },
    {
      "cell_type": "code",
      "metadata": {
        "id": "NG5xz_rXfCb3"
      },
      "source": [
        "import hsc_photoz"
      ],
      "execution_count": 43,
      "outputs": []
    },
    {
      "cell_type": "code",
      "metadata": {
        "colab": {
          "base_uri": "https://localhost:8080/",
          "height": 330,
          "referenced_widgets": [
            "5b0cb36233b44c148ff56e5dc35bb81e",
            "51658f57520f462abff1a0287408f253",
            "3ec535c9508a490bb0d435b41adbdb35",
            "47bb0787e2c849c7885f3bb589795ebd",
            "f9da9167714d40119a8c30685fc8dcf6",
            "d74ddb63d58b43e1ab2e2f302c7a2f08",
            "1e3c26cfaf1244ab93ca10aea0349ec4",
            "bf8f1649670348ed84fab28eb964ea8a",
            "ce65522ce12548929a368bbeb0b63a61",
            "4572a29be4d34a66bcdf539950cfbf69",
            "6689e70e379d4c9fa14230bf253494f0",
            "e26369500fe647cf97ba695faba6e5fc",
            "660709e81ff646a990e6938a2f71dc9b",
            "9b53c17bbd864572a412d9f34f17574d",
            "879af5b4343e41b6a1e649d20d2e20ef",
            "ffb571e9eb564554b4df173c02f11acb",
            "faf83059bcfb4c6b86fd8457a88f3561",
            "fd39118092bc4007ad81fd4147119bb6",
            "13adef28a6b642559cf26ad9e2b04fdc",
            "65f2d82d89944db7abe8021985a600a5",
            "f31f04fc8659457598438417882b5bf0",
            "81c4166694084143a7a1d2eacca25a3f",
            "ad382f98e3d5401ca77f8e8b99306c7d",
            "38c96b0c33b24f3196e3ed5999a0e3b6",
            "74b35ba8c9d84cfba269b7f5add2bed4",
            "a5f419b88ef04ecbb0fd7321ce0cb0ad",
            "a0887191ac794416b23696fd31cf7d1d",
            "290a8d23c952444383b0470e3cd7f06e",
            "99a691e5de2a4ab599e948db19730cfd",
            "041afdd6521745c4913ac44e74cdbf08",
            "ce7c8f84193249c48ce165a4b9270771",
            "d9c6ee8eff1b48de8cc9520dbcaf5f67",
            "f5336060353e4c109f2d4ca5f5523157",
            "c7348ebb69094501a4a188dda8c755fd",
            "9453391a11064bdb959c98adc2b8a9b0",
            "1717e409b93b4379b67e8d81196f3cb6",
            "9bbeac2746fb4e98909ce3861535fbf2",
            "9d2bb64ef13b42dd8fad59780687c422",
            "ef2bae9d79484252b9600b43765f4a75",
            "dc84a336350e40ddb7caea7915bbc6b7",
            "01c3496323804f9aa35c527235bba20d",
            "82e59244a4414bb8893d88a314ca58b3",
            "cef4c6e186a3412a8fa32d9dae9f3bf2",
            "948ac4f97d7e4a89baec2b108ab856f7",
            "edfefd681a524b5a9018bf4cd752185d",
            "3be63ae0796640b7976f8c7c179b10b5",
            "8f8e75310b8a44be996386fac70c1a93",
            "46ba6a877c534fc0921739a75f5e1fe0",
            "27841427ed3a494f93f9797b04ebf3a6",
            "c70e2cefad8e4176bd6754801c247b3f",
            "32664413b8a64f68867f6886f251e067",
            "ab84caa13f1b495b8ea48340c67b1360",
            "618d4c99152b4cd3ac3b3b63a4bcfced",
            "a6d869c6f64246bfa0c0e66de0215048",
            "396099c15bb242ffaa1bbefd00349d51",
            "5637f42e93e142899361710777c683af",
            "1ac61bda43e7400ea1d77afe5c93cef6",
            "478cb37854fb44caaf8f12950f58b3ef",
            "cd2b99369b464e43881e8fdba16316ea",
            "ad98148fae0b4d4cbb901b7663b8c155",
            "e23e7260d6ba4713acc65a86e34d662a",
            "3f41f8d6d2dc4a48b090e168ef716f5e",
            "5634e2cd3e68440a90d8dfc73e17d1c2",
            "a40ddf3cd9de45a780b054df38ed4e15",
            "e7efbcd20bcf484d84bffc5a4e062f0e",
            "aa91c5c7046a407c85fa1a8d3633dead"
          ]
        },
        "id": "zDxE0fa6eJkL",
        "outputId": "2ee1d3b2-e733-4cd9-9441-d0a50727f77d"
      },
      "source": [
        "dset = tfds.load('hsc_photoz', split='train')"
      ],
      "execution_count": 44,
      "outputs": [
        {
          "output_type": "stream",
          "name": "stdout",
          "text": [
            "\u001b[1mDownloading and preparing dataset hsc_photoz/1.0.0 (download: Unknown size, generated: Unknown size, total: Unknown size) to /root/tensorflow_datasets/hsc_photoz/1.0.0...\u001b[0m\n"
          ]
        },
        {
          "output_type": "display_data",
          "data": {
            "application/vnd.jupyter.widget-view+json": {
              "model_id": "5b0cb36233b44c148ff56e5dc35bb81e",
              "version_minor": 0,
              "version_major": 2
            },
            "text/plain": [
              "Dl Completed...: 0 url [00:00, ? url/s]"
            ]
          },
          "metadata": {}
        },
        {
          "output_type": "display_data",
          "data": {
            "application/vnd.jupyter.widget-view+json": {
              "model_id": "e26369500fe647cf97ba695faba6e5fc",
              "version_minor": 0,
              "version_major": 2
            },
            "text/plain": [
              "Dl Size...: 0 MiB [00:00, ? MiB/s]"
            ]
          },
          "metadata": {}
        },
        {
          "output_type": "stream",
          "name": "stdout",
          "text": [
            "\n",
            "\n"
          ]
        },
        {
          "output_type": "display_data",
          "data": {
            "application/vnd.jupyter.widget-view+json": {
              "model_id": "ad382f98e3d5401ca77f8e8b99306c7d",
              "version_minor": 0,
              "version_major": 2
            },
            "text/plain": [
              "Dl Completed...: 0 url [00:00, ? url/s]"
            ]
          },
          "metadata": {}
        },
        {
          "output_type": "display_data",
          "data": {
            "application/vnd.jupyter.widget-view+json": {
              "model_id": "c7348ebb69094501a4a188dda8c755fd",
              "version_minor": 0,
              "version_major": 2
            },
            "text/plain": [
              "Dl Size...: 0 MiB [00:00, ? MiB/s]"
            ]
          },
          "metadata": {}
        },
        {
          "output_type": "stream",
          "name": "stdout",
          "text": [
            "\n",
            "\n"
          ]
        },
        {
          "output_type": "display_data",
          "data": {
            "application/vnd.jupyter.widget-view+json": {
              "model_id": "edfefd681a524b5a9018bf4cd752185d",
              "version_minor": 0,
              "version_major": 2
            },
            "text/plain": [
              "0 examples [00:00, ? examples/s]"
            ]
          },
          "metadata": {}
        },
        {
          "output_type": "stream",
          "name": "stdout",
          "text": [
            "Shuffling and writing examples to /root/tensorflow_datasets/hsc_photoz/1.0.0.incompleteSZIBS1/hsc_photoz-train.tfrecord\n"
          ]
        },
        {
          "output_type": "display_data",
          "data": {
            "application/vnd.jupyter.widget-view+json": {
              "model_id": "5637f42e93e142899361710777c683af",
              "version_minor": 0,
              "version_major": 2
            },
            "text/plain": [
              "  0%|          | 0/1000 [00:00<?, ? examples/s]"
            ]
          },
          "metadata": {}
        },
        {
          "output_type": "stream",
          "name": "stdout",
          "text": [
            "\u001b[1mDataset hsc_photoz downloaded and prepared to /root/tensorflow_datasets/hsc_photoz/1.0.0. Subsequent calls will reuse this data.\u001b[0m\n"
          ]
        }
      ]
    },
    {
      "cell_type": "markdown",
      "metadata": {
        "id": "bJjHRPBUdGf_"
      },
      "source": [
        "And tadaa! The code has automatically downloaded our dataset from the cloud and transformed it into an easily ingestible format for TF."
      ]
    },
    {
      "cell_type": "markdown",
      "metadata": {
        "id": "IdSLSxoDdRc5"
      },
      "source": [
        "![image.png](data:image/png;base64,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)"
      ]
    },
    {
      "cell_type": "markdown",
      "metadata": {
        "id": "h85-xoO0dlPV"
      },
      "source": [
        "Now that our dataset is prepared we can manipulate it just like MNIST:"
      ]
    },
    {
      "cell_type": "code",
      "metadata": {
        "colab": {
          "base_uri": "https://localhost:8080/"
        },
        "id": "NySDH9ykeJZv",
        "outputId": "ca09631e-e506-4a36-e427-ce1071938df3"
      },
      "source": [
        "dset"
      ],
      "execution_count": 45,
      "outputs": [
        {
          "output_type": "execute_result",
          "data": {
            "text/plain": [
              "<PrefetchDataset shapes: {attrs: {a_g: (), a_i: (), a_r: (), a_y: (), a_z: (), specz_redshift: ()}, image: (64, 64, 5)}, types: {attrs: {a_g: tf.float32, a_i: tf.float32, a_r: tf.float32, a_y: tf.float32, a_z: tf.float32, specz_redshift: tf.float32}, image: tf.float32}>"
            ]
          },
          "metadata": {},
          "execution_count": 45
        }
      ]
    },
    {
      "cell_type": "code",
      "metadata": {
        "colab": {
          "base_uri": "https://localhost:8080/"
        },
        "id": "RqSr2ZhonYrT",
        "outputId": "034c1d1b-5d47-447d-da34-393927ef27e7"
      },
      "source": [
        "for example in dset.take(1):\n",
        "  print(example['attrs']['specz_redshift'])"
      ],
      "execution_count": 46,
      "outputs": [
        {
          "output_type": "stream",
          "name": "stdout",
          "text": [
            "tf.Tensor(0.78139, shape=(), dtype=float32)\n"
          ]
        }
      ]
    },
    {
      "cell_type": "code",
      "metadata": {
        "colab": {
          "base_uri": "https://localhost:8080/",
          "height": 302
        },
        "id": "rAJB5j6lnkx7",
        "outputId": "ae5948e7-14ca-435d-d497-b3a709e5523d"
      },
      "source": [
        "imshow(example['image'][:,:,0:3])"
      ],
      "execution_count": 47,
      "outputs": [
        {
          "output_type": "stream",
          "name": "stderr",
          "text": [
            "WARNING:matplotlib.image:Clipping input data to the valid range for imshow with RGB data ([0..1] for floats or [0..255] for integers).\n"
          ]
        },
        {
          "output_type": "execute_result",
          "data": {
            "text/plain": [
              "<matplotlib.image.AxesImage at 0x7f5b37fe7810>"
            ]
          },
          "metadata": {},
          "execution_count": 47
        },
        {
          "output_type": "display_data",
          "data": {
            "image/png": "[encoded data removed]",
            "text/plain": [
              "<Figure size 432x288 with 1 Axes>"
            ]
          },
          "metadata": {
            "needs_background": "light"
          }
        }
      ]
    },
    {
      "cell_type": "markdown",
      "metadata": {
        "id": "1ttkb7Rbd0PO"
      },
      "source": [
        "\n",
        "In an actual project, you would add this generated code to your python package,\n",
        "making it trivial for other people to use."
      ]
    },
    {
      "cell_type": "code",
      "metadata": {
        "id": "x-vBsWw6eExD"
      },
      "source": [
        ""
      ],
      "execution_count": null,
      "outputs": []
    }
  ]
}