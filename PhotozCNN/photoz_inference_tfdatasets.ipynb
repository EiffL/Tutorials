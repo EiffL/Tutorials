{
  "nbformat": 4,
  "nbformat_minor": 0,
  "metadata": {
    "colab": {
      "name": "photoz_inference_partII.ipynb",
      "provenance": [],
      "collapsed_sections": [],
      "include_colab_link": true
    },
    "kernelspec": {
      "name": "python3",
      "display_name": "Python 3"
    },
    "widgets": {
      "application/vnd.jupyter.widget-state+json": {
        "983f4c096efd435cb77c2093a6df4346": {
          "model_module": "@jupyter-widgets/controls",
          "model_name": "HBoxModel",
          "model_module_version": "1.5.0",
          "state": {
            "_view_name": "HBoxView",
            "_dom_classes": [],
            "_model_name": "HBoxModel",
            "_view_module": "@jupyter-widgets/controls",
            "_model_module_version": "1.5.0",
            "_view_count": null,
            "_view_module_version": "1.5.0",
            "box_style": "",
            "layout": "IPY_MODEL_d784de73eeba4d958c211f9696ec2434",
            "_model_module": "@jupyter-widgets/controls",
            "children": [
              "IPY_MODEL_165da6c31e4a48cdb641897dee0c6e89",
              "IPY_MODEL_6d02d88307e840a8a7e41f5ade494a10",
              "IPY_MODEL_89da681136d941088113e6695026289f"
            ]
          }
        },
        "d784de73eeba4d958c211f9696ec2434": {
          "model_module": "@jupyter-widgets/base",
          "model_name": "LayoutModel",
          "model_module_version": "1.2.0",
          "state": {
            "_view_name": "LayoutView",
            "grid_template_rows": null,
            "right": null,
            "justify_content": null,
            "_view_module": "@jupyter-widgets/base",
            "overflow": null,
            "_model_module_version": "1.2.0",
            "_view_count": null,
            "flex_flow": null,
            "width": null,
            "min_width": null,
            "border": null,
            "align_items": null,
            "bottom": null,
            "_model_module": "@jupyter-widgets/base",
            "top": null,
            "grid_column": null,
            "overflow_y": null,
            "overflow_x": null,
            "grid_auto_flow": null,
            "grid_area": null,
            "grid_template_columns": null,
            "flex": null,
            "_model_name": "LayoutModel",
            "justify_items": null,
            "grid_row": null,
            "max_height": null,
            "align_content": null,
            "visibility": null,
            "align_self": null,
            "height": null,
            "min_height": null,
            "padding": null,
            "grid_auto_rows": null,
            "grid_gap": null,
            "max_width": null,
            "order": null,
            "_view_module_version": "1.2.0",
            "grid_template_areas": null,
            "object_position": null,
            "object_fit": null,
            "grid_auto_columns": null,
            "margin": null,
            "display": null,
            "left": null
          }
        },
        "165da6c31e4a48cdb641897dee0c6e89": {
          "model_module": "@jupyter-widgets/controls",
          "model_name": "HTMLModel",
          "model_module_version": "1.5.0",
          "state": {
            "_view_name": "HTMLView",
            "style": "IPY_MODEL_4d5ccab8880344f58098d6db52eb6694",
            "_dom_classes": [],
            "description": "",
            "_model_name": "HTMLModel",
            "placeholder": "​",
            "_view_module": "@jupyter-widgets/controls",
            "_model_module_version": "1.5.0",
            "value": "Dl Completed...: ",
            "_view_count": null,
            "_view_module_version": "1.5.0",
            "description_tooltip": null,
            "_model_module": "@jupyter-widgets/controls",
            "layout": "IPY_MODEL_59050a1db74a4f2d977566f383efe422"
          }
        },
        "6d02d88307e840a8a7e41f5ade494a10": {
          "model_module": "@jupyter-widgets/controls",
          "model_name": "FloatProgressModel",
          "model_module_version": "1.5.0",
          "state": {
            "_view_name": "ProgressView",
            "style": "IPY_MODEL_1c6c7292e03442918f29d674e9901a5c",
            "_dom_classes": [],
            "description": "",
            "_model_name": "FloatProgressModel",
            "bar_style": "success",
            "max": 1,
            "_view_module": "@jupyter-widgets/controls",
            "_model_module_version": "1.5.0",
            "value": 0,
            "_view_count": null,
            "_view_module_version": "1.5.0",
            "orientation": "horizontal",
            "min": 0,
            "description_tooltip": null,
            "_model_module": "@jupyter-widgets/controls",
            "layout": "IPY_MODEL_f85d3b15386547ee9da2a1c34a9fad40"
          }
        },
        "89da681136d941088113e6695026289f": {
          "model_module": "@jupyter-widgets/controls",
          "model_name": "HTMLModel",
          "model_module_version": "1.5.0",
          "state": {
            "_view_name": "HTMLView",
            "style": "IPY_MODEL_c3b6201e883846ef8717eb4ed049b1e0",
            "_dom_classes": [],
            "description": "",
            "_model_name": "HTMLModel",
            "placeholder": "​",
            "_view_module": "@jupyter-widgets/controls",
            "_model_module_version": "1.5.0",
            "value": " 0/0 [00:00&lt;?, ? url/s]",
            "_view_count": null,
            "_view_module_version": "1.5.0",
            "description_tooltip": null,
            "_model_module": "@jupyter-widgets/controls",
            "layout": "IPY_MODEL_7eb4b1b0eaca4e0ea94f8dec395b6667"
          }
        },
        "4d5ccab8880344f58098d6db52eb6694": {
          "model_module": "@jupyter-widgets/controls",
          "model_name": "DescriptionStyleModel",
          "model_module_version": "1.5.0",
          "state": {
            "_view_name": "StyleView",
            "_model_name": "DescriptionStyleModel",
            "description_width": "",
            "_view_module": "@jupyter-widgets/base",
            "_model_module_version": "1.5.0",
            "_view_count": null,
            "_view_module_version": "1.2.0",
            "_model_module": "@jupyter-widgets/controls"
          }
        },
        "59050a1db74a4f2d977566f383efe422": {
          "model_module": "@jupyter-widgets/base",
          "model_name": "LayoutModel",
          "model_module_version": "1.2.0",
          "state": {
            "_view_name": "LayoutView",
            "grid_template_rows": null,
            "right": null,
            "justify_content": null,
            "_view_module": "@jupyter-widgets/base",
            "overflow": null,
            "_model_module_version": "1.2.0",
            "_view_count": null,
            "flex_flow": null,
            "width": null,
            "min_width": null,
            "border": null,
            "align_items": null,
            "bottom": null,
            "_model_module": "@jupyter-widgets/base",
            "top": null,
            "grid_column": null,
            "overflow_y": null,
            "overflow_x": null,
            "grid_auto_flow": null,
            "grid_area": null,
            "grid_template_columns": null,
            "flex": null,
            "_model_name": "LayoutModel",
            "justify_items": null,
            "grid_row": null,
            "max_height": null,
            "align_content": null,
            "visibility": null,
            "align_self": null,
            "height": null,
            "min_height": null,
            "padding": null,
            "grid_auto_rows": null,
            "grid_gap": null,
            "max_width": null,
            "order": null,
            "_view_module_version": "1.2.0",
            "grid_template_areas": null,
            "object_position": null,
            "object_fit": null,
            "grid_auto_columns": null,
            "margin": null,
            "display": null,
            "left": null
          }
        },
        "1c6c7292e03442918f29d674e9901a5c": {
          "model_module": "@jupyter-widgets/controls",
          "model_name": "ProgressStyleModel",
          "model_module_version": "1.5.0",
          "state": {
            "_view_name": "StyleView",
            "_model_name": "ProgressStyleModel",
            "description_width": "",
            "_view_module": "@jupyter-widgets/base",
            "_model_module_version": "1.5.0",
            "_view_count": null,
            "_view_module_version": "1.2.0",
            "bar_color": null,
            "_model_module": "@jupyter-widgets/controls"
          }
        },
        "f85d3b15386547ee9da2a1c34a9fad40": {
          "model_module": "@jupyter-widgets/base",
          "model_name": "LayoutModel",
          "model_module_version": "1.2.0",
          "state": {
            "_view_name": "LayoutView",
            "grid_template_rows": null,
            "right": null,
            "justify_content": null,
            "_view_module": "@jupyter-widgets/base",
            "overflow": null,
            "_model_module_version": "1.2.0",
            "_view_count": null,
            "flex_flow": null,
            "width": "20px",
            "min_width": null,
            "border": null,
            "align_items": null,
            "bottom": null,
            "_model_module": "@jupyter-widgets/base",
            "top": null,
            "grid_column": null,
            "overflow_y": null,
            "overflow_x": null,
            "grid_auto_flow": null,
            "grid_area": null,
            "grid_template_columns": null,
            "flex": null,
            "_model_name": "LayoutModel",
            "justify_items": null,
            "grid_row": null,
            "max_height": null,
            "align_content": null,
            "visibility": null,
            "align_self": null,
            "height": null,
            "min_height": null,
            "padding": null,
            "grid_auto_rows": null,
            "grid_gap": null,
            "max_width": null,
            "order": null,
            "_view_module_version": "1.2.0",
            "grid_template_areas": null,
            "object_position": null,
            "object_fit": null,
            "grid_auto_columns": null,
            "margin": null,
            "display": null,
            "left": null
          }
        },
        "c3b6201e883846ef8717eb4ed049b1e0": {
          "model_module": "@jupyter-widgets/controls",
          "model_name": "DescriptionStyleModel",
          "model_module_version": "1.5.0",
          "state": {
            "_view_name": "StyleView",
            "_model_name": "DescriptionStyleModel",
            "description_width": "",
            "_view_module": "@jupyter-widgets/base",
            "_model_module_version": "1.5.0",
            "_view_count": null,
            "_view_module_version": "1.2.0",
            "_model_module": "@jupyter-widgets/controls"
          }
        },
        "7eb4b1b0eaca4e0ea94f8dec395b6667": {
          "model_module": "@jupyter-widgets/base",
          "model_name": "LayoutModel",
          "model_module_version": "1.2.0",
          "state": {
            "_view_name": "LayoutView",
            "grid_template_rows": null,
            "right": null,
            "justify_content": null,
            "_view_module": "@jupyter-widgets/base",
            "overflow": null,
            "_model_module_version": "1.2.0",
            "_view_count": null,
            "flex_flow": null,
            "width": null,
            "min_width": null,
            "border": null,
            "align_items": null,
            "bottom": null,
            "_model_module": "@jupyter-widgets/base",
            "top": null,
            "grid_column": null,
            "overflow_y": null,
            "overflow_x": null,
            "grid_auto_flow": null,
            "grid_area": null,
            "grid_template_columns": null,
            "flex": null,
            "_model_name": "LayoutModel",
            "justify_items": null,
            "grid_row": null,
            "max_height": null,
            "align_content": null,
            "visibility": null,
            "align_self": null,
            "height": null,
            "min_height": null,
            "padding": null,
            "grid_auto_rows": null,
            "grid_gap": null,
            "max_width": null,
            "order": null,
            "_view_module_version": "1.2.0",
            "grid_template_areas": null,
            "object_position": null,
            "object_fit": null,
            "grid_auto_columns": null,
            "margin": null,
            "display": null,
            "left": null
          }
        },
        "ed20a41b3d384f53931be6f8e66ffaba": {
          "model_module": "@jupyter-widgets/controls",
          "model_name": "HBoxModel",
          "model_module_version": "1.5.0",
          "state": {
            "_view_name": "HBoxView",
            "_dom_classes": [],
            "_model_name": "HBoxModel",
            "_view_module": "@jupyter-widgets/controls",
            "_model_module_version": "1.5.0",
            "_view_count": null,
            "_view_module_version": "1.5.0",
            "box_style": "",
            "layout": "IPY_MODEL_6a93cea042964cf387847c7e7b419765",
            "_model_module": "@jupyter-widgets/controls",
            "children": [
              "IPY_MODEL_5916df80cbe54e68ab5292f684d47568",
              "IPY_MODEL_4c9d258297384188a5863323663ef7e7",
              "IPY_MODEL_f7253883e3ae4b6f84c6e7ab2bd68c45"
            ]
          }
        },
        "6a93cea042964cf387847c7e7b419765": {
          "model_module": "@jupyter-widgets/base",
          "model_name": "LayoutModel",
          "model_module_version": "1.2.0",
          "state": {
            "_view_name": "LayoutView",
            "grid_template_rows": null,
            "right": null,
            "justify_content": null,
            "_view_module": "@jupyter-widgets/base",
            "overflow": null,
            "_model_module_version": "1.2.0",
            "_view_count": null,
            "flex_flow": null,
            "width": null,
            "min_width": null,
            "border": null,
            "align_items": null,
            "bottom": null,
            "_model_module": "@jupyter-widgets/base",
            "top": null,
            "grid_column": null,
            "overflow_y": null,
            "overflow_x": null,
            "grid_auto_flow": null,
            "grid_area": null,
            "grid_template_columns": null,
            "flex": null,
            "_model_name": "LayoutModel",
            "justify_items": null,
            "grid_row": null,
            "max_height": null,
            "align_content": null,
            "visibility": null,
            "align_self": null,
            "height": null,
            "min_height": null,
            "padding": null,
            "grid_auto_rows": null,
            "grid_gap": null,
            "max_width": null,
            "order": null,
            "_view_module_version": "1.2.0",
            "grid_template_areas": null,
            "object_position": null,
            "object_fit": null,
            "grid_auto_columns": null,
            "margin": null,
            "display": null,
            "left": null
          }
        },
        "5916df80cbe54e68ab5292f684d47568": {
          "model_module": "@jupyter-widgets/controls",
          "model_name": "HTMLModel",
          "model_module_version": "1.5.0",
          "state": {
            "_view_name": "HTMLView",
            "style": "IPY_MODEL_664f926a6d4741d3b8ce9a52edfb5683",
            "_dom_classes": [],
            "description": "",
            "_model_name": "HTMLModel",
            "placeholder": "​",
            "_view_module": "@jupyter-widgets/controls",
            "_model_module_version": "1.5.0",
            "value": "Dl Size...: ",
            "_view_count": null,
            "_view_module_version": "1.5.0",
            "description_tooltip": null,
            "_model_module": "@jupyter-widgets/controls",
            "layout": "IPY_MODEL_1bc714c921984bc2b8546568911bb838"
          }
        },
        "4c9d258297384188a5863323663ef7e7": {
          "model_module": "@jupyter-widgets/controls",
          "model_name": "FloatProgressModel",
          "model_module_version": "1.5.0",
          "state": {
            "_view_name": "ProgressView",
            "style": "IPY_MODEL_a2f0317e610e4f67b30d1cdb5bab792f",
            "_dom_classes": [],
            "description": "",
            "_model_name": "FloatProgressModel",
            "bar_style": "success",
            "max": 1,
            "_view_module": "@jupyter-widgets/controls",
            "_model_module_version": "1.5.0",
            "value": 0,
            "_view_count": null,
            "_view_module_version": "1.5.0",
            "orientation": "horizontal",
            "min": 0,
            "description_tooltip": null,
            "_model_module": "@jupyter-widgets/controls",
            "layout": "IPY_MODEL_1ea1100429454a5da45a6fdf00a9e610"
          }
        },
        "f7253883e3ae4b6f84c6e7ab2bd68c45": {
          "model_module": "@jupyter-widgets/controls",
          "model_name": "HTMLModel",
          "model_module_version": "1.5.0",
          "state": {
            "_view_name": "HTMLView",
            "style": "IPY_MODEL_12449453765c4488a8570fefa54aa89b",
            "_dom_classes": [],
            "description": "",
            "_model_name": "HTMLModel",
            "placeholder": "​",
            "_view_module": "@jupyter-widgets/controls",
            "_model_module_version": "1.5.0",
            "value": " 0/0 [00:00&lt;?, ? MiB/s]",
            "_view_count": null,
            "_view_module_version": "1.5.0",
            "description_tooltip": null,
            "_model_module": "@jupyter-widgets/controls",
            "layout": "IPY_MODEL_5160b8043d634b54afe78d1387374776"
          }
        },
        "664f926a6d4741d3b8ce9a52edfb5683": {
          "model_module": "@jupyter-widgets/controls",
          "model_name": "DescriptionStyleModel",
          "model_module_version": "1.5.0",
          "state": {
            "_view_name": "StyleView",
            "_model_name": "DescriptionStyleModel",
            "description_width": "",
            "_view_module": "@jupyter-widgets/base",
            "_model_module_version": "1.5.0",
            "_view_count": null,
            "_view_module_version": "1.2.0",
            "_model_module": "@jupyter-widgets/controls"
          }
        },
        "1bc714c921984bc2b8546568911bb838": {
          "model_module": "@jupyter-widgets/base",
          "model_name": "LayoutModel",
          "model_module_version": "1.2.0",
          "state": {
            "_view_name": "LayoutView",
            "grid_template_rows": null,
            "right": null,
            "justify_content": null,
            "_view_module": "@jupyter-widgets/base",
            "overflow": null,
            "_model_module_version": "1.2.0",
            "_view_count": null,
            "flex_flow": null,
            "width": null,
            "min_width": null,
            "border": null,
            "align_items": null,
            "bottom": null,
            "_model_module": "@jupyter-widgets/base",
            "top": null,
            "grid_column": null,
            "overflow_y": null,
            "overflow_x": null,
            "grid_auto_flow": null,
            "grid_area": null,
            "grid_template_columns": null,
            "flex": null,
            "_model_name": "LayoutModel",
            "justify_items": null,
            "grid_row": null,
            "max_height": null,
            "align_content": null,
            "visibility": null,
            "align_self": null,
            "height": null,
            "min_height": null,
            "padding": null,
            "grid_auto_rows": null,
            "grid_gap": null,
            "max_width": null,
            "order": null,
            "_view_module_version": "1.2.0",
            "grid_template_areas": null,
            "object_position": null,
            "object_fit": null,
            "grid_auto_columns": null,
            "margin": null,
            "display": null,
            "left": null
          }
        },
        "a2f0317e610e4f67b30d1cdb5bab792f": {
          "model_module": "@jupyter-widgets/controls",
          "model_name": "ProgressStyleModel",
          "model_module_version": "1.5.0",
          "state": {
            "_view_name": "StyleView",
            "_model_name": "ProgressStyleModel",
            "description_width": "",
            "_view_module": "@jupyter-widgets/base",
            "_model_module_version": "1.5.0",
            "_view_count": null,
            "_view_module_version": "1.2.0",
            "bar_color": null,
            "_model_module": "@jupyter-widgets/controls"
          }
        },
        "1ea1100429454a5da45a6fdf00a9e610": {
          "model_module": "@jupyter-widgets/base",
          "model_name": "LayoutModel",
          "model_module_version": "1.2.0",
          "state": {
            "_view_name": "LayoutView",
            "grid_template_rows": null,
            "right": null,
            "justify_content": null,
            "_view_module": "@jupyter-widgets/base",
            "overflow": null,
            "_model_module_version": "1.2.0",
            "_view_count": null,
            "flex_flow": null,
            "width": "20px",
            "min_width": null,
            "border": null,
            "align_items": null,
            "bottom": null,
            "_model_module": "@jupyter-widgets/base",
            "top": null,
            "grid_column": null,
            "overflow_y": null,
            "overflow_x": null,
            "grid_auto_flow": null,
            "grid_area": null,
            "grid_template_columns": null,
            "flex": null,
            "_model_name": "LayoutModel",
            "justify_items": null,
            "grid_row": null,
            "max_height": null,
            "align_content": null,
            "visibility": null,
            "align_self": null,
            "height": null,
            "min_height": null,
            "padding": null,
            "grid_auto_rows": null,
            "grid_gap": null,
            "max_width": null,
            "order": null,
            "_view_module_version": "1.2.0",
            "grid_template_areas": null,
            "object_position": null,
            "object_fit": null,
            "grid_auto_columns": null,
            "margin": null,
            "display": null,
            "left": null
          }
        },
        "12449453765c4488a8570fefa54aa89b": {
          "model_module": "@jupyter-widgets/controls",
          "model_name": "DescriptionStyleModel",
          "model_module_version": "1.5.0",
          "state": {
            "_view_name": "StyleView",
            "_model_name": "DescriptionStyleModel",
            "description_width": "",
            "_view_module": "@jupyter-widgets/base",
            "_model_module_version": "1.5.0",
            "_view_count": null,
            "_view_module_version": "1.2.0",
            "_model_module": "@jupyter-widgets/controls"
          }
        },
        "5160b8043d634b54afe78d1387374776": {
          "model_module": "@jupyter-widgets/base",
          "model_name": "LayoutModel",
          "model_module_version": "1.2.0",
          "state": {
            "_view_name": "LayoutView",
            "grid_template_rows": null,
            "right": null,
            "justify_content": null,
            "_view_module": "@jupyter-widgets/base",
            "overflow": null,
            "_model_module_version": "1.2.0",
            "_view_count": null,
            "flex_flow": null,
            "width": null,
            "min_width": null,
            "border": null,
            "align_items": null,
            "bottom": null,
            "_model_module": "@jupyter-widgets/base",
            "top": null,
            "grid_column": null,
            "overflow_y": null,
            "overflow_x": null,
            "grid_auto_flow": null,
            "grid_area": null,
            "grid_template_columns": null,
            "flex": null,
            "_model_name": "LayoutModel",
            "justify_items": null,
            "grid_row": null,
            "max_height": null,
            "align_content": null,
            "visibility": null,
            "align_self": null,
            "height": null,
            "min_height": null,
            "padding": null,
            "grid_auto_rows": null,
            "grid_gap": null,
            "max_width": null,
            "order": null,
            "_view_module_version": "1.2.0",
            "grid_template_areas": null,
            "object_position": null,
            "object_fit": null,
            "grid_auto_columns": null,
            "margin": null,
            "display": null,
            "left": null
          }
        },
        "5e5d6ce75371487295f9090df51b0a64": {
          "model_module": "@jupyter-widgets/controls",
          "model_name": "HBoxModel",
          "model_module_version": "1.5.0",
          "state": {
            "_view_name": "HBoxView",
            "_dom_classes": [],
            "_model_name": "HBoxModel",
            "_view_module": "@jupyter-widgets/controls",
            "_model_module_version": "1.5.0",
            "_view_count": null,
            "_view_module_version": "1.5.0",
            "box_style": "",
            "layout": "IPY_MODEL_20da6c4a6d0f4f979c6d7238c6c1ebde",
            "_model_module": "@jupyter-widgets/controls",
            "children": [
              "IPY_MODEL_65635ecc9f9a4d31bd1f12313ec5337c",
              "IPY_MODEL_68f68e30f4ba4ff5a116430b85194a93",
              "IPY_MODEL_2c9265d6eaf740aea16cfc6313ae2185"
            ]
          }
        },
        "20da6c4a6d0f4f979c6d7238c6c1ebde": {
          "model_module": "@jupyter-widgets/base",
          "model_name": "LayoutModel",
          "model_module_version": "1.2.0",
          "state": {
            "_view_name": "LayoutView",
            "grid_template_rows": null,
            "right": null,
            "justify_content": null,
            "_view_module": "@jupyter-widgets/base",
            "overflow": null,
            "_model_module_version": "1.2.0",
            "_view_count": null,
            "flex_flow": null,
            "width": null,
            "min_width": null,
            "border": null,
            "align_items": null,
            "bottom": null,
            "_model_module": "@jupyter-widgets/base",
            "top": null,
            "grid_column": null,
            "overflow_y": null,
            "overflow_x": null,
            "grid_auto_flow": null,
            "grid_area": null,
            "grid_template_columns": null,
            "flex": null,
            "_model_name": "LayoutModel",
            "justify_items": null,
            "grid_row": null,
            "max_height": null,
            "align_content": null,
            "visibility": null,
            "align_self": null,
            "height": null,
            "min_height": null,
            "padding": null,
            "grid_auto_rows": null,
            "grid_gap": null,
            "max_width": null,
            "order": null,
            "_view_module_version": "1.2.0",
            "grid_template_areas": null,
            "object_position": null,
            "object_fit": null,
            "grid_auto_columns": null,
            "margin": null,
            "display": null,
            "left": null
          }
        },
        "65635ecc9f9a4d31bd1f12313ec5337c": {
          "model_module": "@jupyter-widgets/controls",
          "model_name": "HTMLModel",
          "model_module_version": "1.5.0",
          "state": {
            "_view_name": "HTMLView",
            "style": "IPY_MODEL_203d1760d9144b1c81d51833b602c664",
            "_dom_classes": [],
            "description": "",
            "_model_name": "HTMLModel",
            "placeholder": "​",
            "_view_module": "@jupyter-widgets/controls",
            "_model_module_version": "1.5.0",
            "value": "Dl Completed...: ",
            "_view_count": null,
            "_view_module_version": "1.5.0",
            "description_tooltip": null,
            "_model_module": "@jupyter-widgets/controls",
            "layout": "IPY_MODEL_89362a9b4cb1485cb8d0a9be650b1168"
          }
        },
        "68f68e30f4ba4ff5a116430b85194a93": {
          "model_module": "@jupyter-widgets/controls",
          "model_name": "FloatProgressModel",
          "model_module_version": "1.5.0",
          "state": {
            "_view_name": "ProgressView",
            "style": "IPY_MODEL_a2740554421d42b4bd4c1eab452403ea",
            "_dom_classes": [],
            "description": "",
            "_model_name": "FloatProgressModel",
            "bar_style": "success",
            "max": 1,
            "_view_module": "@jupyter-widgets/controls",
            "_model_module_version": "1.5.0",
            "value": 0,
            "_view_count": null,
            "_view_module_version": "1.5.0",
            "orientation": "horizontal",
            "min": 0,
            "description_tooltip": null,
            "_model_module": "@jupyter-widgets/controls",
            "layout": "IPY_MODEL_8bef76bfa78c4bd8bc082c465e544011"
          }
        },
        "2c9265d6eaf740aea16cfc6313ae2185": {
          "model_module": "@jupyter-widgets/controls",
          "model_name": "HTMLModel",
          "model_module_version": "1.5.0",
          "state": {
            "_view_name": "HTMLView",
            "style": "IPY_MODEL_d876004b0e3e40a2955f18f89ac8be97",
            "_dom_classes": [],
            "description": "",
            "_model_name": "HTMLModel",
            "placeholder": "​",
            "_view_module": "@jupyter-widgets/controls",
            "_model_module_version": "1.5.0",
            "value": " 0/0 [00:00&lt;?, ? url/s]",
            "_view_count": null,
            "_view_module_version": "1.5.0",
            "description_tooltip": null,
            "_model_module": "@jupyter-widgets/controls",
            "layout": "IPY_MODEL_a689a2b0e71043a5918b163833581fb4"
          }
        },
        "203d1760d9144b1c81d51833b602c664": {
          "model_module": "@jupyter-widgets/controls",
          "model_name": "DescriptionStyleModel",
          "model_module_version": "1.5.0",
          "state": {
            "_view_name": "StyleView",
            "_model_name": "DescriptionStyleModel",
            "description_width": "",
            "_view_module": "@jupyter-widgets/base",
            "_model_module_version": "1.5.0",
            "_view_count": null,
            "_view_module_version": "1.2.0",
            "_model_module": "@jupyter-widgets/controls"
          }
        },
        "89362a9b4cb1485cb8d0a9be650b1168": {
          "model_module": "@jupyter-widgets/base",
          "model_name": "LayoutModel",
          "model_module_version": "1.2.0",
          "state": {
            "_view_name": "LayoutView",
            "grid_template_rows": null,
            "right": null,
            "justify_content": null,
            "_view_module": "@jupyter-widgets/base",
            "overflow": null,
            "_model_module_version": "1.2.0",
            "_view_count": null,
            "flex_flow": null,
            "width": null,
            "min_width": null,
            "border": null,
            "align_items": null,
            "bottom": null,
            "_model_module": "@jupyter-widgets/base",
            "top": null,
            "grid_column": null,
            "overflow_y": null,
            "overflow_x": null,
            "grid_auto_flow": null,
            "grid_area": null,
            "grid_template_columns": null,
            "flex": null,
            "_model_name": "LayoutModel",
            "justify_items": null,
            "grid_row": null,
            "max_height": null,
            "align_content": null,
            "visibility": null,
            "align_self": null,
            "height": null,
            "min_height": null,
            "padding": null,
            "grid_auto_rows": null,
            "grid_gap": null,
            "max_width": null,
            "order": null,
            "_view_module_version": "1.2.0",
            "grid_template_areas": null,
            "object_position": null,
            "object_fit": null,
            "grid_auto_columns": null,
            "margin": null,
            "display": null,
            "left": null
          }
        },
        "a2740554421d42b4bd4c1eab452403ea": {
          "model_module": "@jupyter-widgets/controls",
          "model_name": "ProgressStyleModel",
          "model_module_version": "1.5.0",
          "state": {
            "_view_name": "StyleView",
            "_model_name": "ProgressStyleModel",
            "description_width": "",
            "_view_module": "@jupyter-widgets/base",
            "_model_module_version": "1.5.0",
            "_view_count": null,
            "_view_module_version": "1.2.0",
            "bar_color": null,
            "_model_module": "@jupyter-widgets/controls"
          }
        },
        "8bef76bfa78c4bd8bc082c465e544011": {
          "model_module": "@jupyter-widgets/base",
          "model_name": "LayoutModel",
          "model_module_version": "1.2.0",
          "state": {
            "_view_name": "LayoutView",
            "grid_template_rows": null,
            "right": null,
            "justify_content": null,
            "_view_module": "@jupyter-widgets/base",
            "overflow": null,
            "_model_module_version": "1.2.0",
            "_view_count": null,
            "flex_flow": null,
            "width": "20px",
            "min_width": null,
            "border": null,
            "align_items": null,
            "bottom": null,
            "_model_module": "@jupyter-widgets/base",
            "top": null,
            "grid_column": null,
            "overflow_y": null,
            "overflow_x": null,
            "grid_auto_flow": null,
            "grid_area": null,
            "grid_template_columns": null,
            "flex": null,
            "_model_name": "LayoutModel",
            "justify_items": null,
            "grid_row": null,
            "max_height": null,
            "align_content": null,
            "visibility": null,
            "align_self": null,
            "height": null,
            "min_height": null,
            "padding": null,
            "grid_auto_rows": null,
            "grid_gap": null,
            "max_width": null,
            "order": null,
            "_view_module_version": "1.2.0",
            "grid_template_areas": null,
            "object_position": null,
            "object_fit": null,
            "grid_auto_columns": null,
            "margin": null,
            "display": null,
            "left": null
          }
        },
        "d876004b0e3e40a2955f18f89ac8be97": {
          "model_module": "@jupyter-widgets/controls",
          "model_name": "DescriptionStyleModel",
          "model_module_version": "1.5.0",
          "state": {
            "_view_name": "StyleView",
            "_model_name": "DescriptionStyleModel",
            "description_width": "",
            "_view_module": "@jupyter-widgets/base",
            "_model_module_version": "1.5.0",
            "_view_count": null,
            "_view_module_version": "1.2.0",
            "_model_module": "@jupyter-widgets/controls"
          }
        },
        "a689a2b0e71043a5918b163833581fb4": {
          "model_module": "@jupyter-widgets/base",
          "model_name": "LayoutModel",
          "model_module_version": "1.2.0",
          "state": {
            "_view_name": "LayoutView",
            "grid_template_rows": null,
            "right": null,
            "justify_content": null,
            "_view_module": "@jupyter-widgets/base",
            "overflow": null,
            "_model_module_version": "1.2.0",
            "_view_count": null,
            "flex_flow": null,
            "width": null,
            "min_width": null,
            "border": null,
            "align_items": null,
            "bottom": null,
            "_model_module": "@jupyter-widgets/base",
            "top": null,
            "grid_column": null,
            "overflow_y": null,
            "overflow_x": null,
            "grid_auto_flow": null,
            "grid_area": null,
            "grid_template_columns": null,
            "flex": null,
            "_model_name": "LayoutModel",
            "justify_items": null,
            "grid_row": null,
            "max_height": null,
            "align_content": null,
            "visibility": null,
            "align_self": null,
            "height": null,
            "min_height": null,
            "padding": null,
            "grid_auto_rows": null,
            "grid_gap": null,
            "max_width": null,
            "order": null,
            "_view_module_version": "1.2.0",
            "grid_template_areas": null,
            "object_position": null,
            "object_fit": null,
            "grid_auto_columns": null,
            "margin": null,
            "display": null,
            "left": null
          }
        },
        "2dd184bea3994e29aadbbb6453526b22": {
          "model_module": "@jupyter-widgets/controls",
          "model_name": "HBoxModel",
          "model_module_version": "1.5.0",
          "state": {
            "_view_name": "HBoxView",
            "_dom_classes": [],
            "_model_name": "HBoxModel",
            "_view_module": "@jupyter-widgets/controls",
            "_model_module_version": "1.5.0",
            "_view_count": null,
            "_view_module_version": "1.5.0",
            "box_style": "",
            "layout": "IPY_MODEL_b1cf77a9af9d42f6868a1bfdfcd82e67",
            "_model_module": "@jupyter-widgets/controls",
            "children": [
              "IPY_MODEL_82d59529b8c844beb141f7ee08c6951f",
              "IPY_MODEL_d8b87974ed264127b47b49348ae8f30d",
              "IPY_MODEL_f979551002604e3fae662212023575d5"
            ]
          }
        },
        "b1cf77a9af9d42f6868a1bfdfcd82e67": {
          "model_module": "@jupyter-widgets/base",
          "model_name": "LayoutModel",
          "model_module_version": "1.2.0",
          "state": {
            "_view_name": "LayoutView",
            "grid_template_rows": null,
            "right": null,
            "justify_content": null,
            "_view_module": "@jupyter-widgets/base",
            "overflow": null,
            "_model_module_version": "1.2.0",
            "_view_count": null,
            "flex_flow": null,
            "width": null,
            "min_width": null,
            "border": null,
            "align_items": null,
            "bottom": null,
            "_model_module": "@jupyter-widgets/base",
            "top": null,
            "grid_column": null,
            "overflow_y": null,
            "overflow_x": null,
            "grid_auto_flow": null,
            "grid_area": null,
            "grid_template_columns": null,
            "flex": null,
            "_model_name": "LayoutModel",
            "justify_items": null,
            "grid_row": null,
            "max_height": null,
            "align_content": null,
            "visibility": null,
            "align_self": null,
            "height": null,
            "min_height": null,
            "padding": null,
            "grid_auto_rows": null,
            "grid_gap": null,
            "max_width": null,
            "order": null,
            "_view_module_version": "1.2.0",
            "grid_template_areas": null,
            "object_position": null,
            "object_fit": null,
            "grid_auto_columns": null,
            "margin": null,
            "display": null,
            "left": null
          }
        },
        "82d59529b8c844beb141f7ee08c6951f": {
          "model_module": "@jupyter-widgets/controls",
          "model_name": "HTMLModel",
          "model_module_version": "1.5.0",
          "state": {
            "_view_name": "HTMLView",
            "style": "IPY_MODEL_e6877492c6944fc9b8c48ba0e5b2bcd2",
            "_dom_classes": [],
            "description": "",
            "_model_name": "HTMLModel",
            "placeholder": "​",
            "_view_module": "@jupyter-widgets/controls",
            "_model_module_version": "1.5.0",
            "value": "Dl Size...: ",
            "_view_count": null,
            "_view_module_version": "1.5.0",
            "description_tooltip": null,
            "_model_module": "@jupyter-widgets/controls",
            "layout": "IPY_MODEL_d06267c85ab648f181fd9d6ca346adda"
          }
        },
        "d8b87974ed264127b47b49348ae8f30d": {
          "model_module": "@jupyter-widgets/controls",
          "model_name": "FloatProgressModel",
          "model_module_version": "1.5.0",
          "state": {
            "_view_name": "ProgressView",
            "style": "IPY_MODEL_1292df43c4ca466f8026a27af8466f18",
            "_dom_classes": [],
            "description": "",
            "_model_name": "FloatProgressModel",
            "bar_style": "success",
            "max": 1,
            "_view_module": "@jupyter-widgets/controls",
            "_model_module_version": "1.5.0",
            "value": 0,
            "_view_count": null,
            "_view_module_version": "1.5.0",
            "orientation": "horizontal",
            "min": 0,
            "description_tooltip": null,
            "_model_module": "@jupyter-widgets/controls",
            "layout": "IPY_MODEL_d55858da2ea14fb295ce686fea3cea18"
          }
        },
        "f979551002604e3fae662212023575d5": {
          "model_module": "@jupyter-widgets/controls",
          "model_name": "HTMLModel",
          "model_module_version": "1.5.0",
          "state": {
            "_view_name": "HTMLView",
            "style": "IPY_MODEL_87c040f7e6c04559a0a719a6f2263bc0",
            "_dom_classes": [],
            "description": "",
            "_model_name": "HTMLModel",
            "placeholder": "​",
            "_view_module": "@jupyter-widgets/controls",
            "_model_module_version": "1.5.0",
            "value": " 0/0 [00:00&lt;?, ? MiB/s]",
            "_view_count": null,
            "_view_module_version": "1.5.0",
            "description_tooltip": null,
            "_model_module": "@jupyter-widgets/controls",
            "layout": "IPY_MODEL_22a54ce6fac247e791bb0e5461c39fee"
          }
        },
        "e6877492c6944fc9b8c48ba0e5b2bcd2": {
          "model_module": "@jupyter-widgets/controls",
          "model_name": "DescriptionStyleModel",
          "model_module_version": "1.5.0",
          "state": {
            "_view_name": "StyleView",
            "_model_name": "DescriptionStyleModel",
            "description_width": "",
            "_view_module": "@jupyter-widgets/base",
            "_model_module_version": "1.5.0",
            "_view_count": null,
            "_view_module_version": "1.2.0",
            "_model_module": "@jupyter-widgets/controls"
          }
        },
        "d06267c85ab648f181fd9d6ca346adda": {
          "model_module": "@jupyter-widgets/base",
          "model_name": "LayoutModel",
          "model_module_version": "1.2.0",
          "state": {
            "_view_name": "LayoutView",
            "grid_template_rows": null,
            "right": null,
            "justify_content": null,
            "_view_module": "@jupyter-widgets/base",
            "overflow": null,
            "_model_module_version": "1.2.0",
            "_view_count": null,
            "flex_flow": null,
            "width": null,
            "min_width": null,
            "border": null,
            "align_items": null,
            "bottom": null,
            "_model_module": "@jupyter-widgets/base",
            "top": null,
            "grid_column": null,
            "overflow_y": null,
            "overflow_x": null,
            "grid_auto_flow": null,
            "grid_area": null,
            "grid_template_columns": null,
            "flex": null,
            "_model_name": "LayoutModel",
            "justify_items": null,
            "grid_row": null,
            "max_height": null,
            "align_content": null,
            "visibility": null,
            "align_self": null,
            "height": null,
            "min_height": null,
            "padding": null,
            "grid_auto_rows": null,
            "grid_gap": null,
            "max_width": null,
            "order": null,
            "_view_module_version": "1.2.0",
            "grid_template_areas": null,
            "object_position": null,
            "object_fit": null,
            "grid_auto_columns": null,
            "margin": null,
            "display": null,
            "left": null
          }
        },
        "1292df43c4ca466f8026a27af8466f18": {
          "model_module": "@jupyter-widgets/controls",
          "model_name": "ProgressStyleModel",
          "model_module_version": "1.5.0",
          "state": {
            "_view_name": "StyleView",
            "_model_name": "ProgressStyleModel",
            "description_width": "",
            "_view_module": "@jupyter-widgets/base",
            "_model_module_version": "1.5.0",
            "_view_count": null,
            "_view_module_version": "1.2.0",
            "bar_color": null,
            "_model_module": "@jupyter-widgets/controls"
          }
        },
        "d55858da2ea14fb295ce686fea3cea18": {
          "model_module": "@jupyter-widgets/base",
          "model_name": "LayoutModel",
          "model_module_version": "1.2.0",
          "state": {
            "_view_name": "LayoutView",
            "grid_template_rows": null,
            "right": null,
            "justify_content": null,
            "_view_module": "@jupyter-widgets/base",
            "overflow": null,
            "_model_module_version": "1.2.0",
            "_view_count": null,
            "flex_flow": null,
            "width": "20px",
            "min_width": null,
            "border": null,
            "align_items": null,
            "bottom": null,
            "_model_module": "@jupyter-widgets/base",
            "top": null,
            "grid_column": null,
            "overflow_y": null,
            "overflow_x": null,
            "grid_auto_flow": null,
            "grid_area": null,
            "grid_template_columns": null,
            "flex": null,
            "_model_name": "LayoutModel",
            "justify_items": null,
            "grid_row": null,
            "max_height": null,
            "align_content": null,
            "visibility": null,
            "align_self": null,
            "height": null,
            "min_height": null,
            "padding": null,
            "grid_auto_rows": null,
            "grid_gap": null,
            "max_width": null,
            "order": null,
            "_view_module_version": "1.2.0",
            "grid_template_areas": null,
            "object_position": null,
            "object_fit": null,
            "grid_auto_columns": null,
            "margin": null,
            "display": null,
            "left": null
          }
        },
        "87c040f7e6c04559a0a719a6f2263bc0": {
          "model_module": "@jupyter-widgets/controls",
          "model_name": "DescriptionStyleModel",
          "model_module_version": "1.5.0",
          "state": {
            "_view_name": "StyleView",
            "_model_name": "DescriptionStyleModel",
            "description_width": "",
            "_view_module": "@jupyter-widgets/base",
            "_model_module_version": "1.5.0",
            "_view_count": null,
            "_view_module_version": "1.2.0",
            "_model_module": "@jupyter-widgets/controls"
          }
        },
        "22a54ce6fac247e791bb0e5461c39fee": {
          "model_module": "@jupyter-widgets/base",
          "model_name": "LayoutModel",
          "model_module_version": "1.2.0",
          "state": {
            "_view_name": "LayoutView",
            "grid_template_rows": null,
            "right": null,
            "justify_content": null,
            "_view_module": "@jupyter-widgets/base",
            "overflow": null,
            "_model_module_version": "1.2.0",
            "_view_count": null,
            "flex_flow": null,
            "width": null,
            "min_width": null,
            "border": null,
            "align_items": null,
            "bottom": null,
            "_model_module": "@jupyter-widgets/base",
            "top": null,
            "grid_column": null,
            "overflow_y": null,
            "overflow_x": null,
            "grid_auto_flow": null,
            "grid_area": null,
            "grid_template_columns": null,
            "flex": null,
            "_model_name": "LayoutModel",
            "justify_items": null,
            "grid_row": null,
            "max_height": null,
            "align_content": null,
            "visibility": null,
            "align_self": null,
            "height": null,
            "min_height": null,
            "padding": null,
            "grid_auto_rows": null,
            "grid_gap": null,
            "max_width": null,
            "order": null,
            "_view_module_version": "1.2.0",
            "grid_template_areas": null,
            "object_position": null,
            "object_fit": null,
            "grid_auto_columns": null,
            "margin": null,
            "display": null,
            "left": null
          }
        },
        "fba16936be6b4392b5b238905efa6056": {
          "model_module": "@jupyter-widgets/controls",
          "model_name": "HBoxModel",
          "model_module_version": "1.5.0",
          "state": {
            "_view_name": "HBoxView",
            "_dom_classes": [],
            "_model_name": "HBoxModel",
            "_view_module": "@jupyter-widgets/controls",
            "_model_module_version": "1.5.0",
            "_view_count": null,
            "_view_module_version": "1.5.0",
            "box_style": "",
            "layout": "IPY_MODEL_6fc731a4dbf04fe1ae150a7e801306bf",
            "_model_module": "@jupyter-widgets/controls",
            "children": [
              "IPY_MODEL_21e4402d8fb54b71b472311f87c3a2fe",
              "IPY_MODEL_bf9a49b264684a52ba1af89ee4c74107",
              "IPY_MODEL_ab23b17a18c34faf9cf88173bf98c0ce"
            ]
          }
        },
        "6fc731a4dbf04fe1ae150a7e801306bf": {
          "model_module": "@jupyter-widgets/base",
          "model_name": "LayoutModel",
          "model_module_version": "1.2.0",
          "state": {
            "_view_name": "LayoutView",
            "grid_template_rows": null,
            "right": null,
            "justify_content": null,
            "_view_module": "@jupyter-widgets/base",
            "overflow": null,
            "_model_module_version": "1.2.0",
            "_view_count": null,
            "flex_flow": null,
            "width": null,
            "min_width": null,
            "border": null,
            "align_items": null,
            "bottom": null,
            "_model_module": "@jupyter-widgets/base",
            "top": null,
            "grid_column": null,
            "overflow_y": null,
            "overflow_x": null,
            "grid_auto_flow": null,
            "grid_area": null,
            "grid_template_columns": null,
            "flex": null,
            "_model_name": "LayoutModel",
            "justify_items": null,
            "grid_row": null,
            "max_height": null,
            "align_content": null,
            "visibility": null,
            "align_self": null,
            "height": null,
            "min_height": null,
            "padding": null,
            "grid_auto_rows": null,
            "grid_gap": null,
            "max_width": null,
            "order": null,
            "_view_module_version": "1.2.0",
            "grid_template_areas": null,
            "object_position": null,
            "object_fit": null,
            "grid_auto_columns": null,
            "margin": null,
            "display": null,
            "left": null
          }
        },
        "21e4402d8fb54b71b472311f87c3a2fe": {
          "model_module": "@jupyter-widgets/controls",
          "model_name": "HTMLModel",
          "model_module_version": "1.5.0",
          "state": {
            "_view_name": "HTMLView",
            "style": "IPY_MODEL_e422f59d2e2a415fbeaa8ad283a8db9c",
            "_dom_classes": [],
            "description": "",
            "_model_name": "HTMLModel",
            "placeholder": "​",
            "_view_module": "@jupyter-widgets/controls",
            "_model_module_version": "1.5.0",
            "value": "",
            "_view_count": null,
            "_view_module_version": "1.5.0",
            "description_tooltip": null,
            "_model_module": "@jupyter-widgets/controls",
            "layout": "IPY_MODEL_3f487cb952294445b516b2afc25deb4e"
          }
        },
        "bf9a49b264684a52ba1af89ee4c74107": {
          "model_module": "@jupyter-widgets/controls",
          "model_name": "FloatProgressModel",
          "model_module_version": "1.5.0",
          "state": {
            "_view_name": "ProgressView",
            "style": "IPY_MODEL_98c9e4e2056840d59b5d773885f08123",
            "_dom_classes": [],
            "description": "",
            "_model_name": "FloatProgressModel",
            "bar_style": "info",
            "max": 1,
            "_view_module": "@jupyter-widgets/controls",
            "_model_module_version": "1.5.0",
            "value": 1,
            "_view_count": null,
            "_view_module_version": "1.5.0",
            "orientation": "horizontal",
            "min": 0,
            "description_tooltip": null,
            "_model_module": "@jupyter-widgets/controls",
            "layout": "IPY_MODEL_a054b431284e457e979c65aa15fe4c43"
          }
        },
        "ab23b17a18c34faf9cf88173bf98c0ce": {
          "model_module": "@jupyter-widgets/controls",
          "model_name": "HTMLModel",
          "model_module_version": "1.5.0",
          "state": {
            "_view_name": "HTMLView",
            "style": "IPY_MODEL_1a9a87fb57e94eafb5d2f5340641bb31",
            "_dom_classes": [],
            "description": "",
            "_model_name": "HTMLModel",
            "placeholder": "​",
            "_view_module": "@jupyter-widgets/controls",
            "_model_module_version": "1.5.0",
            "value": " 997/0 [00:14&lt;00:00, 72.32 examples/s]",
            "_view_count": null,
            "_view_module_version": "1.5.0",
            "description_tooltip": null,
            "_model_module": "@jupyter-widgets/controls",
            "layout": "IPY_MODEL_2a809a79fe2a47d7b55bd4b02a50bf3b"
          }
        },
        "e422f59d2e2a415fbeaa8ad283a8db9c": {
          "model_module": "@jupyter-widgets/controls",
          "model_name": "DescriptionStyleModel",
          "model_module_version": "1.5.0",
          "state": {
            "_view_name": "StyleView",
            "_model_name": "DescriptionStyleModel",
            "description_width": "",
            "_view_module": "@jupyter-widgets/base",
            "_model_module_version": "1.5.0",
            "_view_count": null,
            "_view_module_version": "1.2.0",
            "_model_module": "@jupyter-widgets/controls"
          }
        },
        "3f487cb952294445b516b2afc25deb4e": {
          "model_module": "@jupyter-widgets/base",
          "model_name": "LayoutModel",
          "model_module_version": "1.2.0",
          "state": {
            "_view_name": "LayoutView",
            "grid_template_rows": null,
            "right": null,
            "justify_content": null,
            "_view_module": "@jupyter-widgets/base",
            "overflow": null,
            "_model_module_version": "1.2.0",
            "_view_count": null,
            "flex_flow": null,
            "width": null,
            "min_width": null,
            "border": null,
            "align_items": null,
            "bottom": null,
            "_model_module": "@jupyter-widgets/base",
            "top": null,
            "grid_column": null,
            "overflow_y": null,
            "overflow_x": null,
            "grid_auto_flow": null,
            "grid_area": null,
            "grid_template_columns": null,
            "flex": null,
            "_model_name": "LayoutModel",
            "justify_items": null,
            "grid_row": null,
            "max_height": null,
            "align_content": null,
            "visibility": null,
            "align_self": null,
            "height": null,
            "min_height": null,
            "padding": null,
            "grid_auto_rows": null,
            "grid_gap": null,
            "max_width": null,
            "order": null,
            "_view_module_version": "1.2.0",
            "grid_template_areas": null,
            "object_position": null,
            "object_fit": null,
            "grid_auto_columns": null,
            "margin": null,
            "display": null,
            "left": null
          }
        },
        "98c9e4e2056840d59b5d773885f08123": {
          "model_module": "@jupyter-widgets/controls",
          "model_name": "ProgressStyleModel",
          "model_module_version": "1.5.0",
          "state": {
            "_view_name": "StyleView",
            "_model_name": "ProgressStyleModel",
            "description_width": "",
            "_view_module": "@jupyter-widgets/base",
            "_model_module_version": "1.5.0",
            "_view_count": null,
            "_view_module_version": "1.2.0",
            "bar_color": null,
            "_model_module": "@jupyter-widgets/controls"
          }
        },
        "a054b431284e457e979c65aa15fe4c43": {
          "model_module": "@jupyter-widgets/base",
          "model_name": "LayoutModel",
          "model_module_version": "1.2.0",
          "state": {
            "_view_name": "LayoutView",
            "grid_template_rows": null,
            "right": null,
            "justify_content": null,
            "_view_module": "@jupyter-widgets/base",
            "overflow": null,
            "_model_module_version": "1.2.0",
            "_view_count": null,
            "flex_flow": null,
            "width": "20px",
            "min_width": null,
            "border": null,
            "align_items": null,
            "bottom": null,
            "_model_module": "@jupyter-widgets/base",
            "top": null,
            "grid_column": null,
            "overflow_y": null,
            "overflow_x": null,
            "grid_auto_flow": null,
            "grid_area": null,
            "grid_template_columns": null,
            "flex": null,
            "_model_name": "LayoutModel",
            "justify_items": null,
            "grid_row": null,
            "max_height": null,
            "align_content": null,
            "visibility": null,
            "align_self": null,
            "height": null,
            "min_height": null,
            "padding": null,
            "grid_auto_rows": null,
            "grid_gap": null,
            "max_width": null,
            "order": null,
            "_view_module_version": "1.2.0",
            "grid_template_areas": null,
            "object_position": null,
            "object_fit": null,
            "grid_auto_columns": null,
            "margin": null,
            "display": null,
            "left": null
          }
        },
        "1a9a87fb57e94eafb5d2f5340641bb31": {
          "model_module": "@jupyter-widgets/controls",
          "model_name": "DescriptionStyleModel",
          "model_module_version": "1.5.0",
          "state": {
            "_view_name": "StyleView",
            "_model_name": "DescriptionStyleModel",
            "description_width": "",
            "_view_module": "@jupyter-widgets/base",
            "_model_module_version": "1.5.0",
            "_view_count": null,
            "_view_module_version": "1.2.0",
            "_model_module": "@jupyter-widgets/controls"
          }
        },
        "2a809a79fe2a47d7b55bd4b02a50bf3b": {
          "model_module": "@jupyter-widgets/base",
          "model_name": "LayoutModel",
          "model_module_version": "1.2.0",
          "state": {
            "_view_name": "LayoutView",
            "grid_template_rows": null,
            "right": null,
            "justify_content": null,
            "_view_module": "@jupyter-widgets/base",
            "overflow": null,
            "_model_module_version": "1.2.0",
            "_view_count": null,
            "flex_flow": null,
            "width": null,
            "min_width": null,
            "border": null,
            "align_items": null,
            "bottom": null,
            "_model_module": "@jupyter-widgets/base",
            "top": null,
            "grid_column": null,
            "overflow_y": null,
            "overflow_x": null,
            "grid_auto_flow": null,
            "grid_area": null,
            "grid_template_columns": null,
            "flex": null,
            "_model_name": "LayoutModel",
            "justify_items": null,
            "grid_row": null,
            "max_height": null,
            "align_content": null,
            "visibility": null,
            "align_self": null,
            "height": null,
            "min_height": null,
            "padding": null,
            "grid_auto_rows": null,
            "grid_gap": null,
            "max_width": null,
            "order": null,
            "_view_module_version": "1.2.0",
            "grid_template_areas": null,
            "object_position": null,
            "object_fit": null,
            "grid_auto_columns": null,
            "margin": null,
            "display": null,
            "left": null
          }
        },
        "6a2dab172f9943138f4e65816b462cc3": {
          "model_module": "@jupyter-widgets/controls",
          "model_name": "HBoxModel",
          "model_module_version": "1.5.0",
          "state": {
            "_view_name": "HBoxView",
            "_dom_classes": [],
            "_model_name": "HBoxModel",
            "_view_module": "@jupyter-widgets/controls",
            "_model_module_version": "1.5.0",
            "_view_count": null,
            "_view_module_version": "1.5.0",
            "box_style": "",
            "layout": "IPY_MODEL_ec14602bfec54213abb9b19279b4e599",
            "_model_module": "@jupyter-widgets/controls",
            "children": [
              "IPY_MODEL_bd7f31a5159d427f98870c4d188f514d",
              "IPY_MODEL_745264433d4d42d5ada0d6f92d838dd9",
              "IPY_MODEL_afb92bab3aa54cc886aa6ddfd1c07afe"
            ]
          }
        },
        "ec14602bfec54213abb9b19279b4e599": {
          "model_module": "@jupyter-widgets/base",
          "model_name": "LayoutModel",
          "model_module_version": "1.2.0",
          "state": {
            "_view_name": "LayoutView",
            "grid_template_rows": null,
            "right": null,
            "justify_content": null,
            "_view_module": "@jupyter-widgets/base",
            "overflow": null,
            "_model_module_version": "1.2.0",
            "_view_count": null,
            "flex_flow": null,
            "width": null,
            "min_width": null,
            "border": null,
            "align_items": null,
            "bottom": null,
            "_model_module": "@jupyter-widgets/base",
            "top": null,
            "grid_column": null,
            "overflow_y": null,
            "overflow_x": null,
            "grid_auto_flow": null,
            "grid_area": null,
            "grid_template_columns": null,
            "flex": null,
            "_model_name": "LayoutModel",
            "justify_items": null,
            "grid_row": null,
            "max_height": null,
            "align_content": null,
            "visibility": null,
            "align_self": null,
            "height": null,
            "min_height": null,
            "padding": null,
            "grid_auto_rows": null,
            "grid_gap": null,
            "max_width": null,
            "order": null,
            "_view_module_version": "1.2.0",
            "grid_template_areas": null,
            "object_position": null,
            "object_fit": null,
            "grid_auto_columns": null,
            "margin": null,
            "display": null,
            "left": null
          }
        },
        "bd7f31a5159d427f98870c4d188f514d": {
          "model_module": "@jupyter-widgets/controls",
          "model_name": "HTMLModel",
          "model_module_version": "1.5.0",
          "state": {
            "_view_name": "HTMLView",
            "style": "IPY_MODEL_7f9c7c64492f4eb891737d63d58af927",
            "_dom_classes": [],
            "description": "",
            "_model_name": "HTMLModel",
            "placeholder": "​",
            "_view_module": "@jupyter-widgets/controls",
            "_model_module_version": "1.5.0",
            "value": "100%",
            "_view_count": null,
            "_view_module_version": "1.5.0",
            "description_tooltip": null,
            "_model_module": "@jupyter-widgets/controls",
            "layout": "IPY_MODEL_5556928899a042d98f211012debf06ea"
          }
        },
        "745264433d4d42d5ada0d6f92d838dd9": {
          "model_module": "@jupyter-widgets/controls",
          "model_name": "FloatProgressModel",
          "model_module_version": "1.5.0",
          "state": {
            "_view_name": "ProgressView",
            "style": "IPY_MODEL_4ac28092f21d41db98f40036cef75594",
            "_dom_classes": [],
            "description": "",
            "_model_name": "FloatProgressModel",
            "bar_style": "danger",
            "max": 1000,
            "_view_module": "@jupyter-widgets/controls",
            "_model_module_version": "1.5.0",
            "value": 999,
            "_view_count": null,
            "_view_module_version": "1.5.0",
            "orientation": "horizontal",
            "min": 0,
            "description_tooltip": null,
            "_model_module": "@jupyter-widgets/controls",
            "layout": "IPY_MODEL_bbd07003aa5a4bf8b26f62b0d2309b6e"
          }
        },
        "afb92bab3aa54cc886aa6ddfd1c07afe": {
          "model_module": "@jupyter-widgets/controls",
          "model_name": "HTMLModel",
          "model_module_version": "1.5.0",
          "state": {
            "_view_name": "HTMLView",
            "style": "IPY_MODEL_763c53f6b2f3452c83d31b99ffce7d3d",
            "_dom_classes": [],
            "description": "",
            "_model_name": "HTMLModel",
            "placeholder": "​",
            "_view_module": "@jupyter-widgets/controls",
            "_model_module_version": "1.5.0",
            "value": " 999/1000 [00:00&lt;00:00, 3410.92 examples/s]",
            "_view_count": null,
            "_view_module_version": "1.5.0",
            "description_tooltip": null,
            "_model_module": "@jupyter-widgets/controls",
            "layout": "IPY_MODEL_9e3e09ec996e4f12b90441a44d0844d5"
          }
        },
        "7f9c7c64492f4eb891737d63d58af927": {
          "model_module": "@jupyter-widgets/controls",
          "model_name": "DescriptionStyleModel",
          "model_module_version": "1.5.0",
          "state": {
            "_view_name": "StyleView",
            "_model_name": "DescriptionStyleModel",
            "description_width": "",
            "_view_module": "@jupyter-widgets/base",
            "_model_module_version": "1.5.0",
            "_view_count": null,
            "_view_module_version": "1.2.0",
            "_model_module": "@jupyter-widgets/controls"
          }
        },
        "5556928899a042d98f211012debf06ea": {
          "model_module": "@jupyter-widgets/base",
          "model_name": "LayoutModel",
          "model_module_version": "1.2.0",
          "state": {
            "_view_name": "LayoutView",
            "grid_template_rows": null,
            "right": null,
            "justify_content": null,
            "_view_module": "@jupyter-widgets/base",
            "overflow": null,
            "_model_module_version": "1.2.0",
            "_view_count": null,
            "flex_flow": null,
            "width": null,
            "min_width": null,
            "border": null,
            "align_items": null,
            "bottom": null,
            "_model_module": "@jupyter-widgets/base",
            "top": null,
            "grid_column": null,
            "overflow_y": null,
            "overflow_x": null,
            "grid_auto_flow": null,
            "grid_area": null,
            "grid_template_columns": null,
            "flex": null,
            "_model_name": "LayoutModel",
            "justify_items": null,
            "grid_row": null,
            "max_height": null,
            "align_content": null,
            "visibility": null,
            "align_self": null,
            "height": null,
            "min_height": null,
            "padding": null,
            "grid_auto_rows": null,
            "grid_gap": null,
            "max_width": null,
            "order": null,
            "_view_module_version": "1.2.0",
            "grid_template_areas": null,
            "object_position": null,
            "object_fit": null,
            "grid_auto_columns": null,
            "margin": null,
            "display": null,
            "left": null
          }
        },
        "4ac28092f21d41db98f40036cef75594": {
          "model_module": "@jupyter-widgets/controls",
          "model_name": "ProgressStyleModel",
          "model_module_version": "1.5.0",
          "state": {
            "_view_name": "StyleView",
            "_model_name": "ProgressStyleModel",
            "description_width": "",
            "_view_module": "@jupyter-widgets/base",
            "_model_module_version": "1.5.0",
            "_view_count": null,
            "_view_module_version": "1.2.0",
            "bar_color": null,
            "_model_module": "@jupyter-widgets/controls"
          }
        },
        "bbd07003aa5a4bf8b26f62b0d2309b6e": {
          "model_module": "@jupyter-widgets/base",
          "model_name": "LayoutModel",
          "model_module_version": "1.2.0",
          "state": {
            "_view_name": "LayoutView",
            "grid_template_rows": null,
            "right": null,
            "justify_content": null,
            "_view_module": "@jupyter-widgets/base",
            "overflow": null,
            "_model_module_version": "1.2.0",
            "_view_count": null,
            "flex_flow": null,
            "width": null,
            "min_width": null,
            "border": null,
            "align_items": null,
            "bottom": null,
            "_model_module": "@jupyter-widgets/base",
            "top": null,
            "grid_column": null,
            "overflow_y": null,
            "overflow_x": null,
            "grid_auto_flow": null,
            "grid_area": null,
            "grid_template_columns": null,
            "flex": null,
            "_model_name": "LayoutModel",
            "justify_items": null,
            "grid_row": null,
            "max_height": null,
            "align_content": null,
            "visibility": null,
            "align_self": null,
            "height": null,
            "min_height": null,
            "padding": null,
            "grid_auto_rows": null,
            "grid_gap": null,
            "max_width": null,
            "order": null,
            "_view_module_version": "1.2.0",
            "grid_template_areas": null,
            "object_position": null,
            "object_fit": null,
            "grid_auto_columns": null,
            "margin": null,
            "display": null,
            "left": null
          }
        },
        "763c53f6b2f3452c83d31b99ffce7d3d": {
          "model_module": "@jupyter-widgets/controls",
          "model_name": "DescriptionStyleModel",
          "model_module_version": "1.5.0",
          "state": {
            "_view_name": "StyleView",
            "_model_name": "DescriptionStyleModel",
            "description_width": "",
            "_view_module": "@jupyter-widgets/base",
            "_model_module_version": "1.5.0",
            "_view_count": null,
            "_view_module_version": "1.2.0",
            "_model_module": "@jupyter-widgets/controls"
          }
        },
        "9e3e09ec996e4f12b90441a44d0844d5": {
          "model_module": "@jupyter-widgets/base",
          "model_name": "LayoutModel",
          "model_module_version": "1.2.0",
          "state": {
            "_view_name": "LayoutView",
            "grid_template_rows": null,
            "right": null,
            "justify_content": null,
            "_view_module": "@jupyter-widgets/base",
            "overflow": null,
            "_model_module_version": "1.2.0",
            "_view_count": null,
            "flex_flow": null,
            "width": null,
            "min_width": null,
            "border": null,
            "align_items": null,
            "bottom": null,
            "_model_module": "@jupyter-widgets/base",
            "top": null,
            "grid_column": null,
            "overflow_y": null,
            "overflow_x": null,
            "grid_auto_flow": null,
            "grid_area": null,
            "grid_template_columns": null,
            "flex": null,
            "_model_name": "LayoutModel",
            "justify_items": null,
            "grid_row": null,
            "max_height": null,
            "align_content": null,
            "visibility": null,
            "align_self": null,
            "height": null,
            "min_height": null,
            "padding": null,
            "grid_auto_rows": null,
            "grid_gap": null,
            "max_width": null,
            "order": null,
            "_view_module_version": "1.2.0",
            "grid_template_areas": null,
            "object_position": null,
            "object_fit": null,
            "grid_auto_columns": null,
            "margin": null,
            "display": null,
            "left": null
          }
        }
      }
    }
  },
  "cells": [
    {
      "cell_type": "markdown",
      "metadata": {
        "id": "view-in-github",
        "colab_type": "text"
      },
      "source": [
        "<a href=\"https://colab.research.google.com/github/EiffL/Tutorials/blob/master/PhotozCNN/photoz_inference_tfdatasets.ipynb\" target=\"_parent\"><img src=\"https://colab.research.google.com/assets/colab-badge.svg\" alt=\"Open In Colab\"/></a>"
      ]
    },
    {
      "cell_type": "markdown",
      "metadata": {
        "id": "VSFB2g954QdI"
      },
      "source": [
        "##### Copyright 2019-2021 Francois Lanusse.\n",
        "\n",
        "Licensed under the Apache License, Version 2.0 (the \"License\");"
      ]
    },
    {
      "cell_type": "markdown",
      "metadata": {
        "id": "GDnyjQvJ1E2-"
      },
      "source": [
        "# Photometric Redshift Estimation with TensorFlow - Part II: Dataset preparation with TensorFlow Datasets\n",
        "\n",
        "Author: [@EiffL](https://github.com/EiffL) (Francois Lanusse)\n",
        "\n",
        "### Overview\n",
        "\n",
        "This second notebook in the series focuses on an important step in a ML project,\n",
        "setting up your dataset.\n",
        "\n",
        "### Learning objectives\n",
        "\n",
        "In this notebook, we will learn how to:\n",
        "*   Create a dataset with TensorFlow Datasets\n",
        "\n"
      ]
    },
    {
      "cell_type": "markdown",
      "metadata": {
        "id": "TPKQaxoP5KiA"
      },
      "source": [
        "### Imports"
      ]
    },
    {
      "cell_type": "code",
      "metadata": {
        "id": "pg0GVUCV5JpT",
        "colab": {
          "base_uri": "https://localhost:8080/"
        },
        "outputId": "f8bc63a3-f5c1-429e-a418-a92c58d42507"
      },
      "source": [
        "%pylab inline\n",
        "%load_ext autoreload\n",
        "%autoreload 2\n",
        "import h5py\n",
        "from astropy.table import Table"
      ],
      "execution_count": 41,
      "outputs": [
        {
          "output_type": "stream",
          "name": "stdout",
          "text": [
            "Populating the interactive namespace from numpy and matplotlib\n"
          ]
        },
        {
          "output_type": "stream",
          "name": "stderr",
          "text": [
            "/usr/local/lib/python3.7/dist-packages/IPython/core/magics/pylab.py:161: UserWarning: pylab import has clobbered these variables: ['f']\n",
            "`%matplotlib` prevents importing * from pylab and numpy\n",
            "  \"\\n`%matplotlib` prevents importing * from pylab and numpy\"\n"
          ]
        }
      ]
    },
    {
      "cell_type": "markdown",
      "metadata": {
        "id": "hxXuGzieYZ-g"
      },
      "source": [
        "## A first look at TensorFlow Datasets\n",
        "\n"
      ]
    },
    {
      "cell_type": "code",
      "metadata": {
        "id": "SE2Z3uyJYiGi"
      },
      "source": [
        "import tensorflow as tf\n",
        "import tensorflow_datasets as tfds"
      ],
      "execution_count": 48,
      "outputs": []
    },
    {
      "cell_type": "code",
      "metadata": {
        "id": "k4i4ZoW_YiCM"
      },
      "source": [
        "# Loading the MNIST dataset\n",
        "dset = tfds.load('mnist', split='train')"
      ],
      "execution_count": 52,
      "outputs": []
    },
    {
      "cell_type": "code",
      "metadata": {
        "id": "grI09s0EYh9x"
      },
      "source": [
        "# Build your input pipeline\n",
        "dset = dset.shuffle(1024)\n",
        "dset = dset.batch(32)\n",
        "dset = dset.prefetch(tf.data.AUTOTUNE)"
      ],
      "execution_count": 53,
      "outputs": []
    },
    {
      "cell_type": "code",
      "metadata": {
        "id": "kf0-mAjzZs3I"
      },
      "source": [
        "for example in dset.take(1):\n",
        "  image, label = example[\"image\"], example[\"label\"]"
      ],
      "execution_count": 54,
      "outputs": []
    },
    {
      "cell_type": "code",
      "metadata": {
        "colab": {
          "base_uri": "https://localhost:8080/"
        },
        "id": "ltSftATGYh5u",
        "outputId": "798d1ad4-68eb-40dc-bd5b-947e7a2ef05b"
      },
      "source": [
        "image.shape"
      ],
      "execution_count": 55,
      "outputs": [
        {
          "output_type": "execute_result",
          "data": {
            "text/plain": [
              "TensorShape([32, 28, 28, 1])"
            ]
          },
          "metadata": {},
          "execution_count": 55
        }
      ]
    },
    {
      "cell_type": "code",
      "metadata": {
        "colab": {
          "base_uri": "https://localhost:8080/",
          "height": 281
        },
        "id": "bh0FobqpZw8D",
        "outputId": "cc3319b7-d6d4-4ebd-946b-7458ab13344d"
      },
      "source": [
        "imshow(image[0,:,:,0])\n",
        "title('This is a %d'%label[0]);"
      ],
      "execution_count": 62,
      "outputs": [
        {
          "output_type": "display_data",
          "data": {
            "image/png": "[encoded data removed]",
            "text/plain": [
              "<Figure size 432x288 with 1 Axes>"
            ]
          },
          "metadata": {
            "needs_background": "light"
          }
        }
      ]
    },
    {
      "cell_type": "markdown",
      "metadata": {
        "id": "HZNecouQaHqJ"
      },
      "source": [
        "Why TensorFlow datasets:\n",
        "\n",
        "- Makes manipulating your dataset very easy\n",
        "- Easily share your data\n",
        "- Maximises the speed at which data can be fed to the GPU"
      ]
    },
    {
      "cell_type": "markdown",
      "metadata": {
        "id": "rHXDvI31AA95"
      },
      "source": [
        "## Let's get some data\n",
        "\n",
        "As in any problem, our first step is to do some quick inspection of the data\n"
      ]
    },
    {
      "cell_type": "code",
      "metadata": {
        "id": "Djr-saaxAfg_",
        "colab": {
          "base_uri": "https://localhost:8080/"
        },
        "outputId": "9594fddf-ff88-4a3a-928f-4f9f050bd65f"
      },
      "source": [
        "# Path to the dataset\n",
        "bucket_name='ahw2019'\n",
        "\n",
        "# Download the dataset from Google cloud\n",
        "!gsutil cp gs://{bucket_name}/hsc_photoz/data/catalog_small.fits catalog_small.fits\n",
        "print('Catalog download complete')\n",
        "!gsutil cp gs://{bucket_name}/hsc_photoz/data/cutouts_small.hdf cutouts_small.hdf\n",
        "print('Cutouts download complete')"
      ],
      "execution_count": 63,
      "outputs": [
        {
          "output_type": "stream",
          "name": "stdout",
          "text": [
            "Copying gs://ahw2019/hsc_photoz/data/catalog_small.fits...\n",
            "/ [1 files][500.6 KiB/500.6 KiB]                                                \n",
            "Operation completed over 1 objects/500.6 KiB.                                    \n",
            "Catalog download complete\n",
            "Copying gs://ahw2019/hsc_photoz/data/cutouts_small.hdf...\n",
            "| [1 files][147.9 MiB/147.9 MiB]                                                \n",
            "Operation completed over 1 objects/147.9 MiB.                                    \n",
            "Cutouts download complete\n"
          ]
        }
      ]
    },
    {
      "cell_type": "code",
      "metadata": {
        "id": "SY4UcwVgX0i3"
      },
      "source": [
        "# Loading the data\n",
        "catalog = Table.read('catalog_small.fits')       # This is an astropy table\n",
        "cutouts = h5py.File('cutouts_small.hdf', 'r')    # This is a set of images"
      ],
      "execution_count": 64,
      "outputs": []
    },
    {
      "cell_type": "code",
      "metadata": {
        "colab": {
          "base_uri": "https://localhost:8080/",
          "height": 547
        },
        "id": "7xu2aqS2asAU",
        "outputId": "d539b0a8-bf04-4ac5-b647-0c66220d8460"
      },
      "source": [
        "# Let's have a look at the catalog\n",
        "catalog"
      ],
      "execution_count": 66,
      "outputs": [
        {
          "output_type": "execute_result",
          "data": {
            "text/html": [
              "<div><i>Table length=1000</i>\n",
              "<table id=\"table140128223918096\" class=\"table-striped table-bordered table-condensed\">\n",
              "<thead><tr><th>object_id</th><th>ra</th><th>dec</th><th>tract</th><th>patch</th><th>a_g</th><th>a_r</th><th>a_i</th><th>a_z</th><th>a_y</th><th>g_extendedness_value</th><th>r_extendedness_value</th><th>i_extendedness_value</th><th>z_extendedness_value</th><th>y_extendedness_value</th><th>g_localbackground_flux</th><th>r_localbackground_flux</th><th>i_localbackground_flux</th><th>z_localbackground_flux</th><th>y_localbackground_flux</th><th>g_cmodel_flux</th><th>g_cmodel_fluxsigma</th><th>g_cmodel_exp_flux</th><th>g_cmodel_exp_fluxsigma</th><th>g_cmodel_dev_flux</th><th>g_cmodel_dev_fluxsigma</th><th>r_cmodel_flux</th><th>r_cmodel_fluxsigma</th><th>r_cmodel_exp_flux</th><th>r_cmodel_exp_fluxsigma</th><th>r_cmodel_dev_flux</th><th>r_cmodel_dev_fluxsigma</th><th>i_cmodel_flux</th><th>i_cmodel_fluxsigma</th><th>i_cmodel_exp_flux</th><th>i_cmodel_exp_fluxsigma</th><th>i_cmodel_dev_flux</th><th>i_cmodel_dev_fluxsigma</th><th>z_cmodel_flux</th><th>z_cmodel_fluxsigma</th><th>z_cmodel_exp_flux</th><th>z_cmodel_exp_fluxsigma</th><th>z_cmodel_dev_flux</th><th>z_cmodel_dev_fluxsigma</th><th>y_cmodel_flux</th><th>y_cmodel_fluxsigma</th><th>y_cmodel_exp_flux</th><th>y_cmodel_exp_fluxsigma</th><th>y_cmodel_dev_flux</th><th>y_cmodel_dev_fluxsigma</th><th>g_cmodel_mag</th><th>g_cmodel_magsigma</th><th>g_cmodel_exp_mag</th><th>g_cmodel_exp_magsigma</th><th>g_cmodel_dev_mag</th><th>g_cmodel_dev_magsigma</th><th>r_cmodel_mag</th><th>r_cmodel_magsigma</th><th>r_cmodel_exp_mag</th><th>r_cmodel_exp_magsigma</th><th>r_cmodel_dev_mag</th><th>r_cmodel_dev_magsigma</th><th>i_cmodel_mag</th><th>i_cmodel_magsigma</th><th>i_cmodel_exp_mag</th><th>i_cmodel_exp_magsigma</th><th>i_cmodel_dev_mag</th><th>i_cmodel_dev_magsigma</th><th>z_cmodel_mag</th><th>z_cmodel_magsigma</th><th>z_cmodel_exp_mag</th><th>z_cmodel_exp_magsigma</th><th>z_cmodel_dev_mag</th><th>z_cmodel_dev_magsigma</th><th>y_cmodel_mag</th><th>y_cmodel_magsigma</th><th>y_cmodel_exp_mag</th><th>y_cmodel_exp_magsigma</th><th>y_cmodel_dev_mag</th><th>y_cmodel_dev_magsigma</th><th>g_sdssshape_shape11</th><th>g_sdssshape_shape12</th><th>g_sdssshape_shape22</th><th>g_sdssshape_psf_shape11</th><th>g_sdssshape_psf_shape12</th><th>g_sdssshape_psf_shape22</th><th>r_sdssshape_shape11</th><th>r_sdssshape_shape12</th><th>r_sdssshape_shape22</th><th>r_sdssshape_psf_shape11</th><th>r_sdssshape_psf_shape12</th><th>r_sdssshape_psf_shape22</th><th>i_sdssshape_shape11</th><th>i_sdssshape_shape12</th><th>i_sdssshape_shape22</th><th>i_sdssshape_psf_shape11</th><th>i_sdssshape_psf_shape12</th><th>i_sdssshape_psf_shape22</th><th>z_sdssshape_shape11</th><th>z_sdssshape_shape12</th><th>z_sdssshape_shape22</th><th>z_sdssshape_psf_shape11</th><th>z_sdssshape_psf_shape12</th><th>z_sdssshape_psf_shape22</th><th>y_sdssshape_shape11</th><th>y_sdssshape_shape12</th><th>y_sdssshape_shape22</th><th>y_sdssshape_psf_shape11</th><th>y_sdssshape_psf_shape12</th><th>y_sdssshape_psf_shape22</th><th>d_pos</th><th>d_mag</th><th>specz_ra</th><th>specz_dec</th><th>specz_redshift</th><th>specz_redshift_err</th><th>specz_mag_i</th></tr></thead>\n",
              "<thead><tr><th>int64</th><th>float64</th><th>float64</th><th>int32</th><th>int32</th><th>float32</th><th>float32</th><th>float32</th><th>float32</th><th>float32</th><th>float32</th><th>float32</th><th>float32</th><th>float32</th><th>float32</th><th>float32</th><th>float32</th><th>float32</th><th>float32</th><th>float32</th><th>float32</th><th>float32</th><th>float32</th><th>float32</th><th>float32</th><th>float32</th><th>float32</th><th>float32</th><th>float32</th><th>float32</th><th>float32</th><th>float32</th><th>float32</th><th>float32</th><th>float32</th><th>float32</th><th>float32</th><th>float32</th><th>float32</th><th>float32</th><th>float32</th><th>float32</th><th>float32</th><th>float32</th><th>float32</th><th>float32</th><th>float32</th><th>float32</th><th>float32</th><th>float32</th><th>float32</th><th>float32</th><th>float32</th><th>float32</th><th>float32</th><th>float32</th><th>float32</th><th>float32</th><th>float32</th><th>float32</th><th>float32</th><th>float32</th><th>float32</th><th>float32</th><th>float32</th><th>float32</th><th>float32</th><th>float32</th><th>float32</th><th>float32</th><th>float32</th><th>float32</th><th>float32</th><th>float32</th><th>float32</th><th>float32</th><th>float32</th><th>float32</th><th>float32</th><th>float32</th><th>float32</th><th>float32</th><th>float32</th><th>float32</th><th>float32</th><th>float32</th><th>float32</th><th>float32</th><th>float32</th><th>float32</th><th>float32</th><th>float32</th><th>float32</th><th>float32</th><th>float32</th><th>float32</th><th>float32</th><th>float32</th><th>float32</th><th>float32</th><th>float32</th><th>float32</th><th>float32</th><th>float32</th><th>float32</th><th>float32</th><th>float32</th><th>float32</th><th>float32</th><th>float32</th><th>float32</th><th>float32</th><th>float64</th><th>float64</th><th>float32</th><th>float32</th><th>float32</th></tr></thead>\n",
              "<tr><td>36411448540287158</td><td>30.562276872708594</td><td>-6.5731357255499</td><td>8279</td><td>5</td><td>0.08952414</td><td>0.06288795</td><td>0.045121275</td><td>0.034897838</td><td>0.029703228</td><td>1.0</td><td>1.0</td><td>1.0</td><td>1.0</td><td>1.0</td><td>1.0529741</td><td>3.6013403</td><td>6.4329</td><td>10.226084</td><td>8.08365</td><td>8260.022</td><td>49.13008</td><td>6022.789</td><td>35.85489</td><td>8492.892</td><td>50.51518</td><td>28894.781</td><td>83.49296</td><td>22014.06</td><td>63.56267</td><td>30210.605</td><td>87.36212</td><td>57798.676</td><td>92.01629</td><td>43836.74</td><td>69.697845</td><td>60111.51</td><td>95.77002</td><td>78503.34</td><td>187.22095</td><td>60088.613</td><td>143.3556</td><td>82336.15</td><td>196.48686</td><td>99908.89</td><td>388.1478</td><td>74742.33</td><td>290.95856</td><td>102255.445</td><td>397.29822</td><td>21.607548</td><td>0.0064578885</td><td>21.950506</td><td>0.0064636082</td><td>21.57736</td><td>0.0064578895</td><td>20.247952</td><td>0.0031372905</td><td>20.54325</td><td>0.0031349189</td><td>20.1996</td><td>0.003139699</td><td>19.495205</td><td>0.0017285069</td><td>19.795404</td><td>0.0017262569</td><td>19.452606</td><td>0.0017298013</td><td>19.16278</td><td>0.002589349</td><td>19.453018</td><td>0.0025902805</td><td>19.111023</td><td>0.0025909992</td><td>18.90099</td><td>0.004218104</td><td>19.216084</td><td>0.0042265775</td><td>18.875784</td><td>0.004218465</td><td>0.3077157</td><td>-0.021981485</td><td>0.22944404</td><td>0.09824987</td><td>-0.0036499354</td><td>0.09146403</td><td>0.31925806</td><td>-0.015762126</td><td>0.26133165</td><td>0.085869916</td><td>-0.00062206085</td><td>0.10081115</td><td>0.30167925</td><td>-0.0063204886</td><td>0.23890024</td><td>0.09074112</td><td>0.00864903</td><td>0.100251235</td><td>0.3062969</td><td>-0.016059553</td><td>0.23458216</td><td>0.09265127</td><td>-0.0011799624</td><td>0.091195606</td><td>0.36362976</td><td>-0.009683371</td><td>0.3035964</td><td>0.12051621</td><td>0.0003920253</td><td>0.123298965</td><td>0.04802698</td><td>0.019794464</td><td>30.562266</td><td>-6.573143</td><td>0.46069</td><td>5e-05</td><td>19.515</td></tr>\n",
              "<tr><td>36411448540288304</td><td>30.57566834388161</td><td>-6.537403525351341</td><td>8279</td><td>5</td><td>0.08732592</td><td>0.061343767</td><td>0.044013344</td><td>0.03404094</td><td>0.02897388</td><td>1.0</td><td>1.0</td><td>1.0</td><td>1.0</td><td>1.0</td><td>8.514095</td><td>24.486967</td><td>38.356087</td><td>53.1479</td><td>46.699886</td><td>36321.31</td><td>91.886894</td><td>20858.592</td><td>53.36095</td><td>36515.293</td><td>92.37764</td><td>139700.3</td><td>163.37712</td><td>80337.54</td><td>94.28633</td><td>139589.95</td><td>163.2481</td><td>243581.77</td><td>239.82611</td><td>140330.95</td><td>138.93205</td><td>243787.08</td><td>240.02821</td><td>322355.53</td><td>413.9714</td><td>185973.11</td><td>242.58257</td><td>322172.53</td><td>413.73642</td><td>381664.78</td><td>809.6219</td><td>219287.97</td><td>474.5255</td><td>381470.9</td><td>809.2107</td><td>19.999596</td><td>0.0027467327</td><td>20.601788</td><td>0.0027775562</td><td>19.993813</td><td>0.0027467324</td><td>18.537006</td><td>0.00126975</td><td>19.137703</td><td>0.0012742496</td><td>18.537865</td><td>0.0012697501</td><td>17.933388</td><td>0.0010689958</td><td>18.532116</td><td>0.0010749128</td><td>17.932472</td><td>0.0010689957</td><td>17.629162</td><td>0.0013943106</td><td>18.226374</td><td>0.0014162299</td><td>17.629778</td><td>0.0013943106</td><td>17.445793</td><td>0.0023031617</td><td>18.047462</td><td>0.0023494654</td><td>17.446346</td><td>0.002303162</td><td>2.3582275</td><td>-0.532063</td><td>1.1748618</td><td>0.10584949</td><td>0.0022044652</td><td>0.09572679</td><td>0.7406807</td><td>-0.13122416</td><td>0.5122776</td><td>0.086967796</td><td>0.00057927525</td><td>0.096911244</td><td>0.62553775</td><td>-0.09903758</td><td>0.46123257</td><td>0.101703644</td><td>0.005054514</td><td>0.11041096</td><td>0.47682178</td><td>-0.087198906</td><td>0.35516375</td><td>0.07607674</td><td>-0.0009763131</td><td>0.08708745</td><td>0.6925324</td><td>-0.12183344</td><td>0.4906841</td><td>0.11151526</td><td>0.0014249029</td><td>0.11310722</td><td>0.062274765</td><td>-0.03138733</td><td>30.575676</td><td>-6.537419</td><td>0.30997</td><td>6e-05</td><td>17.902</td></tr>\n",
              "<tr><td>36411448540291562</td><td>30.549421220144136</td><td>-6.4624556086130145</td><td>8279</td><td>5</td><td>0.08478269</td><td>0.059557226</td><td>0.042731524</td><td>0.03304955</td><td>0.02813006</td><td>1.0</td><td>1.0</td><td>1.0</td><td>1.0</td><td>1.0</td><td>2.2070599</td><td>6.8124595</td><td>11.470386</td><td>19.008991</td><td>28.258575</td><td>12412.266</td><td>86.57321</td><td>7116.437</td><td>50.140312</td><td>12409.748</td><td>86.55564</td><td>54462.57</td><td>146.41312</td><td>31430.225</td><td>84.66295</td><td>54412.36</td><td>146.27812</td><td>100332.23</td><td>141.82542</td><td>63258.836</td><td>88.9867</td><td>108912.39</td><td>154.41974</td><td>148284.05</td><td>300.03452</td><td>92435.875</td><td>187.43434</td><td>158745.17</td><td>321.66583</td><td>183962.14</td><td>615.2433</td><td>112224.9</td><td>377.2152</td><td>193885.36</td><td>648.6834</td><td>21.16537</td><td>0.0075728046</td><td>21.769344</td><td>0.007649776</td><td>21.165592</td><td>0.007572804</td><td>19.559753</td><td>0.0029188122</td><td>20.156631</td><td>0.002924625</td><td>19.560755</td><td>0.002918812</td><td>18.896399</td><td>0.001534751</td><td>19.397198</td><td>0.0015273136</td><td>18.807306</td><td>0.0015393941</td><td>18.472263</td><td>0.0021968535</td><td>18.9854</td><td>0.0022015723</td><td>18.398247</td><td>0.0022000307</td><td>18.238178</td><td>0.0036311378</td><td>18.774776</td><td>0.0036494236</td><td>18.181137</td><td>0.003632554</td><td>1.2480034</td><td>-0.02839997</td><td>0.45760953</td><td>0.098516606</td><td>-0.0047517032</td><td>0.09568097</td><td>0.9796141</td><td>-0.021662785</td><td>0.42855677</td><td>0.08964669</td><td>-0.0012039274</td><td>0.10315097</td><td>1.0188422</td><td>-0.016388766</td><td>0.358476</td><td>0.0919362</td><td>0.008655736</td><td>0.09977108</td><td>1.041478</td><td>-0.047172744</td><td>0.3106837</td><td>0.081895106</td><td>-0.0037952946</td><td>0.07645044</td><td>1.3922195</td><td>-0.041403517</td><td>0.4842796</td><td>0.1081265</td><td>-0.00026323687</td><td>0.108910725</td><td>0.0968008</td><td>-0.44939804</td><td>30.549427</td><td>-6.462482</td><td>0.43114</td><td>0.00011</td><td>18.447</td></tr>\n",
              "<tr><td>36411452835255019</td><td>30.547026411690943</td><td>-6.348966565304708</td><td>8279</td><td>6</td><td>0.08676626</td><td>0.06095062</td><td>0.043731265</td><td>0.033822775</td><td>0.028788188</td><td>1.0</td><td>1.0</td><td>1.0</td><td>1.0</td><td>1.0</td><td>1.4093444</td><td>6.2465854</td><td>12.398548</td><td>25.676558</td><td>19.821217</td><td>7464.0796</td><td>42.78173</td><td>5165.8286</td><td>29.757978</td><td>7462.1543</td><td>42.770695</td><td>36183.39</td><td>80.16678</td><td>25048.281</td><td>55.580013</td><td>36169.875</td><td>80.13683</td><td>83475.61</td><td>86.483444</td><td>57865.62</td><td>59.986805</td><td>83428.85</td><td>86.435</td><td>123994.01</td><td>185.16388</td><td>86041.87</td><td>128.67714</td><td>123923.0</td><td>185.05786</td><td>146001.64</td><td>333.5358</td><td>101364.49</td><td>232.62941</td><td>145957.27</td><td>333.4345</td><td>21.71756</td><td>0.006223094</td><td>22.11715</td><td>0.00625443</td><td>21.717838</td><td>0.006223094</td><td>20.003727</td><td>0.0024055229</td><td>20.403055</td><td>0.0024091564</td><td>20.004131</td><td>0.0024055229</td><td>19.0961</td><td>0.0011248579</td><td>19.493948</td><td>0.001125536</td><td>19.09671</td><td>0.0011248579</td><td>18.666498</td><td>0.0016213616</td><td>19.063225</td><td>0.0016237377</td><td>18.66712</td><td>0.0016213617</td><td>18.489105</td><td>0.0024803274</td><td>18.885284</td><td>0.002491742</td><td>18.489435</td><td>0.002480328</td><td>0.3679501</td><td>0.012571205</td><td>0.3907874</td><td>0.102801286</td><td>0.0016189571</td><td>0.09138428</td><td>0.29651216</td><td>-0.0014420793</td><td>0.334267</td><td>0.08696972</td><td>-0.0009572935</td><td>0.096492276</td><td>0.27760282</td><td>0.010430966</td><td>0.3184495</td><td>0.092939064</td><td>0.007417601</td><td>0.100635946</td><td>0.24278706</td><td>-0.008435879</td><td>0.2705335</td><td>0.07838803</td><td>-0.006211769</td><td>0.07533972</td><td>0.3453665</td><td>0.0040056</td><td>0.38404065</td><td>0.110440366</td><td>-0.00035288223</td><td>0.11088229</td><td>0.078707434</td><td>-0.4321003</td><td>30.547013</td><td>-6.348984</td><td>0.48198</td><td>0.00012</td><td>18.664</td></tr>\n",
              "<tr><td>36411452835257744</td><td>30.54910651440308</td><td>-6.294044949542694</td><td>8279</td><td>6</td><td>0.09099381</td><td>0.06392034</td><td>0.045862004</td><td>0.035470735</td><td>0.030190848</td><td>1.0</td><td>1.0</td><td>1.0</td><td>1.0</td><td>1.0</td><td>1.9691514</td><td>9.047566</td><td>14.33928</td><td>30.922049</td><td>21.917511</td><td>23005.455</td><td>49.283657</td><td>16361.22</td><td>35.04674</td><td>23001.098</td><td>49.274326</td><td>94446.86</td><td>87.06873</td><td>67497.33</td><td>62.05821</td><td>94388.76</td><td>87.01517</td><td>165633.77</td><td>95.80806</td><td>118385.305</td><td>68.2462</td><td>165528.62</td><td>95.74723</td><td>219634.78</td><td>196.26031</td><td>156882.12</td><td>139.73557</td><td>219567.4</td><td>196.20009</td><td>262041.67</td><td>361.88232</td><td>187609.27</td><td>259.98853</td><td>261903.38</td><td>361.69138</td><td>20.495422</td><td>0.0023259288</td><td>20.86546</td><td>0.0023257139</td><td>20.495628</td><td>0.002325929</td><td>18.962032</td><td>0.0010009191</td><td>19.326782</td><td>0.0009982445</td><td>18.9627</td><td>0.0010009191</td><td>18.352127</td><td>0.0006280258</td><td>18.716755</td><td>0.00062590005</td><td>18.352818</td><td>0.0006280257</td><td>18.045746</td><td>0.00097018754</td><td>18.411066</td><td>0.0009670697</td><td>18.04608</td><td>0.0009701874</td><td>17.854074</td><td>0.0014994132</td><td>18.216864</td><td>0.0015046109</td><td>17.854649</td><td>0.0014994133</td><td>0.40150806</td><td>-0.06951657</td><td>0.32608202</td><td>0.11229592</td><td>0.0018804279</td><td>0.10305642</td><td>0.3345085</td><td>-0.06011648</td><td>0.2876096</td><td>0.089496486</td><td>0.00017350537</td><td>0.097704805</td><td>0.30642024</td><td>-0.044212624</td><td>0.26579192</td><td>0.09344763</td><td>0.0074843215</td><td>0.098447695</td><td>0.27783126</td><td>-0.04886039</td><td>0.2362085</td><td>0.0795122</td><td>-0.0018727912</td><td>0.0841788</td><td>0.40123433</td><td>-0.07070753</td><td>0.34003288</td><td>0.12051326</td><td>-0.0011497188</td><td>0.11841888</td><td>0.123171896</td><td>0.030872345</td><td>30.549083</td><td>-6.29407</td><td>0.33333</td><td>6e-05</td><td>18.383</td></tr>\n",
              "<tr><td>36411452835259516</td><td>30.613773931711872</td><td>-6.251748523679239</td><td>8279</td><td>6</td><td>0.09336402</td><td>0.065585345</td><td>0.04705662</td><td>0.036394678</td><td>0.03097726</td><td>1.0</td><td>1.0</td><td>1.0</td><td>1.0</td><td>1.0</td><td>5.3033133</td><td>20.13258</td><td>27.74347</td><td>57.801907</td><td>42.195595</td><td>49714.83</td><td>72.16855</td><td>32966.418</td><td>47.84506</td><td>49700.613</td><td>72.1479</td><td>171259.38</td><td>109.163765</td><td>113741.63</td><td>72.19787</td><td>171067.5</td><td>109.04149</td><td>272788.56</td><td>115.49201</td><td>181413.5</td><td>76.38814</td><td>272232.7</td><td>115.25666</td><td>364462.94</td><td>208.1785</td><td>242424.8</td><td>137.98509</td><td>363846.0</td><td>207.8261</td><td>450504.22</td><td>416.79276</td><td>299853.34</td><td>279.02155</td><td>450063.3</td><td>416.38483</td><td>19.658785</td><td>0.0015761093</td><td>20.10482</td><td>0.0015757584</td><td>19.659096</td><td>0.0015761091</td><td>18.315865</td><td>0.00069206755</td><td>18.7602</td><td>0.0006891745</td><td>18.317081</td><td>0.00069206767</td><td>17.810434</td><td>0.00045967416</td><td>18.253325</td><td>0.00045717304</td><td>17.812649</td><td>0.00045967413</td><td>17.495867</td><td>0.0006201643</td><td>17.938557</td><td>0.0006179871</td><td>17.497705</td><td>0.0006201643</td><td>17.265753</td><td>0.00100449</td><td>17.707727</td><td>0.0010103065</td><td>17.266815</td><td>0.00100449</td><td>0.5568177</td><td>0.08128475</td><td>0.34791952</td><td>0.11575906</td><td>-0.0026655258</td><td>0.11420793</td><td>0.4621303</td><td>0.07264128</td><td>0.29687262</td><td>0.08902609</td><td>-0.00010234616</td><td>0.095123395</td><td>0.417555</td><td>0.07458047</td><td>0.27228302</td><td>0.09006846</td><td>0.007652214</td><td>0.09381842</td><td>0.3557141</td><td>0.050331634</td><td>0.22243047</td><td>0.07359612</td><td>-0.002549605</td><td>0.07158891</td><td>0.54626054</td><td>0.080663495</td><td>0.34500876</td><td>0.113991484</td><td>-0.00016675984</td><td>0.11318713</td><td>0.04172349</td><td>-0.08843422</td><td>30.613769</td><td>-6.251759</td><td>0.24553</td><td>4e-05</td><td>17.722</td></tr>\n",
              "<tr><td>36411457130207348</td><td>30.577532296525625</td><td>-6.073606902674183</td><td>8279</td><td>7</td><td>0.09508207</td><td>0.06679222</td><td>0.047922537</td><td>0.0370644</td><td>0.031547293</td><td>1.0</td><td>1.0</td><td>1.0</td><td>1.0</td><td>1.0</td><td>-0.21478936</td><td>-0.037566517</td><td>0.25079644</td><td>0.32477605</td><td>-0.35610664</td><td>18516.592</td><td>30.757809</td><td>18523.38</td><td>30.769085</td><td>18643.55</td><td>30.921965</td><td>24141.527</td><td>40.640106</td><td>24154.627</td><td>40.66215</td><td>24295.496</td><td>40.858177</td><td>21353.65</td><td>40.73803</td><td>21220.238</td><td>40.510864</td><td>21356.969</td><td>40.742085</td><td>21512.838</td><td>64.06041</td><td>21320.68</td><td>63.532024</td><td>21483.88</td><td>63.97418</td><td>26656.115</td><td>163.2683</td><td>26499.152</td><td>162.37476</td><td>26637.963</td><td>163.1571</td><td>20.731098</td><td>0.0018035104</td><td>20.7307</td><td>0.0018035104</td><td>20.723679</td><td>0.0018007887</td><td>20.443089</td><td>0.0018277399</td><td>20.4425</td><td>0.0018277396</td><td>20.436186</td><td>0.0018259023</td><td>20.57632</td><td>0.0020713438</td><td>20.583124</td><td>0.0020727434</td><td>20.576149</td><td>0.002071228</td><td>20.568254</td><td>0.0032330789</td><td>20.577997</td><td>0.0032353103</td><td>20.569717</td><td>0.0032330786</td><td>20.335506</td><td>0.006650117</td><td>20.341919</td><td>0.006652897</td><td>20.336246</td><td>0.006650117</td><td>0.10156713</td><td>-0.004326379</td><td>0.105355464</td><td>0.09938845</td><td>-0.0052792244</td><td>0.10428927</td><td>0.09671776</td><td>-0.0027046758</td><td>0.10484869</td><td>0.0975329</td><td>-0.0031036441</td><td>0.102803014</td><td>0.100920185</td><td>0.006024233</td><td>0.10243004</td><td>0.09245531</td><td>0.0046045315</td><td>0.09570622</td><td>0.07550337</td><td>-0.0003603792</td><td>0.074663</td><td>0.06672559</td><td>-0.0028228292</td><td>0.0652906</td><td>0.13865438</td><td>0.0056546526</td><td>0.1450542</td><td>0.11487335</td><td>-8.942191e-05</td><td>0.1184758</td><td>0.14675726</td><td>-0.28132057</td><td>30.577547</td><td>-6.073645</td><td>1.10618</td><td>0.00083</td><td>20.295</td></tr>\n",
              "<tr><td>36411457130221504</td><td>30.608273624326912</td><td>-6.198991670525249</td><td>8279</td><td>7</td><td>0.09473632</td><td>0.066549346</td><td>0.04774828</td><td>0.036929622</td><td>0.031432576</td><td>1.0</td><td>1.0</td><td>1.0</td><td>1.0</td><td>1.0</td><td>0.34062982</td><td>0.562956</td><td>1.0644155</td><td>1.6518239</td><td>1.7545176</td><td>18684.408</td><td>33.82436</td><td>18698.729</td><td>33.85029</td><td>19067.191</td><td>34.478954</td><td>17586.797</td><td>34.705414</td><td>17323.88</td><td>34.201675</td><td>17688.098</td><td>34.9005</td><td>25734.877</td><td>40.842396</td><td>25156.873</td><td>39.9563</td><td>25724.398</td><td>40.825768</td><td>26840.83</td><td>84.88491</td><td>26205.047</td><td>82.920555</td><td>26831.834</td><td>84.85646</td><td>41461.02</td><td>232.7157</td><td>40787.51</td><td>229.02707</td><td>41397.49</td><td>232.35912</td><td>20.721302</td><td>0.0019655067</td><td>20.72047</td><td>0.001965507</td><td>20.699284</td><td>0.0019633225</td><td>20.787033</td><td>0.0021425688</td><td>20.803387</td><td>0.0021435148</td><td>20.780796</td><td>0.0021422731</td><td>20.373695</td><td>0.0017231116</td><td>20.398357</td><td>0.001724459</td><td>20.374138</td><td>0.0017231116</td><td>20.32801</td><td>0.0034336725</td><td>20.354038</td><td>0.003435592</td><td>20.328373</td><td>0.0034336725</td><td>19.8559</td><td>0.006094106</td><td>19.873682</td><td>0.0060965465</td><td>19.857565</td><td>0.006094106</td><td>0.12392359</td><td>-0.0043910006</td><td>0.12541617</td><td>0.12325364</td><td>-0.002455178</td><td>0.12199674</td><td>0.102229826</td><td>-0.002119746</td><td>0.11358369</td><td>0.09067397</td><td>0.00048224864</td><td>0.09565765</td><td>0.103914306</td><td>0.0033585257</td><td>0.11782756</td><td>0.0876449</td><td>0.0059753372</td><td>0.0892601</td><td>0.09547428</td><td>-0.0069468385</td><td>0.1059119</td><td>0.074362926</td><td>-0.00077952276</td><td>0.0733411</td><td>0.15170819</td><td>-0.013372635</td><td>0.15129541</td><td>0.12104235</td><td>-0.0016971247</td><td>0.116797</td><td>0.05668464</td><td>-0.70669556</td><td>30.60828</td><td>-6.199006</td><td>0.56081</td><td>9e-05</td><td>19.667</td></tr>\n",
              "<tr><td>36411457130224053</td><td>30.609273127461343</td><td>-6.142582470917563</td><td>8279</td><td>7</td><td>0.09434543</td><td>0.066274755</td><td>0.04755126</td><td>0.036777247</td><td>0.03130288</td><td>1.0</td><td>1.0</td><td>1.0</td><td>1.0</td><td>1.0</td><td>1.9288884</td><td>6.2351174</td><td>8.800276</td><td>16.273508</td><td>11.657068</td><td>16877.406</td><td>47.67463</td><td>12878.733</td><td>36.405407</td><td>19801.695</td><td>56.0405</td><td>55509.59</td><td>80.18906</td><td>39979.38</td><td>57.724163</td><td>61424.7</td><td>88.9138</td><td>112129.8</td><td>100.28193</td><td>74547.26</td><td>66.57447</td><td>114965.375</td><td>102.88117</td><td>159923.56</td><td>213.42754</td><td>103835.19</td><td>138.5004</td><td>159753.55</td><td>213.20064</td><td>190771.56</td><td>425.00793</td><td>123386.4</td><td>276.67447</td><td>190628.23</td><td>424.68857</td><td>20.831734</td><td>0.0030669447</td><td>21.125317</td><td>0.0030691423</td><td>20.658243</td><td>0.0030727268</td><td>19.53908</td><td>0.0015684525</td><td>19.895409</td><td>0.0015676384</td><td>19.429142</td><td>0.0015716305</td><td>18.775696</td><td>0.00097101496</td><td>19.21892</td><td>0.0009696173</td><td>18.748583</td><td>0.0009716126</td><td>18.390219</td><td>0.0014489796</td><td>18.859138</td><td>0.0014482074</td><td>18.391373</td><td>0.0014489796</td><td>18.198715</td><td>0.002418843</td><td>18.671833</td><td>0.0024345913</td><td>18.199532</td><td>0.0024188429</td><td>1.0717093</td><td>-0.4530285</td><td>0.5553323</td><td>0.11387478</td><td>-0.004197591</td><td>0.11128323</td><td>0.90580964</td><td>-0.37682173</td><td>0.48193547</td><td>0.09159644</td><td>-0.00048661462</td><td>0.096725576</td><td>0.65877247</td><td>-0.24767919</td><td>0.3572412</td><td>0.09003594</td><td>0.0045927996</td><td>0.09083764</td><td>0.49811456</td><td>-0.18864551</td><td>0.26228413</td><td>0.07086582</td><td>-0.0027318741</td><td>0.06812561</td><td>0.66910887</td><td>-0.23730887</td><td>0.39974964</td><td>0.11314938</td><td>-0.0005455485</td><td>0.11509628</td><td>0.07314687</td><td>0.09330177</td><td>30.609286</td><td>-6.142598</td><td>0.24658</td><td>4e-05</td><td>18.869</td></tr>\n",
              "<tr><td>36411581684277685</td><td>30.485452948954237</td><td>-6.610974868101204</td><td>8279</td><td>104</td><td>0.09157199</td><td>0.064326495</td><td>0.04615341</td><td>0.035696115</td><td>0.030382682</td><td>1.0</td><td>1.0</td><td>1.0</td><td>1.0</td><td>1.0</td><td>0.7052571</td><td>2.3961945</td><td>3.057805</td><td>5.605041</td><td>4.683339</td><td>6849.415</td><td>50.63152</td><td>4422.356</td><td>32.837814</td><td>6962.2354</td><td>51.467834</td><td>26842.924</td><td>90.456055</td><td>18161.86</td><td>61.274754</td><td>28493.766</td><td>96.08812</td><td>58702.41</td><td>119.08863</td><td>41398.85</td><td>84.04124</td><td>64945.418</td><td>131.9016</td><td>85087.43</td><td>238.72108</td><td>58795.492</td><td>165.05345</td><td>92121.8</td><td>258.80832</td><td>104473.25</td><td>606.22797</td><td>70212.8</td><td>410.0058</td><td>110143.984</td><td>638.98126</td><td>21.810865</td><td>0.008025864</td><td>22.285866</td><td>0.008062039</td><td>21.793129</td><td>0.008026228</td><td>20.327927</td><td>0.0036587447</td><td>20.752098</td><td>0.0036630728</td><td>20.263124</td><td>0.0036613743</td><td>19.47836</td><td>0.0022026154</td><td>19.857529</td><td>0.0022040855</td><td>19.368628</td><td>0.0022050876</td><td>19.075336</td><td>0.0030461387</td><td>19.476639</td><td>0.0030479294</td><td>18.989094</td><td>0.003050283</td><td>18.852486</td><td>0.0063002123</td><td>19.283958</td><td>0.006340128</td><td>18.795097</td><td>0.0062987106</td><td>0.45524836</td><td>-0.09120454</td><td>0.583564</td><td>0.10049152</td><td>0.0027885742</td><td>0.09149708</td><td>0.3490719</td><td>-0.049499266</td><td>0.48154902</td><td>0.088833965</td><td>0.00035753995</td><td>0.09449429</td><td>0.34859815</td><td>-0.03448405</td><td>0.4619169</td><td>0.1054387</td><td>0.0060207173</td><td>0.10979008</td><td>0.26364142</td><td>-0.029998621</td><td>0.36453366</td><td>0.075188</td><td>-0.00027723965</td><td>0.081513524</td><td>0.3120532</td><td>-0.051087618</td><td>0.4157325</td><td>0.09736081</td><td>-0.0011820829</td><td>0.09864599</td><td>0.11022611</td><td>0.045640945</td><td>30.485437</td><td>-6.611001</td><td>0.62911</td><td>0.00018</td><td>19.524</td></tr>\n",
              "<tr><td>...</td><td>...</td><td>...</td><td>...</td><td>...</td><td>...</td><td>...</td><td>...</td><td>...</td><td>...</td><td>...</td><td>...</td><td>...</td><td>...</td><td>...</td><td>...</td><td>...</td><td>...</td><td>...</td><td>...</td><td>...</td><td>...</td><td>...</td><td>...</td><td>...</td><td>...</td><td>...</td><td>...</td><td>...</td><td>...</td><td>...</td><td>...</td><td>...</td><td>...</td><td>...</td><td>...</td><td>...</td><td>...</td><td>...</td><td>...</td><td>...</td><td>...</td><td>...</td><td>...</td><td>...</td><td>...</td><td>...</td><td>...</td><td>...</td><td>...</td><td>...</td><td>...</td><td>...</td><td>...</td><td>...</td><td>...</td><td>...</td><td>...</td><td>...</td><td>...</td><td>...</td><td>...</td><td>...</td><td>...</td><td>...</td><td>...</td><td>...</td><td>...</td><td>...</td><td>...</td><td>...</td><td>...</td><td>...</td><td>...</td><td>...</td><td>...</td><td>...</td><td>...</td><td>...</td><td>...</td><td>...</td><td>...</td><td>...</td><td>...</td><td>...</td><td>...</td><td>...</td><td>...</td><td>...</td><td>...</td><td>...</td><td>...</td><td>...</td><td>...</td><td>...</td><td>...</td><td>...</td><td>...</td><td>...</td><td>...</td><td>...</td><td>...</td><td>...</td><td>...</td><td>...</td><td>...</td><td>...</td><td>...</td><td>...</td><td>...</td><td>...</td><td>...</td><td>...</td><td>...</td><td>...</td><td>...</td><td>...</td></tr>\n",
              "<tr><td>37471506598490799</td><td>30.279544787544737</td><td>-5.334343595214319</td><td>8520</td><td>103</td><td>0.09548544</td><td>0.06707558</td><td>0.048125844</td><td>0.03722164</td><td>0.031681128</td><td>1.0</td><td>1.0</td><td>1.0</td><td>1.0</td><td>1.0</td><td>42.41755</td><td>113.54245</td><td>139.88184</td><td>269.53775</td><td>216.09477</td><td>183877.48</td><td>122.16917</td><td>97748.99</td><td>64.444954</td><td>183778.78</td><td>122.103615</td><td>546799.5</td><td>213.43063</td><td>292423.6</td><td>112.66289</td><td>546458.6</td><td>213.29762</td><td>877673.5</td><td>205.74286</td><td>469565.72</td><td>110.01227</td><td>877103.7</td><td>205.60928</td><td>1198541.4</td><td>376.824</td><td>644892.6</td><td>202.58907</td><td>1198049.9</td><td>376.66943</td><td>1376956.1</td><td>652.8443</td><td>736692.2</td><td>355.29846</td><td>1382954.9</td><td>655.68854</td><td>18.238678</td><td>0.00072136876</td><td>18.924719</td><td>0.00071581523</td><td>18.239262</td><td>0.000721369</td><td>17.05543</td><td>0.00042379217</td><td>17.734968</td><td>0.00041830473</td><td>17.056107</td><td>0.00042379228</td><td>16.541668</td><td>0.00025451658</td><td>17.22076</td><td>0.00025437184</td><td>16.542374</td><td>0.00025451658</td><td>16.203367</td><td>0.00034135778</td><td>16.876282</td><td>0.00034107736</td><td>16.203812</td><td>0.00034135775</td><td>16.0527</td><td>0.0005147707</td><td>16.731785</td><td>0.0005236385</td><td>16.04798</td><td>0.00051477074</td><td>0.47611946</td><td>0.01821907</td><td>0.4921511</td><td>0.08213308</td><td>0.0032136266</td><td>0.08426102</td><td>0.45268384</td><td>0.017001968</td><td>0.48118612</td><td>0.0720597</td><td>0.001595855</td><td>0.08276566</td><td>0.56769586</td><td>0.01938966</td><td>0.58878285</td><td>0.101452194</td><td>0.00047505685</td><td>0.10342175</td><td>0.38833186</td><td>0.0054441052</td><td>0.389593</td><td>0.06541026</td><td>-0.0032891347</td><td>0.06151327</td><td>0.6005201</td><td>0.02721788</td><td>0.63406575</td><td>0.0982477</td><td>0.0040565366</td><td>0.10288038</td><td>0.08238286</td><td>-0.004667282</td><td>30.279541</td><td>-5.334366</td><td>0.18865</td><td>3e-05</td><td>16.537</td></tr>\n",
              "<tr><td>37471506598490802</td><td>30.282677304722867</td><td>-5.33579192671216</td><td>8520</td><td>103</td><td>0.09554174</td><td>0.06711512</td><td>0.048154216</td><td>0.037243586</td><td>0.031699806</td><td>1.0</td><td>1.0</td><td>1.0</td><td>1.0</td><td>1.0</td><td>0.3635937</td><td>0.9686977</td><td>1.169897</td><td>3.0173445</td><td>3.2673488</td><td>1306.9646</td><td>28.641544</td><td>1307.3672</td><td>28.65037</td><td>2185.096</td><td>49.243706</td><td>3463.883</td><td>47.82868</td><td>3469.344</td><td>47.904083</td><td>5872.9517</td><td>82.20152</td><td>9814.373</td><td>59.9367</td><td>9825.612</td><td>60.005337</td><td>16700.963</td><td>103.38612</td><td>15667.001</td><td>112.8221</td><td>15681.746</td><td>112.92827</td><td>26595.432</td><td>193.78479</td><td>20946.531</td><td>272.85965</td><td>20342.73</td><td>264.9932</td><td>34964.01</td><td>458.70572</td><td>23.60934</td><td>0.023793422</td><td>23.609005</td><td>0.023793424</td><td>23.051323</td><td>0.02446834</td><td>22.551092</td><td>0.01499165</td><td>22.549381</td><td>0.014991651</td><td>21.97786</td><td>0.015196646</td><td>21.420343</td><td>0.0066306265</td><td>21.419102</td><td>0.0066306265</td><td>20.843145</td><td>0.0067211725</td><td>20.912535</td><td>0.007818664</td><td>20.911514</td><td>0.007818664</td><td>20.337982</td><td>0.007911101</td><td>20.59722</td><td>0.0141433235</td><td>20.628977</td><td>0.014143269</td><td>20.040947</td><td>0.014244172</td><td>0.24213552</td><td>-0.08605611</td><td>0.24794482</td><td>0.08214677</td><td>0.0032193556</td><td>0.08428041</td><td>0.23369151</td><td>-0.06300609</td><td>0.2201822</td><td>0.07208452</td><td>0.0016329254</td><td>0.08286546</td><td>0.23509805</td><td>-0.057705194</td><td>0.20620048</td><td>0.10384022</td><td>0.000989416</td><td>0.10612222</td><td>0.5434532</td><td>-0.21550632</td><td>0.3397994</td><td>0.071879506</td><td>-0.0041615814</td><td>0.06591158</td><td>0.5587712</td><td>-0.18183623</td><td>0.3714254</td><td>0.10132375</td><td>0.00414952</td><td>0.10680472</td><td>0.06078758</td><td>-0.011343002</td><td>30.2826607</td><td>-5.335789</td><td>0.7746</td><td>0.00089</td><td>21.409</td></tr>\n",
              "<tr><td>37471506598491243</td><td>30.319605976865482</td><td>-5.322888928230588</td><td>8520</td><td>103</td><td>0.09365556</td><td>0.06579014</td><td>0.047203556</td><td>0.036508325</td><td>0.03107399</td><td>1.0</td><td>1.0</td><td>1.0</td><td>1.0</td><td>1.0</td><td>-0.1357757</td><td>0.10039644</td><td>0.041976474</td><td>0.18644166</td><td>-1.3546075</td><td>2200.8022</td><td>15.95029</td><td>2141.5566</td><td>15.508762</td><td>2199.8923</td><td>15.943696</td><td>3045.3467</td><td>27.157768</td><td>2966.88</td><td>26.458258</td><td>3043.3352</td><td>27.139832</td><td>4515.8843</td><td>30.894438</td><td>4496.292</td><td>30.759502</td><td>4614.8984</td><td>31.583378</td><td>6066.117</td><td>48.01421</td><td>5981.2983</td><td>47.343475</td><td>6122.6333</td><td>48.48058</td><td>5345.196</td><td>122.972176</td><td>5216.8975</td><td>120.036095</td><td>5392.0166</td><td>124.051476</td><td>23.043547</td><td>0.007868861</td><td>23.073175</td><td>0.007862703</td><td>23.043995</td><td>0.007868861</td><td>22.690907</td><td>0.0096823685</td><td>22.71925</td><td>0.009682457</td><td>22.691626</td><td>0.00968237</td><td>22.263142</td><td>0.007427827</td><td>22.267864</td><td>0.00742761</td><td>22.239594</td><td>0.007430546</td><td>21.942722</td><td>0.00859376</td><td>21.958012</td><td>0.008593874</td><td>21.932655</td><td>0.008597137</td><td>22.08009</td><td>0.024978569</td><td>22.106468</td><td>0.024981806</td><td>22.070621</td><td>0.024978997</td><td>0.108508155</td><td>0.0029034964</td><td>0.099036336</td><td>0.08274409</td><td>0.0033043167</td><td>0.08406635</td><td>0.11781568</td><td>0.0035115916</td><td>0.09846749</td><td>0.07255215</td><td>0.0017660622</td><td>0.082331605</td><td>0.15607153</td><td>0.0056922706</td><td>0.12559712</td><td>0.102073416</td><td>0.00055147515</td><td>0.103661485</td><td>0.11282588</td><td>0.00010378002</td><td>0.077941164</td><td>0.06696301</td><td>-0.0030393025</td><td>0.06085335</td><td>0.13990483</td><td>0.007799318</td><td>0.116629556</td><td>0.099187344</td><td>0.0036990338</td><td>0.102987505</td><td>0.12430586</td><td>-0.08214378</td><td>30.3195738</td><td>-5.322876</td><td>0.8138</td><td>0.00091</td><td>22.181</td></tr>\n",
              "<tr><td>37471506598491450</td><td>30.32147037091635</td><td>-5.319469788013497</td><td>8520</td><td>103</td><td>0.093394995</td><td>0.0656071</td><td>0.04707223</td><td>0.036406755</td><td>0.030987538</td><td>1.0</td><td>1.0</td><td>1.0</td><td>1.0</td><td>1.0</td><td>0.32556602</td><td>0.6543749</td><td>0.291686</td><td>0.7668158</td><td>-0.82228255</td><td>3119.8137</td><td>28.616922</td><td>3121.9944</td><td>28.636915</td><td>5202.866</td><td>48.716393</td><td>5441.6865</td><td>49.77505</td><td>5447.4717</td><td>49.827972</td><td>9096.125</td><td>84.6672</td><td>8712.481</td><td>56.939026</td><td>8720.528</td><td>56.99162</td><td>14708.483</td><td>97.473526</td><td>8808.252</td><td>105.40883</td><td>8814.334</td><td>105.481606</td><td>14641.291</td><td>177.98584</td><td>9283.089</td><td>231.56093</td><td>9291.753</td><td>231.77707</td><td>15665.296</td><td>397.22946</td><td>22.664677</td><td>0.009959064</td><td>22.66392</td><td>0.009959062</td><td>22.109394</td><td>0.010166155</td><td>22.060665</td><td>0.009931218</td><td>22.059513</td><td>0.009931218</td><td>21.50286</td><td>0.010106088</td><td>21.549644</td><td>0.0070956545</td><td>21.548643</td><td>0.007095655</td><td>20.98108</td><td>0.007195203</td><td>21.537775</td><td>0.012993064</td><td>21.537025</td><td>0.012993063</td><td>20.986052</td><td>0.0131986765</td><td>21.480768</td><td>0.027083019</td><td>21.479755</td><td>0.02708302</td><td>20.912653</td><td>0.027531328</td><td>0.50282097</td><td>-0.005876227</td><td>0.4905409</td><td>0.08280573</td><td>0.003296245</td><td>0.08397751</td><td>0.5199077</td><td>-0.00944585</td><td>0.4904461</td><td>0.07263691</td><td>0.0017586208</td><td>0.08218601</td><td>0.51909864</td><td>-0.011246099</td><td>0.51540416</td><td>0.10198456</td><td>0.00060682994</td><td>0.103607334</td><td>0.40435445</td><td>-0.04219123</td><td>0.40073103</td><td>0.067045756</td><td>-0.0030427803</td><td>0.060785253</td><td>0.45492563</td><td>0.0036385336</td><td>0.4217153</td><td>0.09929213</td><td>0.003808573</td><td>0.10285973</td><td>0.13281876</td><td>-0.06964493</td><td>30.3214364</td><td>-5.319455</td><td>0.6785</td><td>0.00084</td><td>21.48</td></tr>\n",
              "<tr><td>37471506598491866</td><td>30.294940271866935</td><td>-5.312972656616361</td><td>8520</td><td>103</td><td>0.09432528</td><td>0.0662606</td><td>0.047541108</td><td>0.036769394</td><td>0.031296197</td><td>1.0</td><td>1.0</td><td>1.0</td><td>1.0</td><td>1.0</td><td>0.09523955</td><td>-0.13611367</td><td>-0.44613966</td><td>0.07771591</td><td>0.90626794</td><td>1432.7025</td><td>18.923702</td><td>1433.9454</td><td>18.940119</td><td>1784.4242</td><td>23.811766</td><td>2584.4734</td><td>31.746998</td><td>2588.951</td><td>31.801998</td><td>3208.6604</td><td>39.83831</td><td>3083.74</td><td>45.986786</td><td>3086.1536</td><td>46.02278</td><td>3866.4453</td><td>57.96938</td><td>3204.8865</td><td>79.58984</td><td>3208.898</td><td>79.68945</td><td>3999.1787</td><td>99.788376</td><td>3334.446</td><td>184.37628</td><td>3337.7166</td><td>184.5571</td><td>4193.4697</td><td>232.86069</td><td>23.50961</td><td>0.014340833</td><td>23.508669</td><td>0.014340833</td><td>23.271254</td><td>0.014488312</td><td>22.869068</td><td>0.013336901</td><td>22.867191</td><td>0.013336901</td><td>22.63419</td><td>0.013480359</td><td>22.677305</td><td>0.016191222</td><td>22.676456</td><td>0.016191222</td><td>22.43172</td><td>0.016278377</td><td>22.635468</td><td>0.026963068</td><td>22.63411</td><td>0.026963064</td><td>22.395073</td><td>0.027091525</td><td>22.592442</td><td>0.060035158</td><td>22.591377</td><td>0.06003515</td><td>22.343567</td><td>0.060290232</td><td>0.3105188</td><td>-0.059567295</td><td>0.2580607</td><td>0.0825677</td><td>0.0031712656</td><td>0.083851844</td><td>0.25566515</td><td>-0.06328254</td><td>0.22852337</td><td>0.07231033</td><td>0.0014598526</td><td>0.08211669</td><td>0.26932514</td><td>-0.060245026</td><td>0.2686897</td><td>0.109671384</td><td>0.0020498522</td><td>0.11373905</td><td>0.24301179</td><td>-0.043912157</td><td>0.27305055</td><td>0.074632704</td><td>-0.0032772676</td><td>0.06909625</td><td>0.27498823</td><td>-0.05203083</td><td>0.17062898</td><td>0.10452779</td><td>0.0035602888</td><td>0.11027917</td><td>0.12058543</td><td>-0.2053051</td><td>30.2949199</td><td>-5.312946</td><td>0.5264</td><td>0.00076</td><td>22.472</td></tr>\n",
              "<tr><td>37471506598491921</td><td>30.355244288894525</td><td>-5.312633744061777</td><td>8520</td><td>103</td><td>0.0912981</td><td>0.0641341</td><td>0.04601537</td><td>0.035589352</td><td>0.03029181</td><td>1.0</td><td>1.0</td><td>1.0</td><td>1.0</td><td>1.0</td><td>0.12437533</td><td>0.44575047</td><td>0.7531023</td><td>1.029134</td><td>1.8492408</td><td>396.74588</td><td>17.384604</td><td>361.34167</td><td>15.847694</td><td>411.1511</td><td>18.021717</td><td>1989.9019</td><td>30.480442</td><td>1742.8865</td><td>26.755411</td><td>1988.3895</td><td>30.45728</td><td>6547.9736</td><td>47.07016</td><td>5734.419</td><td>41.324734</td><td>6543.284</td><td>47.03645</td><td>12774.054</td><td>76.103424</td><td>11223.342</td><td>67.0449</td><td>12766.166</td><td>76.05643</td><td>14770.962</td><td>198.14893</td><td>13256.795</td><td>178.06496</td><td>15104.173</td><td>202.62091</td><td>24.903719</td><td>0.047574766</td><td>25.005203</td><td>0.047618132</td><td>24.864996</td><td>0.047590364</td><td>23.15292</td><td>0.016630828</td><td>23.296827</td><td>0.01666736</td><td>23.153746</td><td>0.01663083</td><td>21.859732</td><td>0.0078048226</td><td>22.003777</td><td>0.00782429</td><td>21.86051</td><td>0.0078048226</td><td>21.134178</td><td>0.006468443</td><td>21.274694</td><td>0.006485864</td><td>21.13485</td><td>0.0064684427</td><td>20.976479</td><td>0.014564891</td><td>21.093903</td><td>0.014583583</td><td>20.952257</td><td>0.014565038</td><td>0.15949509</td><td>-0.04631736</td><td>0.16278072</td><td>0.08265026</td><td>-0.00027891478</td><td>0.08285254</td><td>0.1617161</td><td>-0.04409955</td><td>0.17751236</td><td>0.07858379</td><td>-0.00033980267</td><td>0.08358264</td><td>0.18453419</td><td>-0.044328205</td><td>0.21941654</td><td>0.10317754</td><td>0.00037477977</td><td>0.10799747</td><td>0.13117851</td><td>-0.03777712</td><td>0.13964587</td><td>0.06761492</td><td>-0.0016701538</td><td>0.06150551</td><td>0.18283373</td><td>-0.033270404</td><td>0.21589902</td><td>0.10895013</td><td>0.004009059</td><td>0.11041211</td><td>0.14231686</td><td>0.08526611</td><td>30.3552047</td><td>-5.312631</td><td>0.9242</td><td>0.00096</td><td>21.945</td></tr>\n",
              "<tr><td>37471506598492303</td><td>30.31195379616294</td><td>-5.303334426771336</td><td>8520</td><td>103</td><td>0.09274789</td><td>0.065152526</td><td>0.04674608</td><td>0.0361545</td><td>0.030772833</td><td>1.0</td><td>1.0</td><td>1.0</td><td>1.0</td><td>1.0</td><td>0.36532104</td><td>0.62917095</td><td>0.75334835</td><td>1.8015466</td><td>1.101945</td><td>2686.3555</td><td>43.564938</td><td>1909.418</td><td>31.050814</td><td>3063.5754</td><td>49.781162</td><td>5888.224</td><td>83.83933</td><td>3639.3389</td><td>52.257</td><td>5883.917</td><td>83.77803</td><td>12976.1875</td><td>103.59291</td><td>7960.375</td><td>64.1724</td><td>12962.355</td><td>103.48248</td><td>25618.658</td><td>208.92421</td><td>15758.253</td><td>131.08324</td><td>25604.926</td><td>208.81221</td><td>34147.04</td><td>413.71735</td><td>20951.809</td><td>256.80206</td><td>34202.18</td><td>414.38544</td><td>22.827091</td><td>0.01760751</td><td>23.197746</td><td>0.01765616</td><td>22.68443</td><td>0.017642526</td><td>21.975039</td><td>0.015459227</td><td>22.497444</td><td>0.015590006</td><td>21.975834</td><td>0.015459232</td><td>21.11713</td><td>0.008667766</td><td>21.647667</td><td>0.00875264</td><td>21.11829</td><td>0.008667766</td><td>20.378609</td><td>0.00885435</td><td>20.90623</td><td>0.009031572</td><td>20.379192</td><td>0.00885435</td><td>20.066618</td><td>0.01315452</td><td>20.596947</td><td>0.013307647</td><td>20.064865</td><td>0.01315452</td><td>0.6189206</td><td>0.30443218</td><td>1.4226203</td><td>0.07939796</td><td>4.8151924e-05</td><td>0.0821652</td><td>0.49024054</td><td>0.21497934</td><td>0.9248067</td><td>0.06974998</td><td>0.00060406566</td><td>0.08128837</td><td>0.44634187</td><td>0.11473247</td><td>0.6929679</td><td>0.102787204</td><td>0.0008409727</td><td>0.10276413</td><td>0.23218843</td><td>0.07327876</td><td>0.32936984</td><td>0.067396134</td><td>-0.0022254977</td><td>0.061166935</td><td>0.3191081</td><td>0.041051738</td><td>0.39493152</td><td>0.09958255</td><td>0.004329329</td><td>0.10188419</td><td>0.12820433</td><td>0.29586792</td><td>30.3119193</td><td>-5.303325</td><td>1.0557</td><td>0.00103</td><td>21.413</td></tr>\n",
              "<tr><td>37471506598492464</td><td>30.2807076106866</td><td>-5.301442651017018</td><td>8520</td><td>103</td><td>0.09401634</td><td>0.06604358</td><td>0.047385395</td><td>0.036648963</td><td>0.031193694</td><td>1.0</td><td>1.0</td><td>1.0</td><td>1.0</td><td>1.0</td><td>0.0028945738</td><td>0.49294147</td><td>1.1368587</td><td>3.9181852</td><td>2.3688872</td><td>525.28705</td><td>20.355936</td><td>451.05167</td><td>17.502634</td><td>546.1426</td><td>21.16957</td><td>3118.4692</td><td>36.81</td><td>2576.7295</td><td>30.503508</td><td>3116.3132</td><td>36.78455</td><td>10882.008</td><td>46.139698</td><td>8957.588</td><td>38.0205</td><td>10876.551</td><td>46.11656</td><td>20672.834</td><td>92.10224</td><td>17045.37</td><td>76.17725</td><td>20662.96</td><td>92.05825</td><td>25446.91</td><td>195.80505</td><td>20960.07</td><td>161.67412</td><td>25493.209</td><td>196.16127</td><td>24.599007</td><td>0.04207447</td><td>24.764435</td><td>0.042130966</td><td>24.556734</td><td>0.04208529</td><td>22.665146</td><td>0.012815886</td><td>22.872328</td><td>0.012853022</td><td>22.665897</td><td>0.012815886</td><td>21.308228</td><td>0.00460352</td><td>21.519522</td><td>0.0046084095</td><td>21.308771</td><td>0.00460352</td><td>20.6115</td><td>0.004837205</td><td>20.820984</td><td>0.00485225</td><td>20.612019</td><td>0.0048372047</td><td>20.385912</td><td>0.008354359</td><td>20.59652</td><td>0.008374754</td><td>20.383938</td><td>0.008354357</td><td>0.18494958</td><td>-0.0024151956</td><td>0.1930259</td><td>0.079232596</td><td>-6.498422e-05</td><td>0.08183513</td><td>0.18863666</td><td>-0.011859884</td><td>0.16569217</td><td>0.0695202</td><td>0.00026760905</td><td>0.08090821</td><td>0.23102276</td><td>-0.0022572414</td><td>0.20391238</td><td>0.09907994</td><td>-0.00026375314</td><td>0.102560684</td><td>0.1679506</td><td>-0.01682007</td><td>0.14053619</td><td>0.0725549</td><td>-0.0042318236</td><td>0.0625915</td><td>0.23717615</td><td>-0.0033490811</td><td>0.21544096</td><td>0.10208212</td><td>0.0039440934</td><td>0.105338395</td><td>0.13371007</td><td>-0.017227173</td><td>30.2806816</td><td>-5.301416</td><td>0.8128</td><td>0.00091</td><td>21.291</td></tr>\n",
              "<tr><td>37471510893430322</td><td>30.30356231635228</td><td>-5.259492701539417</td><td>8520</td><td>104</td><td>0.08996813</td><td>0.06319983</td><td>0.04534505</td><td>0.03507091</td><td>0.029850539</td><td>1.0</td><td>1.0</td><td>1.0</td><td>1.0</td><td>1.0</td><td>-0.017086433</td><td>-0.019198125</td><td>0.51269245</td><td>0.44553292</td><td>0.5664746</td><td>885.8256</td><td>20.96852</td><td>886.8492</td><td>20.99275</td><td>1176.1393</td><td>28.142921</td><td>2312.0798</td><td>36.488087</td><td>2315.871</td><td>36.547916</td><td>3069.8726</td><td>48.957787</td><td>4823.5234</td><td>44.907524</td><td>4829.407</td><td>44.9623</td><td>6450.4004</td><td>60.413548</td><td>6615.438</td><td>94.77401</td><td>6612.4634</td><td>94.73139</td><td>8764.6</td><td>127.10834</td><td>8052.155</td><td>181.98286</td><td>7920.214</td><td>178.99576</td><td>10624.673</td><td>241.11958</td><td>24.03163</td><td>0.025700634</td><td>24.030376</td><td>0.025700636</td><td>23.723854</td><td>0.025979735</td><td>22.989992</td><td>0.017134545</td><td>22.988213</td><td>0.017134545</td><td>22.682198</td><td>0.017315129</td><td>22.19159</td><td>0.010108321</td><td>22.190266</td><td>0.010108321</td><td>21.876034</td><td>0.010168853</td><td>21.848602</td><td>0.01555446</td><td>21.84909</td><td>0.01555446</td><td>21.543169</td><td>0.015745856</td><td>21.63522</td><td>0.024538198</td><td>21.653156</td><td>0.02453749</td><td>21.33421</td><td>0.02464003</td><td>0.20130454</td><td>0.09247445</td><td>0.44049597</td><td>0.079716064</td><td>-8.177234e-05</td><td>0.08179729</td><td>0.1975089</td><td>0.119811594</td><td>0.41583917</td><td>0.06901583</td><td>0.0010137776</td><td>0.08068721</td><td>0.22439386</td><td>0.08144862</td><td>0.4162233</td><td>0.10154239</td><td>-0.00015576954</td><td>0.104956344</td><td>0.19163182</td><td>0.08074589</td><td>0.32776678</td><td>0.07661547</td><td>-0.0029877296</td><td>0.06637742</td><td>0.24503218</td><td>0.055256587</td><td>0.34869546</td><td>0.102906145</td><td>0.0036999742</td><td>0.10569672</td><td>0.13777846</td><td>-0.030590057</td><td>30.3035382</td><td>-5.259463</td><td>0.6519</td><td>0.00083</td><td>22.161</td></tr>\n",
              "<tr><td>37471510893432632</td><td>30.37657526141208</td><td>-5.192464944943162</td><td>8520</td><td>104</td><td>0.08822963</td><td>0.06197859</td><td>0.04446882</td><td>0.034393214</td><td>0.029273719</td><td>1.0</td><td>1.0</td><td>1.0</td><td>1.0</td><td>1.0</td><td>0.102109425</td><td>0.20394222</td><td>-0.26990953</td><td>0.027733002</td><td>0.2518117</td><td>1110.4158</td><td>17.212898</td><td>1111.676</td><td>17.232435</td><td>1202.0988</td><td>18.673328</td><td>2663.8108</td><td>25.18531</td><td>2666.7698</td><td>25.21329</td><td>2872.987</td><td>27.256866</td><td>4921.8525</td><td>34.99819</td><td>4914.3174</td><td>34.944424</td><td>5321.038</td><td>37.873444</td><td>6537.889</td><td>63.535892</td><td>6545.6694</td><td>63.61151</td><td>7045.1743</td><td>68.693214</td><td>7811.1924</td><td>139.8408</td><td>7825.754</td><td>140.10149</td><td>8459.521</td><td>151.60355</td><td>23.786285</td><td>0.016830333</td><td>23.785053</td><td>0.016830333</td><td>23.70015</td><td>0.01686576</td><td>22.836243</td><td>0.01026522</td><td>22.835035</td><td>0.010265221</td><td>22.754166</td><td>0.010300696</td><td>22.169678</td><td>0.007720427</td><td>22.17134</td><td>0.0077203857</td><td>22.085009</td><td>0.007727922</td><td>21.861404</td><td>0.010551298</td><td>21.860115</td><td>0.010551299</td><td>21.78027</td><td>0.010586353</td><td>21.668205</td><td>0.019437522</td><td>21.666183</td><td>0.01943752</td><td>21.581635</td><td>0.019457538</td><td>0.15523887</td><td>0.007748029</td><td>0.12938116</td><td>0.09022922</td><td>-0.000767096</td><td>0.085139506</td><td>0.14701681</td><td>0.004359087</td><td>0.11888145</td><td>0.0769486</td><td>6.598075e-06</td><td>0.07957838</td><td>0.17657483</td><td>0.013415245</td><td>0.1561643</td><td>0.10183516</td><td>0.0012885598</td><td>0.10547274</td><td>0.15046033</td><td>0.003071042</td><td>0.10353588</td><td>0.074485905</td><td>-0.0034392804</td><td>0.064811334</td><td>0.16095495</td><td>0.006309912</td><td>0.13312227</td><td>0.10153723</td><td>0.0027459695</td><td>0.10558707</td><td>0.13697861</td><td>-0.017677307</td><td>30.3765456</td><td>-5.192441</td><td>0.6275</td><td>0.00081</td><td>22.152</td></tr>\n",
              "</table></div>"
            ],
            "text/plain": [
              "<Table length=1000>\n",
              "    object_id             ra         ... specz_redshift_err specz_mag_i\n",
              "      int64            float64       ...      float32         float32  \n",
              "----------------- ------------------ ... ------------------ -----------\n",
              "36411448540287158 30.562276872708594 ...              5e-05      19.515\n",
              "36411448540288304  30.57566834388161 ...              6e-05      17.902\n",
              "36411448540291562 30.549421220144136 ...            0.00011      18.447\n",
              "36411452835255019 30.547026411690943 ...            0.00012      18.664\n",
              "36411452835257744  30.54910651440308 ...              6e-05      18.383\n",
              "36411452835259516 30.613773931711872 ...              4e-05      17.722\n",
              "36411457130207348 30.577532296525625 ...            0.00083      20.295\n",
              "36411457130221504 30.608273624326912 ...              9e-05      19.667\n",
              "36411457130224053 30.609273127461343 ...              4e-05      18.869\n",
              "36411581684277685 30.485452948954237 ...            0.00018      19.524\n",
              "              ...                ... ...                ...         ...\n",
              "37471506598490799 30.279544787544737 ...              3e-05      16.537\n",
              "37471506598490802 30.282677304722867 ...            0.00089      21.409\n",
              "37471506598491243 30.319605976865482 ...            0.00091      22.181\n",
              "37471506598491450  30.32147037091635 ...            0.00084       21.48\n",
              "37471506598491866 30.294940271866935 ...            0.00076      22.472\n",
              "37471506598491921 30.355244288894525 ...            0.00096      21.945\n",
              "37471506598492303  30.31195379616294 ...            0.00103      21.413\n",
              "37471506598492464   30.2807076106866 ...            0.00091      21.291\n",
              "37471510893430322  30.30356231635228 ...            0.00083      22.161\n",
              "37471510893432632  30.37657526141208 ...            0.00081      22.152"
            ]
          },
          "metadata": {},
          "execution_count": 66
        }
      ]
    },
    {
      "cell_type": "code",
      "metadata": {
        "colab": {
          "base_uri": "https://localhost:8080/"
        },
        "id": "SKTz24ZgaymG",
        "outputId": "780616a6-299f-4702-b0fc-cb6be61068fe"
      },
      "source": [
        "# Let's have a look at the cutouts file\n",
        "cutouts.keys()"
      ],
      "execution_count": 67,
      "outputs": [
        {
          "output_type": "execute_result",
          "data": {
            "text/plain": [
              "<KeysViewHDF5 ['36411448540287158', '36411448540288304', '36411448540291562', '36411452835255019', '36411452835257744', '36411452835259516', '36411457130207348', '36411457130221504', '36411457130224053', '36411581684277685', '36411585979238387', '36411585979238568', '36411585979239457', '36411585979242403', '36411585979245887', '36411590274207452', '36411590274212062', '36411590274213554', '36411594569174444', '36411594569174875', '36411594569177094', '36411594569177260', '36411594569180078', '36411594569180437', '36411594569181301', '36411594569181522', '36411598864144598', '36411719123228936', '36411719123232150', '36411723418198880', '36411723418199392', '36411727713160867', '36411727713162690', '36411727713163519', '36411727713164695', '36411727713164760', '36411732008130294', '36411732008131445', '36411732008131881', '36411732008132499', '36411732008134943', '36411732008135247', '36411732008137199', '36411736303097068', '36411736303099856', '36411860857155041', '36411865152121150', '36411865152122785', '36411869447083464', '36411869447089777', '36411869447090856', '36411873742050645', '36411994001135075', '36411998296104492', '36412002591072971', '36412006886036212', '36412131440088374', '36412131440088691', '36412131440089480', '36412131440090932', '36412135735037828', '36412135735056708', '36412135735056896', '36412135735058671', '36412135735059700', '36412140030022243', '36412144324991752', '36412144324997098', '36412273174011488', '36412277468974140', '36412281763948076', '36412286058910770', '36412286058911033', '36412419202899400', '36412419202900149', '36412423497861959', '36412423497864238', '36412423497865247', '36415850881768340', '36415855176731816', '36415855176735869', '36415859471700157', '36415859471700526', '36415984025747449', '36415984025748555', '36415984025752233', '36415988320719179', '36415988320720698', '36415988320722146', '36415992615668457', '36415992615668660', '36415992615684315', '36415992615684439', '36415992615685582', '36415992615685782', '36415992615687029', '36415992615689649', '36415992615689799', '36415996910648913', '36416117169740031', '36416121464704286', '36416121464706176', '36416121464706231', '36416121464706481', '36416121464708012', '36416125759678137', '36416130054640186', '36416130054642344', '36416130054642423', '36416130054646558', '36416130054647240', '36416134349604091', '36416134349606739', '36416254608690420', '36416254608692061', '36416254608695665', '36416258903643118', '36416258903659115', '36416258903659616', '36416258903659782', '36416258903660880', '36416258903664150', '36416263198625972', '36416267493590297', '36416267493592083', '36416267493593178', '36416267493593625', '36416267493594045', '36416267493595051', '36416267493599156', '36416267493600364', '36416271788557679', '36416271788561350', '36416271788562069', '36416396342617475', '36416396342618471', '36416400637579824', '36416400637583568', '36416400637584655', '36416400637585413', '36416404932547246', '36416404932550177', '36416404932551039', '36416404932552600', '36416404932552924', '36416409227515396', '36416529486600375', '36416529486600644', '36416533781565012', '36416533781567155', '36416538076530608', '36416538076531506', '36416538076532406', '36416538076532894', '36416538076539005', '36416542371499493', '36416542371499774', '36416542371503255', '36416542371503815', '36416542371507427', '36416542371508350', '36416546666466484', '36416546666466931', '36416546666467984', '36416666925552760', '36416666925552932', '36416666925555479', '36416666925556274', '36416671220520331', '36416671220524426', '36416671220525714', '36416675515486243', '36416675515487220', '36416675515487582', '36416675515488454', '36416675515488621', '36416675515489975', '36416675515490608', '36416675515491002', '36416675515493803', '36416679810452683', '36416679810454971', '36416679810456414', '36416679810457177', '36416679810458099', '36416679810460409', '36416684105418898', '36416684105418996', '36416684105419891', '36416684105420145', '36416684105422607', '36416808659471924', '36416808659474276', '36416808659477199', '36416808659477275', '36416808659480627', '36416812954437726', '36416812954438898', '36416812954438993', '36416812954442500', '36416812954442592', '36416812954442622', '36416812954442673', '36416812954442845', '36416817249405152', '36416817249408124', '36416817249408466', '36416817249408900', '36416817249413514', '36416821544373122', '36416821544373550', '36416821544375419', '36416946098426768', '36416946098426902', '36416946098426979', '36416950393392661', '36416950393395464', '36416950393396944', '36416950393398207', '36416954688360625', '36416954688367311', '36420240338339799', '36420240338340874', '36420244633308598', '36420244633309545', '36420248928277142', '36420248928281330', '36420253223246094', '36420382072259180', '36420382072260066', '36420382072260400', '36420382072261601', '36420382072261624', '36420382072263376', '36420386367231662', '36420386367232057', '36420390662194836', '36420390662197677', '36420390662198691', '36420390662200410', '36420519511213295', '36420519511216580', '36420523806182295', '36420523806184099', '36420528101149487', '36420528101150729', '36420528101151269', '36420528101151270', '36420528101151445', '36420528101151447', '36420528101156152', '36420532396117702', '36420661245137158', '36420661245138330', '36420661245139440', '36420661245143635', '36420665540102055', '36420665540102601', '36420665540103783', '36420665540103983', '36420665540104421', '36420665540105203', '36420665540105764', '36420665540109665', '36420665540110571', '36420665540110980', '36420790094153729', '36420790094154675', '36420794389120304', '36420794389121334', '36420794389123284', '36420794389123663', '36420798684088167', '36420798684088407', '36420798684090488', '36420798684092697', '36420798684093515', '36420798684095471', '36420802979054777', '36420802979054837', '36420802979055777', '36420802979056661', '36420802979057767', '36420802979059212', '36420802979064346', '36420931828074365', '36420936123043317', '36420940418008435', '36420940418008989', '36420940418009248', '36420940418010237', '36420940418011628', '36420940418012039', '36420940418015104', '36420944712975371', '36420944712975966', '36420944712977810', '36420944712979695', '36420944712980276', '36420944712980760', '36421064972064820', '36421069267026230', '36421069267028633', '36421069267028658', '36421069267028817', '36421069267030018', '36421069267030857', '36421073561994939', '36421073561999144', '36421077856961560', '36421077856963033', '36421077856964976', '36421077856965867', '36421077856966494', '36421077856967455', '36421077856968693', '36421082151929621', '36421082151931212', '36421082151931529', '36421202411015032', '36421202411015936', '36421202411016435', '36421202411020744', '36421202411021179', '36421206705980668', '36421206705981919', '36421206705983526', '36421206705985305', '36421206705985787', '36421206705987590', '36421206705987812', '36421206705987896', '36421206705988498', '36421206705989708', '36421211000948825', '36421211000950704', '36421211000952092', '36421211000952094', '36421211000956016', '36421211000956055', '36421211000956323', '36421211000957559', '36421211000958948', '36421215295916381', '36421215295916457', '36421215295917782', '36421215295917810', '36421215295918428', '36421215295919581', '36421215295920437', '36421215295921696', '36421219590884069', '36421219590885821', '36421352734868230', '36421352734869211', '36421352734874999', '36421357029836963', '36424642679819136', '36424646974796167', '36424651269760582', '36424655564720613', '36424775823809628', '36424780118771491', '36424780118778034', '36424784413739727', '36424784413743067', '36424788708705369', '36424788708707372', '36424788708709879', '36424788708711230', '36424793003670787', '36424793003672225', '36424793003674433', '36424793003674752', '36424793003675029', '36424793003675174', '36424793003675354', '36424921852677464', '36424921852692470', '36424921852692471', '36424921852692794', '36424921852692814', '36424921852693407', '36424921852693696', '36424921852696691', '36424921852698518', '36424926147660568', '36424926147660722', '36424926147662244', '36424926147662878', '36424930442626510', '36424930442628019', '36424930442628651', '36424930442629661', '36424930442630129', '36424930442630423', '36425054996678160', '36425054996679763', '36425054996680239', '36425054996680707', '36425054996681142', '36425059291628144', '36425059291645245', '36425059291645246', '36425059291648713', '36425059291651508', '36425063586613161', '36425063586617435', '36425063586617796', '36425067881579624', '36425067881581486', '36425067881582550', '36425188140652026', '36425188140668463', '36425196730599022', '36425196730604637', '36425196730604762', '36425201025573465', '36425329874594073', '36425334169555800', '36425334169556790', '36425334169558000', '36425334169558158', '36425334169558159', '36425334169559388', '36425334169560177', '36425338464522061', '36425338464523765', '36425338464524840', '36425338464527802', '36425342759486518', '36425342759487499', '36425342759487567', '36425342759488607', '36425342759488633', '36425342759488825', '36425342759489107', '36425342759489467', '36425467313538738', '36425471608507405', '36425471608508531', '36425471608513581', '36425475903476750', '36425475903480016', '36425475903481093', '36425475903481147', '36425475903481788', '36425480198440371', '36425480198442367', '36425480198442538', '36425480198442935', '36425604752490674', '36425604752491590', '36425604752492093', '36425604752496905', '36425609047460238', '36425609047462849', '36425609047463016', '36425609047464467', '36425609047466570', '36425609047466656', '36425609047466872', '36425609047467427', '36425613342427688', '36425613342429000', '36425613342430783', '36425613342432993', '36425613342433643', '36425613342435297', '36425617637393673', '36425617637394494', '36425617637395216', '36425617637395600', '36425617637395875', '36425617637396984', '36425737896478431', '36425737896479028', '36425746486410990', '36425746486411428', '36425746486415681', '36425750781383152', '36425750781386150', '36425750781387963', '36429040726327137', '36429045021298035', '36429045021298119', '36429045021300681', '36429049316269487', '36429053611233510', '36429053611234466', '36429178165281612', '36429178165288553', '36429182460252032', '36429182460256039', '36429186755216799', '36429186755218059', '36429186755223153', '36429186755223512', '36429191050182750', '36429191050184423', '36429191050184986', '36429191050185849', '36429191050186251', '36429191050187094', '36429311309271062', '36429311309271577', '36429311309272578', '36429311309273277', '36429311309273771', '36429315604238594', '36429315604240656', '36429319899206506', '36429319899206863', '36429319899207208', '36429319899208053', '36429319899209948', '36429324194171124', '36429324194174112', '36429324194175322', '36429328489135997', '36429328489137927', '36429328489138253', '36429328489138389', '36429328489139708', '36429328489139850', '36429453043189544', '36429453043191301', '36429453043192785', '36429453043194212', '36429453043195485', '36429457338156786', '36429457338159634', '36429457338161112', '36429457338163120', '36429457338165197', '36429461633129678', '36429461633131825', '36429465928076617', '36429465928093221', '36429465928093318', '36429590482144513', '36429590482145196', '36429590482147911', '36429590482149309', '36429590482149683', '36429594777109824', '36429594777110539', '36429594777113860', '36429594777114236', '36429594777114445', '36429594777115698', '36429594777117436', '36429599072083512', '36429603367030803', '36429603367045608', '36429723626132858', '36429727921102898', '36429732216066411', '36429732216068054', '36429732216068982', '36429736511034259', '36429736511036736', '36429736511038787', '36429736511040533', '36429740805998197', '36429740805998572', '36429740805998781', '36429740806001243', '36429740806001704', '36429740806002073', '36429740806002230', '36429865360051286', '36429865360054848', '36429865360056717', '36429865360056777', '36429865360058083', '36429869655017504', '36429869655018917', '36429869655022152', '36429869655024388', '36429869655024738', '36429873949986249', '36429873949988843', '36429878244955951', '36429878244956574', '36429878244958354', '36430002799003142', '36430002799004026', '36430002799006498', '36430002799008822', '36430007093974100', '36430007093978084', '36430007093980065', '36430007093981101', '36430011388938870', '36430011388944120', '36430011388945541', '36430011388947075', '36430011388947552', '36430015683904969', '36430015683905095', '36430015683907472', '36430015683908899', '36430140237958318', '36430140237961044', '36430148827899297', '36430153122858702', '36430153122860125', '36430153122862491', '36430153122862698', '36430153122863146', '36433438772844329', '36433438772849595', '36433443067812144', '36433443067816718', '36433443067816967', '36433443067818300', '36433443067818441', '36433451657748560', '36433576211798090', '36433576211798812', '36433576211799319', '36433576211802915', '36433576211803481', '36433576211803846', '36433580506763417', '36433580506768509', '36433580506770869', '36433580506771305', '36433580506771790', '36433580506772788', '36433584801712287', '36433584801733066', '36433584801736202', '36433584801740618', '36433589096698724', '36433589096699429', '36433589096700715', '36433589096701240', '36433589096702486', '36433589096702796', '36433589096703455', '36433713650747210', '36433713650749695', '36433713650749905', '36433713650750445', '36433713650753245', '36433717945716415', '36433717945717108', '36433717945718067', '36433722240685100', '36433722240686920', '36433726535635518', '36433726535655037', '36433726535655657', '36433726535656171', '36433726535656594', '36433846794739417', '36433851089703492', '36433851089704236', '36433855384668561', '36433855384668741', '36433855384670164', '36433855384670714', '36433859679641357', '36433863974605016', '36433863974606498', '36433984233691530', '36433984233694514', '36433988528655182', '36433988528656924', '36433988528658410', '36433988528659746', '36433988528663215', '36433992823621358', '36433992823624253', '36433992823629102', '36433997118594039', '36433997118594620', '36434001413556871', '36434125967613646', '36434125967617642', '36434125967617935', '36434125967618265', '36434130262577173', '36434130262582267', '36434130262584001', '36434134557543237', '36434134557548886', '36434134557549457', '36434134557550035', '36434138852513151', '36434138852513192', '36434138852513631', '36434138852513701', '36434138852513955', '36434138852514624', '36434138852514736', '36434138852515079', '36434138852515175', '36434138852515222', '36434259111597397', '36434259111598769', '36434263406560871', '36434263406568282', '36434267701530795', '36434267701533956', '36434276291463256', '36434276291466745', '36434276291466999', '36434276291467476', '36434396550547724', '36434396550553627', '36434400845500967', '36434400845514023', '36434405140482177', '36434405140483921', '36434405140487174', '36434409435448745', '36434409435448765', '36434409435451855', '36434409435454714', '36434413730401252', '36434413730401619', '36434413730421324', '36434538284467277', '36434538284468200', '36434542579440109', '36434546874410591', '36434551169369508', '36434551169371833', '36434551169372686', '36437982848248885', '36437982848249982', '36438115992234437', '36438115992240747', '36438120287199000', '36438120287202212', '36438120287202781', '36438124582167384', '36438124582168846', '36438249136217145', '36438257726152392', '36438257726152741', '36438257726153103', '36438257726153567', '36438257726154239', '36438257726154925', '36438257726156675', '36438257726157769', '36438257726158491', '36438257726159202', '36438257726160490', '36438257726160802', '36438262021118438', '36438262021119724', '36438382280203427', '36438386575170562', '36438386575176934', '36438395165105093', '36438395165107013', '36438395165107860', '36438395165113183', '36438519719157161', '36438524014123648', '36438524014123994', '36438532604059259', '36438532604059451', '36438532604066557', '36438536899026230', '36438665748045143', '36438665748048083', '36438665748048409', '36438798892031493', '36438798892032401', '36438803186996618', '36438803186997854', '36438803186999027', '36438803186999868', '36438803186999879', '36438807481964097', '36438807481965046', '36438807481965825', '36438807481966615', '36438807481967306', '36438807481969668', '36438811776930495', '36438811776930600', '36438811776931421', '36438811776932660', '36438811776932839', '36443205528480676', '36443209823445979', '37466971113015561', '37466971113019676', '37466975407988714', '37467112846939754', '37467130026811133', '37471356274631728', '37471360569594719', '37471360569598861', '37471369159529870', '37471369159532662', '37471369159532696', '37471369159532971', '37471369159533487', '37471369159533948', '37471369159533977', '37471369159534120', '37471369159534280', '37471369159534398', '37471369159534687', '37471369159535509', '37471369159535526', '37471369159535698', '37471369159535943', '37471369159536156', '37471373454476948', '37471373454478807', '37471373454480719', '37471373454493882', '37471373454493933', '37471373454494255', '37471373454494557', '37471373454494578', '37471373454494591', '37471373454494956', '37471373454495155', '37471373454496047', '37471373454496372', '37471373454498446', '37471373454498782', '37471373454498862', '37471373454498867', '37471373454498875', '37471373454499240', '37471373454499723', '37471373454500411', '37471373454500550', '37471373454500575', '37471373454501257', '37471373454501905', '37471373454502384', '37471377749445257', '37471377749446251', '37471377749447161', '37471377749447804', '37471377749449749', '37471377749463710', '37471377749463792', '37471377749463803', '37471377749463849', '37471377749464063', '37471377749464197', '37471377749464644', '37471377749465048', '37471377749465205', '37471377749465853', '37471377749466256', '37471377749466344', '37471377749466550', '37471377749466626', '37471377749466631', '37471377749466634', '37471377749466662', '37471377749466961', '37471377749467044', '37471377749467067', '37471377749467088', '37471377749467441', '37471377749467864', '37471377749467884', '37471377749467901', '37471377749467952', '37471377749468083', '37471377749468223', '37471377749468636', '37471377749468843', '37471377749468846', '37471377749469256', '37471377749469284', '37471377749469598', '37471377749469693', '37471377749469703', '37471377749470014', '37471377749470846', '37471377749470944', '37471377749471404', '37471377749471670', '37471382044411653', '37471382044411799', '37471382044411996', '37471382044412383', '37471382044413025', '37471382044413426', '37471382044413864', '37471382044414533', '37471382044417419', '37471382044432509', '37471382044432559', '37471382044432770', '37471382044433280', '37471382044433642', '37471382044433731', '37471382044433818', '37471382044433888', '37471382044434420', '37471382044434752', '37471382044434950', '37471382044434998', '37471382044435019', '37471382044435116', '37471382044435309', '37471382044435394', '37471382044436390', '37471382044436711', '37471382044437204', '37471382044437400', '37471382044437877', '37471382044438139', '37471382044438230', '37471382044438794', '37471382044439358', '37471382044439529', '37471382044439870', '37471382044440016', '37471382044440352', '37471382044440363', '37471382044440648', '37471382044440649', '37471386339380988', '37471386339383112', '37471386339398601', '37471386339398614', '37471386339398647', '37471386339399319', '37471386339400517', '37471386339400860', '37471386339400934', '37471386339401031', '37471386339401269', '37471386339401484', '37471386339401550', '37471386339402253', '37471386339402524', '37471386339402540', '37471386339402660', '37471386339405377', '37471386339406037', '37471386339406102', '37471386339406208', '37471386339406211', '37471386339406413', '37471386339406490', '37471386339406761', '37471386339406772', '37471386339406852', '37471390634344986', '37471390634365666', '37471390634366007', '37471390634366368', '37471390634366851', '37471390634367049', '37471390634367265', '37471390634367807', '37471390634368162', '37471390634368165', '37471390634368426', '37471390634368544', '37471390634368565', '37471390634368704', '37471390634368898', '37471390634369095', '37471493713585875', '37471493713585996', '37471498008549793', '37471498008551710', '37471502303517677', '37471502303519918', '37471506598465902', '37471506598467156', '37471506598467729', '37471506598484965', '37471506598489125', '37471506598489605', '37471506598489797', '37471506598489834', '37471506598489944', '37471506598490089', '37471506598490574', '37471506598490799', '37471506598490802', '37471506598491243', '37471506598491450', '37471506598491866', '37471506598491921', '37471506598492303', '37471506598492464', '37471510893430322', '37471510893432632']>"
            ]
          },
          "metadata": {},
          "execution_count": 67
        }
      ]
    },
    {
      "cell_type": "code",
      "metadata": {
        "colab": {
          "base_uri": "https://localhost:8080/"
        },
        "id": "wJtP0Urma9Pt",
        "outputId": "f6309e12-a0ed-47c9-a990-e1301e3b6182"
      },
      "source": [
        "cutouts['36411448540288304'].keys()"
      ],
      "execution_count": 69,
      "outputs": [
        {
          "output_type": "execute_result",
          "data": {
            "text/plain": [
              "<KeysViewHDF5 ['HSC-G', 'HSC-I', 'HSC-R', 'HSC-Y', 'HSC-Z']>"
            ]
          },
          "metadata": {},
          "execution_count": 69
        }
      ]
    },
    {
      "cell_type": "code",
      "metadata": {
        "colab": {
          "base_uri": "https://localhost:8080/"
        },
        "id": "pVdTu2sabB0m",
        "outputId": "db7a0958-a69a-4cbc-f26c-73afac2f7811"
      },
      "source": [
        "cutouts['36411448540288304']['HSC-I'].keys()"
      ],
      "execution_count": 70,
      "outputs": [
        {
          "output_type": "execute_result",
          "data": {
            "text/plain": [
              "<KeysViewHDF5 ['HDU0', 'HDU1', 'HDU2', 'PRIMARY']>"
            ]
          },
          "metadata": {},
          "execution_count": 70
        }
      ]
    },
    {
      "cell_type": "code",
      "metadata": {
        "colab": {
          "base_uri": "https://localhost:8080/"
        },
        "id": "3HtX-JLUbGcG",
        "outputId": "fe879361-0622-4b66-e496-f4c9b1f5b837"
      },
      "source": [
        "cutouts['36411448540288304']['HSC-I']['HDU0'].keys()"
      ],
      "execution_count": 73,
      "outputs": [
        {
          "output_type": "execute_result",
          "data": {
            "text/plain": [
              "<KeysViewHDF5 ['DATA']>"
            ]
          },
          "metadata": {},
          "execution_count": 73
        }
      ]
    },
    {
      "cell_type": "code",
      "metadata": {
        "colab": {
          "base_uri": "https://localhost:8080/"
        },
        "id": "eTsyUIVDbKj3",
        "outputId": "129a2e83-4e33-4da4-ba9c-4695b8b3058a"
      },
      "source": [
        "im = cutouts['36411448540288304']['HSC-I']['HDU0']['DATA']\n",
        "im.shape"
      ],
      "execution_count": 81,
      "outputs": [
        {
          "output_type": "execute_result",
          "data": {
            "text/plain": [
              "(67, 66)"
            ]
          },
          "metadata": {},
          "execution_count": 81
        }
      ]
    },
    {
      "cell_type": "code",
      "metadata": {
        "colab": {
          "base_uri": "https://localhost:8080/",
          "height": 285
        },
        "id": "r0VxueWqbS7m",
        "outputId": "973fe697-ef5c-4b0e-9fc3-dc6c3754e795"
      },
      "source": [
        "imshow(im, cmap='gray_r')"
      ],
      "execution_count": 82,
      "outputs": [
        {
          "output_type": "execute_result",
          "data": {
            "text/plain": [
              "<matplotlib.image.AxesImage at 0x7f72245f8550>"
            ]
          },
          "metadata": {},
          "execution_count": 82
        },
        {
          "output_type": "display_data",
          "data": {
            "image/png": "[encoded data removed]",
            "text/plain": [
              "<Figure size 432x288 with 1 Axes>"
            ]
          },
          "metadata": {
            "needs_background": "light"
          }
        }
      ]
    },
    {
      "cell_type": "code",
      "metadata": {
        "id": "RH31x75Tbx6p"
      },
      "source": [
        "def stack_bands(cutout, target_size=64):\n",
        "  import numpy as np\n",
        "\n",
        "  filters = ['HSC-G', 'HSC-R', 'HSC-I', 'HSC-Z', 'HSC-Y']\n",
        "\n",
        "  # Retrieve the cutouts in all the bands\n",
        "  im = [cutout[f]['HDU0']['DATA'][:] for f in filters]\n",
        "\n",
        "  # Stack all bands in one array\n",
        "  im_size = min([min(i.shape) for i in im])\n",
        "  im = np.stack([i[:im_size, :im_size] for i in im], axis=-1).astype('float32')\n",
        "\n",
        "  # Resize image to target size\n",
        "  centh = im.shape[0]/2\n",
        "  centw = im.shape[1]/2\n",
        "  lh, rh = int(centh-target_size/2), int(centh+target_size/2)\n",
        "  lw, rw = int(centw-target_size/2), int(centw+target_size/2)\n",
        "  cropped = im[lh:rh, lw:rw, :]\n",
        "  assert cropped.shape[0]==target_size and cropped.shape[1]==target_size, f\"Wrong size! Still {cropped.shape}\"\n",
        "  return cropped"
      ],
      "execution_count": 105,
      "outputs": []
    },
    {
      "cell_type": "code",
      "metadata": {
        "colab": {
          "base_uri": "https://localhost:8080/"
        },
        "id": "7SH5uCjNbnnk",
        "outputId": "abb4b6b4-2f4d-4c89-cb99-ccde024fb1c8"
      },
      "source": [
        "im = stack_bands(cutouts['36411448540288304'])\n",
        "im.shape"
      ],
      "execution_count": 96,
      "outputs": [
        {
          "output_type": "execute_result",
          "data": {
            "text/plain": [
              "(64, 64, 5)"
            ]
          },
          "metadata": {},
          "execution_count": 96
        }
      ]
    },
    {
      "cell_type": "code",
      "metadata": {
        "colab": {
          "base_uri": "https://localhost:8080/",
          "height": 305
        },
        "id": "zhwa2R58deLX",
        "outputId": "4f621cc3-0690-4d19-842e-5cd8f7173d80"
      },
      "source": [
        "imshow(im[:,:,:3]);"
      ],
      "execution_count": 103,
      "outputs": [
        {
          "output_type": "stream",
          "name": "stderr",
          "text": [
            "WARNING:matplotlib.image:Clipping input data to the valid range for imshow with RGB data ([0..1] for floats or [0..255] for integers).\n"
          ]
        },
        {
          "output_type": "display_data",
          "data": {
            "image/png": "[encoded data removed]",
            "text/plain": [
              "<Figure size 432x288 with 1 Axes>"
            ]
          },
          "metadata": {
            "needs_background": "light"
          }
        }
      ]
    },
    {
      "cell_type": "markdown",
      "metadata": {
        "id": "fphimvGXdzxv"
      },
      "source": [
        "## Let's create a new TensorFlow Dataset for our HSC data"
      ]
    },
    {
      "cell_type": "markdown",
      "metadata": {
        "id": "WbOSPK6PeAdL"
      },
      "source": [
        "### Step I: Create a new empty dataset file"
      ]
    },
    {
      "cell_type": "code",
      "metadata": {
        "colab": {
          "base_uri": "https://localhost:8080/"
        },
        "id": "jkQsIVDWeFuz",
        "outputId": "fbe5d194-3dc7-4f74-9cd4-854e0d665b89"
      },
      "source": [
        "!tfds new hsc_photoz"
      ],
      "execution_count": 104,
      "outputs": [
        {
          "output_type": "stream",
          "name": "stdout",
          "text": [
            "2021-12-01 10:10:43.061256: E tensorflow/stream_executor/cuda/cuda_driver.cc:271] failed call to cuInit: CUDA_ERROR_NO_DEVICE: no CUDA-capable device is detected\n",
            "Dataset generated at /content/hsc_photoz\n",
            "You can start searching `TODO(hsc_photoz)` to complete the implementation.\n",
            "Please check https://www.tensorflow.org/datasets/add_dataset for additional details.\n"
          ]
        }
      ]
    },
    {
      "cell_type": "markdown",
      "metadata": {
        "id": "UAzClbUweekk"
      },
      "source": [
        "You can now find the empty template for defining your dataset in the `hsc_photoz` folder. \n",
        "\n",
        "Open `hsc_photoz/hsc_photoz.py` and take a look!"
      ]
    },
    {
      "cell_type": "markdown",
      "metadata": {
        "id": "xsVgSidHofSJ"
      },
      "source": [
        "We will start by adding a few important imports at the top of the file:\n",
        "\n",
        "```python\n",
        "\"\"\"hsc_photoz dataset.\"\"\"\n",
        "import numpy as np\n",
        "import tensorflow as tf\n",
        "...\n",
        "```"
      ]
    },
    {
      "cell_type": "markdown",
      "metadata": {
        "id": "zofWST2mfDm2"
      },
      "source": [
        "### Step II: Define your dataset metadata\n",
        "\n",
        "In the `_info()` method, there are two important things to define:\n",
        "- The features\n",
        "- The supervised keys \n"
      ]
    },
    {
      "cell_type": "markdown",
      "metadata": {
        "id": "PhkUK8yzfrz2"
      },
      "source": [
        "#### Features\n",
        "\n",
        "In our dataset, we have a set of images of size 64x64 with 5 bands, and a bunch of associated keys.\n",
        "\n",
        "\n",
        "```python\n",
        "    ...,\n",
        "    features=tfds.features.FeaturesDict({\n",
        "    'image': tfds.features.Tensor(shape=(64, 64, 5), dtype=tf.float32),\n",
        "    'attrs': {k: tf.float32 for k in ['specz_redshift', 'a_g', 'a_r', 'a_i', 'a_z', 'a_y']}\n",
        "        }),\n",
        "    ...,\n",
        "```"
      ]
    },
    {
      "cell_type": "markdown",
      "metadata": {
        "id": "sYXkuW-AhREL"
      },
      "source": [
        "#### Supervised keys\n",
        "\n",
        "The main task we want to do with this dataset is to infer redshifts from images, so we can explicitly define the following supervised keys:\n",
        "\n",
        "```python\n",
        "    ...,\n",
        "    supervised_keys=('image', 'attrs/specz_redshift'),\n",
        "    ...,\n",
        "```\n"
      ]
    },
    {
      "cell_type": "markdown",
      "metadata": {
        "id": "LcUtZtO1iK_f"
      },
      "source": [
        "### Step III: Define how to download your data\n",
        "\n",
        "One very nice feature of TensorFlow dataset is that you tell it how to download the data from the internet, so that you can easily share the dataset with other people.\n",
        "\n",
        "This is defined inside the `_split_generators()` method.\n",
        "\n",
        "You can modify your function to the following:\n",
        "\n",
        "```python\n",
        "  def _split_generators(self, dl_manager: tfds.download.DownloadManager):\n",
        "    \"\"\"Returns SplitGenerators.\"\"\"\n",
        "    # Let TF dataset download our data and put automatically in a temporary folder\n",
        "    catalog_path = dl_manager.download('https://storage.googleapis.com/ahw2019/hsc_photoz/data/catalog_small.fits')\n",
        "    cutouts_path = dl_manager.download('https://storage.googleapis.com/ahw2019/hsc_photoz/data/cutouts_small.hdf')\n",
        "    return [\n",
        "        tfds.core.SplitGenerator(\n",
        "            name=tfds.Split.TRAIN,\n",
        "            # These kwargs will be passed to _generate_examples\n",
        "            gen_kwargs={'catalog_path': catalog_path,\n",
        "                        'cutouts_path': cutouts_path},\n",
        "        ),\n",
        "    ]\n",
        "```"
      ]
    },
    {
      "cell_type": "markdown",
      "metadata": {
        "id": "4spRhen9joFI"
      },
      "source": [
        "### Step IV: Define how to read your data from the native files\n",
        "\n",
        "\n",
        "```python\n",
        "  def _generate_examples(self, catalog_path, cutouts_path):\n",
        "    \"\"\"Yields examples.\"\"\"\n",
        "    from astropy.table import Table\n",
        "    import h5py\n",
        "\n",
        "    # Loading the data that was downloaded at the previous step\n",
        "    catalog = Table.read(catalog_path)\n",
        "    cutouts = h5py.File(cutouts_path, 'r')\n",
        "\n",
        "    # Go through the examples\n",
        "    for object_id in catalog['object_id']:\n",
        "      row = catalog[catalog['object_id'] == object_id]\n",
        "      cutout = cutouts[str(object_id)]\n",
        "\n",
        "      # extract image from cutouts\n",
        "      im = stack_bands(cutout)\n",
        "      \n",
        "      yield object_id, {'image': im, \n",
        "                        'attrs':{k: np.asscalar(row[k]) for k in ['specz_redshift', 'a_g', 'a_r', 'a_i', 'a_z', 'a_y']}}\n",
        "```\n",
        "\n",
        "and **don't forget to also add our `stack_bands()` function** to your file as well ;-) "
      ]
    },
    {
      "cell_type": "markdown",
      "metadata": {
        "id": "tAZhjV6GlSyC"
      },
      "source": [
        "### Step V: Profit!\n",
        "\n",
        "Make sure you have saved your edited file, and you should now be able to do the following:"
      ]
    },
    {
      "cell_type": "code",
      "metadata": {
        "id": "NG5xz_rXfCb3"
      },
      "source": [
        "import hsc_photoz"
      ],
      "execution_count": 106,
      "outputs": []
    },
    {
      "cell_type": "code",
      "metadata": {
        "colab": {
          "base_uri": "https://localhost:8080/",
          "height": 318,
          "referenced_widgets": [
            "983f4c096efd435cb77c2093a6df4346",
            "d784de73eeba4d958c211f9696ec2434",
            "165da6c31e4a48cdb641897dee0c6e89",
            "6d02d88307e840a8a7e41f5ade494a10",
            "89da681136d941088113e6695026289f",
            "4d5ccab8880344f58098d6db52eb6694",
            "59050a1db74a4f2d977566f383efe422",
            "1c6c7292e03442918f29d674e9901a5c",
            "f85d3b15386547ee9da2a1c34a9fad40",
            "c3b6201e883846ef8717eb4ed049b1e0",
            "7eb4b1b0eaca4e0ea94f8dec395b6667",
            "ed20a41b3d384f53931be6f8e66ffaba",
            "6a93cea042964cf387847c7e7b419765",
            "5916df80cbe54e68ab5292f684d47568",
            "4c9d258297384188a5863323663ef7e7",
            "f7253883e3ae4b6f84c6e7ab2bd68c45",
            "664f926a6d4741d3b8ce9a52edfb5683",
            "1bc714c921984bc2b8546568911bb838",
            "a2f0317e610e4f67b30d1cdb5bab792f",
            "1ea1100429454a5da45a6fdf00a9e610",
            "12449453765c4488a8570fefa54aa89b",
            "5160b8043d634b54afe78d1387374776",
            "5e5d6ce75371487295f9090df51b0a64",
            "20da6c4a6d0f4f979c6d7238c6c1ebde",
            "65635ecc9f9a4d31bd1f12313ec5337c",
            "68f68e30f4ba4ff5a116430b85194a93",
            "2c9265d6eaf740aea16cfc6313ae2185",
            "203d1760d9144b1c81d51833b602c664",
            "89362a9b4cb1485cb8d0a9be650b1168",
            "a2740554421d42b4bd4c1eab452403ea",
            "8bef76bfa78c4bd8bc082c465e544011",
            "d876004b0e3e40a2955f18f89ac8be97",
            "a689a2b0e71043a5918b163833581fb4",
            "2dd184bea3994e29aadbbb6453526b22",
            "b1cf77a9af9d42f6868a1bfdfcd82e67",
            "82d59529b8c844beb141f7ee08c6951f",
            "d8b87974ed264127b47b49348ae8f30d",
            "f979551002604e3fae662212023575d5",
            "e6877492c6944fc9b8c48ba0e5b2bcd2",
            "d06267c85ab648f181fd9d6ca346adda",
            "1292df43c4ca466f8026a27af8466f18",
            "d55858da2ea14fb295ce686fea3cea18",
            "87c040f7e6c04559a0a719a6f2263bc0",
            "22a54ce6fac247e791bb0e5461c39fee",
            "fba16936be6b4392b5b238905efa6056",
            "6fc731a4dbf04fe1ae150a7e801306bf",
            "21e4402d8fb54b71b472311f87c3a2fe",
            "bf9a49b264684a52ba1af89ee4c74107",
            "ab23b17a18c34faf9cf88173bf98c0ce",
            "e422f59d2e2a415fbeaa8ad283a8db9c",
            "3f487cb952294445b516b2afc25deb4e",
            "98c9e4e2056840d59b5d773885f08123",
            "a054b431284e457e979c65aa15fe4c43",
            "1a9a87fb57e94eafb5d2f5340641bb31",
            "2a809a79fe2a47d7b55bd4b02a50bf3b",
            "6a2dab172f9943138f4e65816b462cc3",
            "ec14602bfec54213abb9b19279b4e599",
            "bd7f31a5159d427f98870c4d188f514d",
            "745264433d4d42d5ada0d6f92d838dd9",
            "afb92bab3aa54cc886aa6ddfd1c07afe",
            "7f9c7c64492f4eb891737d63d58af927",
            "5556928899a042d98f211012debf06ea",
            "4ac28092f21d41db98f40036cef75594",
            "bbd07003aa5a4bf8b26f62b0d2309b6e",
            "763c53f6b2f3452c83d31b99ffce7d3d",
            "9e3e09ec996e4f12b90441a44d0844d5"
          ]
        },
        "id": "zDxE0fa6eJkL",
        "outputId": "724ca3f2-9ee9-4ca0-db7d-c7863860559c"
      },
      "source": [
        "dset = tfds.load('hsc_photoz', split='train')"
      ],
      "execution_count": 112,
      "outputs": [
        {
          "output_type": "stream",
          "name": "stdout",
          "text": [
            "\u001b[1mDownloading and preparing dataset hsc_photoz/1.0.0 (download: Unknown size, generated: Unknown size, total: Unknown size) to /root/tensorflow_datasets/hsc_photoz/1.0.0...\u001b[0m\n"
          ]
        },
        {
          "output_type": "display_data",
          "data": {
            "application/vnd.jupyter.widget-view+json": {
              "model_id": "983f4c096efd435cb77c2093a6df4346",
              "version_minor": 0,
              "version_major": 2
            },
            "text/plain": [
              "Dl Completed...: 0 url [00:00, ? url/s]"
            ]
          },
          "metadata": {}
        },
        {
          "output_type": "display_data",
          "data": {
            "application/vnd.jupyter.widget-view+json": {
              "model_id": "ed20a41b3d384f53931be6f8e66ffaba",
              "version_minor": 0,
              "version_major": 2
            },
            "text/plain": [
              "Dl Size...: 0 MiB [00:00, ? MiB/s]"
            ]
          },
          "metadata": {}
        },
        {
          "output_type": "stream",
          "name": "stdout",
          "text": [
            "\n",
            "\n"
          ]
        },
        {
          "output_type": "display_data",
          "data": {
            "application/vnd.jupyter.widget-view+json": {
              "model_id": "5e5d6ce75371487295f9090df51b0a64",
              "version_minor": 0,
              "version_major": 2
            },
            "text/plain": [
              "Dl Completed...: 0 url [00:00, ? url/s]"
            ]
          },
          "metadata": {}
        },
        {
          "output_type": "display_data",
          "data": {
            "application/vnd.jupyter.widget-view+json": {
              "model_id": "2dd184bea3994e29aadbbb6453526b22",
              "version_minor": 0,
              "version_major": 2
            },
            "text/plain": [
              "Dl Size...: 0 MiB [00:00, ? MiB/s]"
            ]
          },
          "metadata": {}
        },
        {
          "output_type": "stream",
          "name": "stdout",
          "text": [
            "\n",
            "\n"
          ]
        },
        {
          "output_type": "display_data",
          "data": {
            "application/vnd.jupyter.widget-view+json": {
              "model_id": "fba16936be6b4392b5b238905efa6056",
              "version_minor": 0,
              "version_major": 2
            },
            "text/plain": [
              "0 examples [00:00, ? examples/s]"
            ]
          },
          "metadata": {}
        },
        {
          "output_type": "stream",
          "name": "stdout",
          "text": [
            "Shuffling and writing examples to /root/tensorflow_datasets/hsc_photoz/1.0.0.incomplete51TY3M/hsc_photoz-train.tfrecord\n"
          ]
        },
        {
          "output_type": "display_data",
          "data": {
            "application/vnd.jupyter.widget-view+json": {
              "model_id": "6a2dab172f9943138f4e65816b462cc3",
              "version_minor": 0,
              "version_major": 2
            },
            "text/plain": [
              "  0%|          | 0/1000 [00:00<?, ? examples/s]"
            ]
          },
          "metadata": {}
        },
        {
          "output_type": "stream",
          "name": "stdout",
          "text": [
            "\u001b[1mDataset hsc_photoz downloaded and prepared to /root/tensorflow_datasets/hsc_photoz/1.0.0. Subsequent calls will reuse this data.\u001b[0m\n"
          ]
        }
      ]
    },
    {
      "cell_type": "code",
      "metadata": {
        "colab": {
          "base_uri": "https://localhost:8080/"
        },
        "id": "NySDH9ykeJZv",
        "outputId": "4baecf51-47cb-4251-e760-1a9c6a68ad90"
      },
      "source": [
        "dset"
      ],
      "execution_count": 113,
      "outputs": [
        {
          "output_type": "execute_result",
          "data": {
            "text/plain": [
              "<PrefetchDataset shapes: {attrs: {a_g: (), a_i: (), a_r: (), a_y: (), a_z: (), specz_redshift: ()}, image: (64, 64, 5)}, types: {attrs: {a_g: tf.float32, a_i: tf.float32, a_r: tf.float32, a_y: tf.float32, a_z: tf.float32, specz_redshift: tf.float32}, image: tf.float32}>"
            ]
          },
          "metadata": {},
          "execution_count": 113
        }
      ]
    },
    {
      "cell_type": "code",
      "metadata": {
        "colab": {
          "base_uri": "https://localhost:8080/"
        },
        "id": "RqSr2ZhonYrT",
        "outputId": "4d6cef2c-595e-4554-9f74-9426901ec66e"
      },
      "source": [
        "for example in dset.take(1):\n",
        "  print(example['attrs']['specz_redshift'])"
      ],
      "execution_count": 114,
      "outputs": [
        {
          "output_type": "stream",
          "name": "stdout",
          "text": [
            "tf.Tensor(0.78139, shape=(), dtype=float32)\n"
          ]
        }
      ]
    },
    {
      "cell_type": "code",
      "metadata": {
        "colab": {
          "base_uri": "https://localhost:8080/",
          "height": 322
        },
        "id": "rAJB5j6lnkx7",
        "outputId": "69095327-a492-4041-9963-97b0f5dd4dad"
      },
      "source": [
        "imshow(example['image'][:,:,0:3])"
      ],
      "execution_count": 116,
      "outputs": [
        {
          "output_type": "stream",
          "name": "stderr",
          "text": [
            "WARNING:matplotlib.image:Clipping input data to the valid range for imshow with RGB data ([0..1] for floats or [0..255] for integers).\n"
          ]
        },
        {
          "output_type": "execute_result",
          "data": {
            "text/plain": [
              "<matplotlib.image.AxesImage at 0x7f72248c7290>"
            ]
          },
          "metadata": {},
          "execution_count": 116
        },
        {
          "output_type": "display_data",
          "data": {
            "image/png": "[encoded data removed]",
            "text/plain": [
              "<Figure size 432x288 with 1 Axes>"
            ]
          },
          "metadata": {
            "needs_background": "light"
          }
        }
      ]
    },
    {
      "cell_type": "code",
      "metadata": {
        "id": "yfR43wZ_zvRT"
      },
      "source": [
        ""
      ],
      "execution_count": null,
      "outputs": []
    }
  ]
}